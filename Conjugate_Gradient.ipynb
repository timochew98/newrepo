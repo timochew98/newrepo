{
 "cells": [
  {
   "cell_type": "code",
   "execution_count": 1,
   "metadata": {},
   "outputs": [],
   "source": [
    "import numpy as np\n",
    "from scipy.stats import unitary_group\n",
    "#fixed!!\n",
    "nDim = 2\n",
    "Ns = 2\n",
    "Nc = 2\n",
    "\n",
    "Nx = 4\n",
    "Nt = 4\n",
    "lattice_volume = Nt * Nx"
   ]
  },
  {
   "cell_type": "code",
   "execution_count": null,
   "metadata": {},
   "outputs": [],
   "source": []
  },
  {
   "cell_type": "code",
   "execution_count": 2,
   "metadata": {},
   "outputs": [],
   "source": [
    "Pauli = []\n",
    "Pauli.append(np.array([[0, 1], [1, 0]]))\n",
    "Pauli.append(np.array([[0,-1j], [1j, 0]]))\n",
    "Pauli.append(np.array([[1, 0], [0, -1]]))\n",
    "Id = np.array([[1, 0], [0, 1]])\n",
    "gamma5 = 1j*np.matmul(Pauli[2], Pauli[0])"
   ]
  },
  {
   "cell_type": "code",
   "execution_count": 3,
   "metadata": {},
   "outputs": [],
   "source": [
    "def Transpose(array):\n",
    "    axes = np.arange(len(array.shape))\n",
    "    axes[-2:] = np.flip(axes[-2:]) \n",
    "    return np.transpose(array, axes = axes)"
   ]
  },
  {
   "cell_type": "code",
   "execution_count": 4,
   "metadata": {},
   "outputs": [],
   "source": [
    "def ConjugateTranspose2(array):\n",
    "    axes = np.arange(len(array.shape))\n",
    "    axes[-2:] = np.flip(axes[-2:]) \n",
    "    return np.conjugate(np.transpose(array, axes = axes))"
   ]
  },
  {
   "cell_type": "code",
   "execution_count": 5,
   "metadata": {},
   "outputs": [],
   "source": [
    "def RandomSU2matrix():\n",
    "    tmp = np.random.rand(3)\n",
    "    a = np.sqrt(sum(tmp*tmp))\n",
    "    tmp /= a\n",
    "    out = np.array([[0.j,0.j],[0.j,0.j]])\n",
    "    for i in range(3):\n",
    "        out += Pauli[i] * tmp[i]\n",
    "    out *= np.sin(a) * 1j\n",
    "    return Id * np.cos(a) + out"
   ]
  },
  {
   "cell_type": "markdown",
   "metadata": {},
   "source": [
    "Dirac Lagrangian on the lattice using Wilson fermions:\n",
    "\n",
    "$\\overline{\\psi}_x D_{xy}[U] \\psi_y = \\overline{\\psi}_x \\left[ (m_q+2) \\delta_{xy} -\\frac{1}{2}\\sum_{\\mu} \\left(\\Gamma_{+\\mu} U_\\mu(x) \\delta_{x+\\hat\\mu,y} + \\Gamma_{-\\mu} U^\\dagger_\\mu(x-\\hat\\mu) \\delta_{x-\\hat\\mu,y} \\right) \\right] \\psi_y$,\n",
    "\n",
    "where $\\Gamma_{\\pm \\mu} = \\mathbb{1} \\mp \\gamma_\\mu$, $\\gamma_\\mu$ are the Dirac $\\gamma$-matrices, $U_\\mu(x)$ is the gauge link at site $x$ pointing at direction $\\mu$, and $\\hat\\mu$ is a unit vector pointing in direction $\\mu$.\n",
    "\n",
    "Note that the $\\Gamma$'s are $2 \\times 2$ matrices in 2 spacetime dimensions. Dirac and colour indices have been suppressed in the above formula for clarity."
   ]
  },
  {
   "cell_type": "markdown",
   "metadata": {},
   "source": [
    "Calculating D, and inverting D is numerically slow, therefore we use the approximation where we can expand the inverse acting on a vector by a sum over applying D multiple times to this same vector. For this we need to Calculate D, which is sparse, and then compute the Matrix-Vector multiplication, which can be done for CSR Sparse matrices. Other way to do this (maybe not possible in the optical hardware?) is to directly apply D to the vector, and this is also implemented"
   ]
  },
  {
   "cell_type": "code",
   "execution_count": 6,
   "metadata": {},
   "outputs": [],
   "source": [
    "def RandomGaugeLinks(lattice_volume, nDim, Nc):\n",
    "    gauge_links = np.zeros((lattice_volume, nDim, Nc,Nc),dtype = 'complex_' )\n",
    "    for i in range(lattice_volume):\n",
    "        for j in range(nDim):\n",
    "            gauge_links[i,j] = unitary_group.rvs(Nc)\n",
    "            \n",
    "    return gauge_links"
   ]
  },
  {
   "cell_type": "code",
   "execution_count": 7,
   "metadata": {},
   "outputs": [],
   "source": [
    "psi = np.random.randn(lattice_volume, 2, 2)"
   ]
  },
  {
   "cell_type": "code",
   "execution_count": 8,
   "metadata": {},
   "outputs": [],
   "source": [
    "gauge_links = np.zeros((lattice_volume, nDim, 2,2),dtype = 'complex_' )\n",
    "for i in range(lattice_volume):\n",
    "    for j in range(nDim):\n",
    "        gauge_links[i,j] = RandomSU2matrix()"
   ]
  },
  {
   "cell_type": "code",
   "execution_count": 9,
   "metadata": {},
   "outputs": [],
   "source": [
    "def LinearToLattice(array, Nt, Nx):\n",
    "    return np.reshape(array, np.roll(np.append(np.array(array[0].shape), [Nx,Nt]),2))\n",
    "def LatticeToLinear(array, lattice_volume):\n",
    "    return np.reshape(array, np.roll(np.append(np.array(array[0,0].shape), lattice_volume),1))"
   ]
  },
  {
   "cell_type": "markdown",
   "metadata": {},
   "source": [
    "# Sparse Matrix Multiplication"
   ]
  },
  {
   "cell_type": "code",
   "execution_count": 10,
   "metadata": {},
   "outputs": [],
   "source": [
    "def CalculateD(Nx,Nt,Ns,Nc,lattice_volume,gauge_links,m,Pauli):\n",
    "    #Delta_x_y, dependent only on the onsite\n",
    "    diagonal = (m+2)\n",
    "    \n",
    "    #Symetric derivative, each dimension multiplied by a gamma matrix, in 2D, and in this choice, they are pauli matrices\n",
    "    offdiagonal_spinor_x_plus = Id - Pauli[0]\n",
    "    offdiagonal_spinor_x_minus = Id + Pauli[0]\n",
    "    offdiagonal_spinor_t_plus = Id - Pauli[2]\n",
    "    offdiagonal_spinor_t_minus = Id + Pauli[2]\n",
    "    \n",
    "    gauge_links = LinearToLattice(gauge_links, Nt,Nx)\n",
    "    gauge_links_shifted_t = np.roll(gauge_links[:,:,0], 1, axis = 0)\n",
    "    gauge_links_shifted_x = np.roll(gauge_links[:,:,1], 1, axis = 1)\n",
    "    gauge_links = LatticeToLinear(gauge_links, lattice_volume) * (-0.5)\n",
    "    gauge_links_shifted_t = LatticeToLinear(gauge_links_shifted_t, lattice_volume) * (-0.5)\n",
    "    gauge_links_shifted_x = LatticeToLinear(gauge_links_shifted_x, lattice_volume) * (-0.5)\n",
    "    \n",
    "    \n",
    "    #In each row they are 2^d (next Neighbors) + 1 (onsite)\n",
    "    row_index = np.arange(0,(2**nDim+1)*lattice_volume+1, 2**nDim+1)\n",
    "\n",
    "\n",
    "    col_index = np.array([])\n",
    "    values_spinors = np.array([])\n",
    "    values_colors = np.array([])\n",
    "    for i in range(lattice_volume):\n",
    "        #Just moving in time and space to the next neighbors considering periodic boundary\n",
    "        col_index = np.append(col_index,\n",
    "                                 np.array([(i%Nx) +((np.floor((i/Nt))-1)%Nt)*Nt\n",
    "                                           ,(np.floor(i/4)*4)+((i%Nx)-1)%Nx, i,\n",
    "                                           (np.floor(i/4)*4)+((i%Nx)+1)%Nx, (i%Nx) +((np.floor((i/Nt))+1)%Nt)*Nt]))\n",
    "        #Choose the right values depending on direction in space-time, according to the order from above in col_index\n",
    "        \n",
    "        values_spinors = np.append(values_spinors, np.array([offdiagonal_spinor_t_minus, \n",
    "                                         offdiagonal_spinor_x_minus, np.sqrt(diagonal)*np.identity(Ns), \n",
    "                                                             offdiagonal_spinor_x_plus, offdiagonal_spinor_t_plus]))\n",
    "        #We have to use sqrt of diagonal instead of diagonal, because we perform two matrix multiplication\n",
    "        \n",
    "#         values_colors = np.append(values_colors, np.array([gauge_links[(i%Nx) +((np.floor((i/Nt))-1)%Nt)*Nt,0].T, \n",
    "#                                          gauge_links[(np.floor(i/4)*4)+((i%Nx)-1)%Nx,1].T, diagonal*np.identity(Nc), \n",
    "#                                                              gauge_links[i,1], \n",
    "#                                                            offdiagonal_spinor_t_plus]))\n",
    "        values_colors = np.append(values_colors, np.array([ConjugateTranspose2(gauge_links_shifted_t[i]), \n",
    "                                         ConjugateTranspose2(gauge_links_shifted_x[i]), np.sqrt(diagonal)*np.identity(Nc), \n",
    "                                                             gauge_links[i,1], gauge_links[i,0]]))\n",
    "    \n",
    "        #I feel the transpose should be opposite, or idk\n",
    "        \n",
    "        #Maybe it's smart to add a value_diagonal, and separate all three, we could eliminate the diagonal term in col\n",
    "        #and then we can choose the correct gauge link using the col_index. Or maybe we could move the gauge_link to right\n",
    "        #The problem with the first approach, is that the positive u dont shift the gauge link. Therefore, maybe only\n",
    "        #considere specific elements of col_index, namely the minus part and the diagonal part. \n",
    "        \n",
    "        \n",
    "    values_spinors = np.reshape(values_spinors, (lattice_volume*(2**nDim+1), Ns,Ns))\n",
    "    values_colors = np.reshape(values_colors, (lattice_volume*(2**nDim+1), Nc,Nc))\n",
    "    return row_index.astype(int), col_index.astype(int), values_spinors, values_colors"
   ]
  },
  {
   "cell_type": "code",
   "execution_count": 11,
   "metadata": {},
   "outputs": [],
   "source": [
    "def CalculateD_flatten(Nx,Nt,Ns,Nc,lattice_volume,gauge_links,m,Pauli):\n",
    "    #Delta_x_y, dependent only on the onsite\n",
    "    diagonal = (m+2)\n",
    "   \n",
    "    #Symetric derivative, each dimension multiplied by a gamma matrix, in 2D, and in this choice, they are pauli matrices\n",
    "    offdiagonal_spinor_x_plus = Id - Pauli[0]\n",
    "    offdiagonal_spinor_x_minus = Id + Pauli[0]\n",
    "    offdiagonal_spinor_t_plus = Id - Pauli[2]\n",
    "    offdiagonal_spinor_t_minus = Id + Pauli[2]\n",
    "   \n",
    "    gauge_links = LinearToLattice(gauge_links, Nt,Nx)\n",
    "    gauge_links_shifted_t = np.roll(gauge_links[:,:,0], 1, axis = 0)\n",
    "    gauge_links_shifted_x = np.roll(gauge_links[:,:,1], 1, axis = 1)\n",
    "    gauge_links = LatticeToLinear(gauge_links, lattice_volume) * (-0.5)\n",
    "    gauge_links_shifted_t_T = ConjugateTranspose2(LatticeToLinear(gauge_links_shifted_t, lattice_volume) * (-0.5)) #.T correct?\n",
    "    gauge_links_shifted_x_T = ConjugateTranspose2(LatticeToLinear(gauge_links_shifted_x, lattice_volume) * (-0.5))\n",
    "   \n",
    "    offdiag_x_plus = np.kron(gauge_links[:,1,:,:],offdiagonal_spinor_x_plus) #Careful with U dimension t,x\n",
    "    offdiag_x_minus = np.kron(gauge_links_shifted_x_T,offdiagonal_spinor_x_minus)\n",
    "    offdiag_t_plus = np.kron(gauge_links[:,0,:,:],offdiagonal_spinor_t_plus)\n",
    "    offdiag_t_minus = np.kron(gauge_links_shifted_t_T,offdiagonal_spinor_t_minus)\n",
    "\n",
    "    #In each row they are 2^d (next Neighbors) + 1 (onsite)\n",
    "    row_index = np.arange(0,(2**nDim+1)*lattice_volume+1, 2**nDim+1)\n",
    "\n",
    "\n",
    "    col_index = np.array([])\n",
    "    values = np.array([])\n",
    "\n",
    "    for i in range(lattice_volume):\n",
    "        #Just moving in time and space to the next neighbors considering periodic boundary\n",
    "        col_index = np.append(col_index,\n",
    "                                 np.array([(i%Nx) +((np.floor((i/Nt))-1)%Nt)*Nt\n",
    "                                           ,(np.floor(i/4)*4)+((i%Nx)-1)%Nx, i,\n",
    "                                           (np.floor(i/4)*4)+((i%Nx)+1)%Nx, (i%Nx) +((np.floor((i/Nt))+1)%Nt)*Nt]))\n",
    "        #Choose the right values depending on direction in space-time, according to the order from above in col_index\n",
    "       \n",
    "        values = np.append(values, np.array([offdiag_t_minus[i],\n",
    "                                         offdiag_x_minus[i], diagonal*np.identity(Ns*Nc),\n",
    "                                                             offdiag_x_plus[i], offdiag_t_plus[i]]))\n",
    "\n",
    "       \n",
    "    values = np.reshape(values, (lattice_volume*(2**nDim+1), Ns*Nc,Ns*Nc))\n",
    "    return row_index.astype(int), col_index.astype(int), values\n"
   ]
  },
  {
   "cell_type": "code",
   "execution_count": 12,
   "metadata": {},
   "outputs": [],
   "source": [
    "def SparseMatrixVectorMultiplication(rows, cols, vals, input_vec):\n",
    "    out_vec = np.zeros(input_vec.shape,dtype = 'complex_')\n",
    "    for i in range(input_vec[:,0].size):\n",
    "        row_elem = rows[i]\n",
    "        num_elements = rows[i+1] - rows[i]\n",
    "\n",
    "        output = np.zeros(input_vec[0].shape,dtype = 'complex_')\n",
    "        for j in range(num_elements):\n",
    "            output = output + np.matmul(vals[row_elem + j],  input_vec[cols[row_elem + j]])\n",
    "        out_vec[i] = output\n",
    "    \n",
    "    return out_vec"
   ]
  },
  {
   "cell_type": "code",
   "execution_count": 13,
   "metadata": {},
   "outputs": [],
   "source": [
    "def SparseMatrixVectorMultiplication2(rows, cols, values_spinors, values_colors, input_vec):\n",
    "    out_vec = np.zeros(input_vec.shape,dtype = 'complex_')\n",
    "    for i in range(input_vec[:,0,0].size):\n",
    "        row_elem = rows[i]\n",
    "        num_elements = rows[i+1] - rows[i]\n",
    "\n",
    "        output = np.zeros(input_vec[0].shape,dtype = 'complex_')\n",
    "        for j in range(num_elements):\n",
    "            output = output + np.matmul(np.matmul(values_colors[row_elem + j],  input_vec[cols[row_elem + j]]),\n",
    "                                        values_spinors[row_elem + j].T)\n",
    "        out_vec[i] = output\n",
    "    \n",
    "    return out_vec"
   ]
  },
  {
   "cell_type": "markdown",
   "metadata": {},
   "source": [
    "#### Test random U"
   ]
  },
  {
   "cell_type": "code",
   "execution_count": 14,
   "metadata": {},
   "outputs": [],
   "source": [
    "Ns = 2\n",
    "Nc = 3\n",
    "m = 1\n",
    "psi = np.random.randn(lattice_volume,Nc,Ns)\n",
    "psi_flatten = np.reshape(psi, (lattice_volume, Nc*Ns))\n",
    "gauge_links = np.random.randn(lattice_volume, nDim, Nc,Nc)\n",
    "rows, cols, values = CalculateD_flatten(Nx,Nt,Ns,Nc,lattice_volume,gauge_links,m,Pauli)\n",
    "psi_new_flatten = SparseMatrixVectorMultiplication(rows, cols, values, psi_flatten)\n",
    "rows, cols, values_spinors, values_colors = CalculateD(Nx,Nt,Ns,Nc,lattice_volume,gauge_links,m,Pauli)\n",
    "psi_new = SparseMatrixVectorMultiplication2(rows, cols, values_spinors, values_colors, psi)"
   ]
  },
  {
   "cell_type": "code",
   "execution_count": 15,
   "metadata": {},
   "outputs": [
    {
     "data": {
      "text/plain": [
       "(6.067498337284559e-15+0j)"
      ]
     },
     "execution_count": 15,
     "metadata": {},
     "output_type": "execute_result"
    }
   ],
   "source": [
    "psi_new_reshaped = np.reshape(psi_new_flatten, (lattice_volume,Nc,Ns))\n",
    "np.sqrt(np.sum((psi_new-psi_new_reshaped)**2))"
   ]
  },
  {
   "cell_type": "markdown",
   "metadata": {},
   "source": [
    "#### Test unitary U"
   ]
  },
  {
   "cell_type": "code",
   "execution_count": 16,
   "metadata": {},
   "outputs": [
    {
     "data": {
      "text/plain": [
       "(4.203427098877386e-15+1.4331898054452267e-16j)"
      ]
     },
     "execution_count": 16,
     "metadata": {},
     "output_type": "execute_result"
    }
   ],
   "source": [
    "gauge_links = np.zeros((lattice_volume, nDim, Nc,Nc),dtype = 'complex_' )\n",
    "for i in range(lattice_volume):\n",
    "    for j in range(nDim):\n",
    "        gauge_links[i,j] = unitary_group.rvs(Nc)\n",
    "        \n",
    "Ns = 2\n",
    "Nc = 3\n",
    "m = 1\n",
    "psi = np.random.randn(lattice_volume,Nc,Ns)\n",
    "psi_flatten = np.reshape(psi, (lattice_volume, Nc*Ns))\n",
    "rows, cols, values = CalculateD_flatten(Nx,Nt,Ns,Nc,lattice_volume,gauge_links,m,Pauli)\n",
    "psi_new_flatten = SparseMatrixVectorMultiplication(rows, cols, values, psi_flatten)\n",
    "rows, cols, values_spinors, values_colors = CalculateD(Nx,Nt,Ns,Nc,lattice_volume,gauge_links,m,Pauli)\n",
    "psi_new = SparseMatrixVectorMultiplication2(rows, cols, values_spinors, values_colors, psi)\n",
    "psi_new_reshaped = np.reshape(psi_new_flatten, (lattice_volume,Nc,Ns))\n",
    "np.sqrt(np.sum((psi_new-psi_new_reshaped)**2))"
   ]
  },
  {
   "cell_type": "markdown",
   "metadata": {},
   "source": [
    "# Apply D directly"
   ]
  },
  {
   "cell_type": "code",
   "execution_count": 17,
   "metadata": {},
   "outputs": [],
   "source": [
    "def applyD(lattice_volume,Nt, Nx ,gauge_links,m,Pauli,psi):\n",
    "    #I find it easier to broadcast when working with a 2D system, probably not ideal for big calculations, can be corrected\n",
    "    if len(gauge_links) ==lattice_volume:\n",
    "        gauge_links = LinearToLattice(gauge_links, Nt,Nx)\n",
    "    if len(psi) ==lattice_volume:\n",
    "        psi = LinearToLattice(psi, Nt,Nx)\n",
    "\n",
    "    diagonal = (m+2)\n",
    "    #Symetric derivative, each dimension multiplied by a gamma matrix, in 2D, and in this choice, they are pauli matrices\n",
    "    offdiagonal_spinor_x_plus = Id - Pauli[0]\n",
    "    offdiagonal_spinor_x_minus = Id + Pauli[0]\n",
    "    offdiagonal_spinor_t_plus = Id - Pauli[2]\n",
    "    offdiagonal_spinor_t_minus = Id + Pauli[2]\n",
    "\n",
    "    gauge_links_shifted_t = np.roll(gauge_links[:,:,0], 1, axis = 0)\n",
    "    gauge_links_shifted_x = np.roll(gauge_links[:,:,1], 1, axis = 1)\n",
    "\n",
    "    #define jx, and jt, for choosing the right values for the neighbours considering periodic boundary\n",
    "    psi_shifted_m_t = np.roll(psi, 1, axis = 0)\n",
    "    psi_shifted_p_t = np.roll(psi, -1, axis = 0)\n",
    "    psi_shifted_m_x = np.roll(psi, 1, axis = 1)\n",
    "    psi_shifted_p_x = np.roll(psi, -1, axis = 1)\n",
    "\n",
    "\n",
    "    #Apply the gamma matrices to the sum of NN, (maybe this part is not right in sense of the spin indices, idk)\n",
    "    time_contribution_m = np.matmul(ConjugateTranspose2(gauge_links_shifted_t), psi_shifted_m_t)\n",
    "    time_contribution_p = np.matmul(gauge_links[:,:,0,:,:], psi_shifted_p_t)\n",
    "    space_contribution_m = np.matmul(ConjugateTranspose2(gauge_links_shifted_x), psi_shifted_m_x)\n",
    "    space_contribution_p = np.matmul(gauge_links[:,:,1,:,:], psi_shifted_p_x)\n",
    "\n",
    "    # Estos matmuls son diferentes a los matmul\n",
    "    time_contribution_m = np.matmul(time_contribution_m, Transpose(offdiagonal_spinor_t_minus))\n",
    "    time_contribution_p = np.matmul(time_contribution_p, Transpose(offdiagonal_spinor_t_plus))\n",
    "    space_contribution_m = np.matmul(space_contribution_m, Transpose(offdiagonal_spinor_x_minus))\n",
    "    space_contribution_p = np.matmul(space_contribution_p, Transpose(offdiagonal_spinor_x_plus))\n",
    "    \n",
    "\n",
    "    #Apply psi on the diagonal\n",
    "    self_contribution = diagonal*psi\n",
    "    #Add all\n",
    "    psi_new = self_contribution -0.5* (time_contribution_m + \n",
    "                                       time_contribution_p + space_contribution_m + space_contribution_p)\n",
    "    \n",
    "    return psi_new"
   ]
  },
  {
   "cell_type": "code",
   "execution_count": 18,
   "metadata": {},
   "outputs": [],
   "source": [
    "def applyD_flatten(lattice_volume,Nt, Nx ,gauge_links,m,Pauli,psi):\n",
    "    #I find it easier to broadcast when working with a 2D system, probably not ideal for big calculations, can be corrected\n",
    "    if len(gauge_links) ==lattice_volume:\n",
    "        gauge_links = LinearToLattice(gauge_links, Nt,Nx)\n",
    "    if len(psi) ==lattice_volume:\n",
    "        psi = LinearToLattice(psi, Nt,Nx)\n",
    "    print(gauge_links.shape)\n",
    "    diagonal = (m+2)\n",
    "    #Symetric derivative, each dimension multiplied by a gamma matrix, in 2D, and in this choice, they are pauli matrices\n",
    "    offdiagonal_spinor_x_plus = Id - Pauli[0]\n",
    "    offdiagonal_spinor_x_minus = Id + Pauli[0]\n",
    "    offdiagonal_spinor_t_plus = Id - Pauli[2]\n",
    "    offdiagonal_spinor_t_minus = Id + Pauli[2]\n",
    "\n",
    "    gauge_links_shifted_t = np.roll(gauge_links[:,:,0], 1, axis = 0)\n",
    "    gauge_links_shifted_x = np.roll(gauge_links[:,:,1], 1, axis = 1)\n",
    "   \n",
    "    offdiagonal_spinor_x_plus = Id - Pauli[0]\n",
    "    offdiagonal_spinor_x_minus = Id + Pauli[0]\n",
    "    offdiagonal_spinor_t_plus = Id - Pauli[2]\n",
    "    offdiagonal_spinor_t_minus = Id + Pauli[2]\n",
    "\n",
    "\n",
    "   \n",
    "\n",
    "   \n",
    "   \n",
    "   \n",
    "    #define jx, and jt, for choosing the right values for the neighbours considering periodic boundary\n",
    "    psi_shifted_m_t = np.roll(psi, 1, axis = 0)\n",
    "    psi_shifted_p_t = np.roll(psi, -1, axis = 0)\n",
    "    psi_shifted_m_x = np.roll(psi, 1, axis = 1)\n",
    "    psi_shifted_p_x = np.roll(psi, -1, axis = 1)\n",
    "\n",
    "\n",
    "    offdiag_x_plus = np.kron(gauge_links[:,:,1,:,:],offdiagonal_spinor_x_plus) #Careful with U dimension t,x\n",
    "    offdiag_x_minus = np.kron(ConjugateTranspose2(gauge_links_shifted_x),offdiagonal_spinor_x_minus)\n",
    "    offdiag_t_plus = np.kron(gauge_links[:,:,0,:,:],offdiagonal_spinor_t_plus)\n",
    "    offdiag_t_minus = np.kron(ConjugateTranspose2(gauge_links_shifted_t),offdiagonal_spinor_t_minus)\n",
    "   \n",
    "\n",
    "    #Apply the gamma matrices to the sum of NN, (maybe this part is not right in sense of the spin indices, idk)\n",
    "    time_contribution_m = np.matmul(offdiag_t_minus, psi_shifted_m_t[:,:,:,None]) #Do this without None\n",
    "    time_contribution_p = np.matmul(offdiag_t_plus, psi_shifted_p_t[:,:,:,None])\n",
    "    space_contribution_m = np.matmul(offdiag_x_minus, psi_shifted_m_x[:,:,:,None])\n",
    "    space_contribution_p = np.matmul(offdiag_x_plus, psi_shifted_p_x[:,:,:,None])\n",
    "\n",
    "\n",
    "\n",
    "    #Apply psi on the diagonal\n",
    "    self_contribution = diagonal*psi\n",
    "    #Add all\n",
    "    psi_new = self_contribution -0.5* np.squeeze((time_contribution_m +  #Squeeze is weird!\n",
    "                                       time_contribution_p + space_contribution_m + space_contribution_p))\n",
    "   \n",
    "    return psi_new"
   ]
  },
  {
   "cell_type": "markdown",
   "metadata": {},
   "source": [
    "#### Test random U"
   ]
  },
  {
   "cell_type": "code",
   "execution_count": 19,
   "metadata": {},
   "outputs": [
    {
     "name": "stdout",
     "output_type": "stream",
     "text": [
      "(4, 4, 2, 3, 3)\n"
     ]
    },
    {
     "data": {
      "text/plain": [
       "4.368131539346454e-15"
      ]
     },
     "execution_count": 19,
     "metadata": {},
     "output_type": "execute_result"
    }
   ],
   "source": [
    "Ns = 2\n",
    "Nc = 3\n",
    "m = 1\n",
    "psi = np.random.randn(lattice_volume,Nc,Ns)\n",
    "psi_flatten = np.reshape(psi, (lattice_volume, Nc*Ns))\n",
    "gauge_links = np.random.randn(lattice_volume, nDim, Nc,Nc)\n",
    "psi_new2 = applyD(lattice_volume,Nt, Nx ,gauge_links,m,Pauli,psi)\n",
    "psi_new2_flatten = applyD_flatten(lattice_volume,Nt, Nx ,gauge_links,m,Pauli,psi_flatten)\n",
    "\n",
    "psi_new2_reshaped = np.reshape(psi_new2_flatten, (Nt,Nx,Nc,Ns))\n",
    "np.sqrt(np.sum((psi_new2 - psi_new2_reshaped)**2))"
   ]
  },
  {
   "cell_type": "markdown",
   "metadata": {},
   "source": [
    "#### Test unitary U"
   ]
  },
  {
   "cell_type": "code",
   "execution_count": 20,
   "metadata": {},
   "outputs": [
    {
     "name": "stdout",
     "output_type": "stream",
     "text": [
      "(4, 4, 2, 3, 3)\n"
     ]
    },
    {
     "data": {
      "text/plain": [
       "(1.235525559952609e-15-7.232804590703526e-17j)"
      ]
     },
     "execution_count": 20,
     "metadata": {},
     "output_type": "execute_result"
    }
   ],
   "source": [
    "gauge_links = np.zeros((lattice_volume, nDim, Nc,Nc),dtype = 'complex_' )\n",
    "for i in range(lattice_volume):\n",
    "    for j in range(nDim):\n",
    "        gauge_links[i,j] = unitary_group.rvs(Nc)\n",
    "Ns = 2\n",
    "Nc = 3\n",
    "m = 1\n",
    "psi = np.random.randn(lattice_volume,Nc,Ns)\n",
    "psi_flatten = np.reshape(psi, (lattice_volume, Nc*Ns))\n",
    "psi_new2 = applyD(lattice_volume,Nt, Nx ,gauge_links,m,Pauli,psi)\n",
    "psi_new2_flatten = applyD_flatten(lattice_volume,Nt, Nx ,gauge_links,m,Pauli,psi_flatten)\n",
    "\n",
    "psi_new2_reshaped = np.reshape(psi_new2_flatten, (Nt,Nx,Nc,Ns))\n",
    "np.sqrt(np.sum((psi_new2 - psi_new2_reshaped)**2))"
   ]
  },
  {
   "cell_type": "code",
   "execution_count": null,
   "metadata": {},
   "outputs": [],
   "source": []
  },
  {
   "cell_type": "code",
   "execution_count": 21,
   "metadata": {},
   "outputs": [
    {
     "name": "stdout",
     "output_type": "stream",
     "text": [
      "(7.021719254729954e-14+0j)\n",
      "(896,)\n"
     ]
    }
   ],
   "source": [
    "def MatMul(matrix1, matrix2, shape1, shape2):\n",
    "    first_index = 0\n",
    "    while len(shape1)>len(shape2):\n",
    "        shape2.append(1)\n",
    "    if shape1[0] == shape2[0]:\n",
    "        dimension_flattened1 = shape1[1]*shape1[2]\n",
    "        dimension_flattened2 = shape2[1]*shape2[2]\n",
    "        dimension_flattened_result = shape1[1]*shape2[2]\n",
    "\n",
    "        matrix_result = np.zeros((shape1[0]* dimension_flattened_result), dtype = 'complex_')\n",
    "\n",
    "        for lattice_number in range(shape1[0]):\n",
    "            for first_index in range(shape1[1]):\n",
    "                for second_index in range(shape2[2]):\n",
    "                    start_index1 = lattice_number*dimension_flattened1\n",
    "                    array1 = matrix1[start_index1 + first_index*shape1[2] : start_index1 + (first_index+1)*shape1[2]]\n",
    "\n",
    "\n",
    "                    #Here, the second_index should be used for a general matrix multiplication, if needed\n",
    "                    start_index2 = lattice_number*dimension_flattened2\n",
    "                    array2 = matrix2[start_index2 + second_index*shape2[1] : start_index2 + (second_index+1)*shape2[1]]\n",
    "\n",
    "\n",
    "                    start_index = (lattice_number*dimension_flattened_result) +first_index*shape2[2]\n",
    "                    end_index = (lattice_number*dimension_flattened_result) + (first_index+1)*shape2[2]\n",
    "                    matrix_result[start_index : end_index] = np.dot(array1,array2)\n",
    "\n",
    "\n",
    "            \n",
    "    return matrix_result\n",
    "\n",
    "\n",
    "dim1 = 56\n",
    "dim2 = 100\n",
    "matrix1 = np.random.randn(16*dim1*dim2)\n",
    "matrix2 = np.random.randn(16*dim2)\n",
    "shape1 = [16,dim1,dim2]\n",
    "shape2 = [16,dim2]\n",
    "\n",
    "matrix1_rs = np.reshape(matrix1,shape1)\n",
    "matrix2_rs = np.reshape(matrix2,shape2)\n",
    "\n",
    "matrix_result = MatMul(matrix1, matrix2, shape1, shape2)\n",
    "matrix_result_reshaped = np.reshape(matrix_result, (16,dim1,1))\n",
    "matrix_result_matmul = np.matmul(matrix1_rs,matrix2_rs[:,:,None])\n",
    "print(np.sqrt(np.sum((matrix_result_matmul - matrix_result_reshaped)**2)))\n",
    "print(matrix_result.shape)"
   ]
  },
  {
   "cell_type": "code",
   "execution_count": 22,
   "metadata": {},
   "outputs": [
    {
     "data": {
      "text/plain": [
       "0j"
      ]
     },
     "execution_count": 22,
     "metadata": {},
     "output_type": "execute_result"
    }
   ],
   "source": [
    "def Roll_t(matrix,shape,roll, Nt,Nx):\n",
    "    if len(shape)==3:\n",
    "        shape.append(1)\n",
    "    matrix_result = np.zeros(matrix.shape, dtype = 'complex_')\n",
    "    rolled_indices = np.roll(np.arange(Nt),roll)\n",
    "    size0 = shape[1]*shape[2]*shape[3]\n",
    "    for t in range(Nt):\n",
    "        start_index = t*size0\n",
    "        end_index = (t+1)*size0\n",
    "\n",
    "        start_index_rolled = rolled_indices[t] *size0\n",
    "        end_index_rolled = (rolled_indices[t]+1) *size0\n",
    "        matrix_result[start_index : end_index] = matrix[start_index_rolled: end_index_rolled]\n",
    "    return matrix_result\n",
    "\n",
    "Nt2 = 2\n",
    "Nx2 = 10\n",
    "lattice_volume2 = Nt2*Nx2\n",
    "ind1 = 5\n",
    "ind2 = 1\n",
    "\n",
    "matrix = np.random.randn(lattice_volume2*ind1*ind2)\n",
    "shape = [Nt2,Nx2,ind1]\n",
    "matrixrs = np.reshape(matrix, shape)\n",
    "\n",
    "matrix_result = Roll_t(matrix,shape,-1,Nt2,Nx2)\n",
    "matrix_result_reshaped = np.reshape(matrix_result, shape)\n",
    "matrix_rolled = np.reshape(np.roll(matrixrs,-1,axis = 0),shape)\n",
    "np.sqrt(np.sum((matrix_result_reshaped - matrix_rolled)**2))"
   ]
  },
  {
   "cell_type": "code",
   "execution_count": 23,
   "metadata": {},
   "outputs": [
    {
     "data": {
      "text/plain": [
       "0j"
      ]
     },
     "execution_count": 23,
     "metadata": {},
     "output_type": "execute_result"
    }
   ],
   "source": [
    "def Roll_x(matrix, shape, roll, Nt,Nx):\n",
    "    if len(shape)==3:\n",
    "        shape.append(1)\n",
    "    matrix_result = np.zeros(matrix.shape, dtype = 'complex_')\n",
    "    \n",
    "    size_matrix = shape[2]*shape[3]\n",
    "    size0 = shape[1]*size_matrix\n",
    "    \n",
    "    indices = np.arange(Nx)\n",
    "    rolled_indices = np.roll(indices,roll)\n",
    "    \n",
    "    for t in range(Nt):\n",
    "        for x in range(Nx):\n",
    "            start_index = t*size0\n",
    "            end_index = (t+1)*size0\n",
    "            array_t = matrix[start_index: end_index]\n",
    "            \n",
    "            start_index_x = x*size_matrix\n",
    "            end_index_x = (x+1)*size_matrix\n",
    "            start_index_rolled = rolled_indices[x] *size_matrix\n",
    "            end_index_rolled = (rolled_indices[x]+1) *size_matrix\n",
    "            rolled_array = array_t[start_index_rolled: end_index_rolled]\n",
    "\n",
    "            matrix_result[start_index+start_index_x : start_index+ end_index_x] = rolled_array\n",
    "    return matrix_result\n",
    "\n",
    "Nt2 = 4\n",
    "Nx2 = 4\n",
    "ind1 = 6\n",
    "ind2 = 6\n",
    "\n",
    "matrix = np.random.randn(Nt2*Nx2*ind1*ind2)\n",
    "#matrix = np.arange(Nt2*Nx2*ind1*ind2)\n",
    "shape = [Nt2,Nx2,ind1,ind2]\n",
    "\n",
    "matrixrs = np.reshape(matrix, shape)\n",
    "\n",
    "matrix_rolled = np.roll(matrixrs,1,axis = 1)\n",
    "matrix_result = Roll_x(matrix,shape,1,Nt2,Nx2)\n",
    "matrix_result_reshaped = np.reshape(matrix_result, shape)\n",
    "np.sqrt(np.sum((matrix_result_reshaped - matrix_rolled)**2))"
   ]
  },
  {
   "cell_type": "code",
   "execution_count": 24,
   "metadata": {},
   "outputs": [
    {
     "data": {
      "text/plain": [
       "0.0"
      ]
     },
     "execution_count": 24,
     "metadata": {},
     "output_type": "execute_result"
    }
   ],
   "source": [
    "def Roll_x2(matrix,shape,roll, Nt,Nx):\n",
    "    if len(shape)==3:\n",
    "        shape.append(1)\n",
    "    matrix_result = np.zeros(matrix.shape, dtype = 'complex_')\n",
    "    \n",
    "    size_matrix = shape[2]*shape[3]\n",
    "    size0 = shape[1]*size_matrix\n",
    "    \n",
    "    indices_t = np.arange(Nt) *size0\n",
    "    \n",
    "    indices_x = np.arange(Nx)*size_matrix\n",
    "    rolled_indices_x = np.roll(indices_x,roll)\n",
    "    \n",
    "    indices = np.arange(size_matrix)\n",
    "     \n",
    "    rolled_combined_indices = ((indices_t[:,None] + rolled_indices_x[None,:])[:,:,None] + indices[None,:]).flatten()\n",
    "    #This idea works for a scalar value for each \n",
    "\n",
    "\n",
    "    return matrix[rolled_combined_indices]\n",
    "\n",
    "Nt2 = 16\n",
    "Nx2 = 20\n",
    "ind1 = 18\n",
    "ind2 = 3\n",
    "\n",
    "matrix = np.random.randn(Nt2*Nx2*ind1*ind2)\n",
    "#matrix = np.arange(Nt2*Nx2*ind1*ind2)\n",
    "shape = [Nt2,Nx2,ind1,ind2]\n",
    "\n",
    "matrixrs = np.reshape(matrix, shape)\n",
    "\n",
    "matrix_rolled = np.roll(matrixrs,-1,axis = 1)\n",
    "matrix_result = Roll_x2(matrix,shape,-1,Nt2,Nx2)\n",
    "matrix_result_reshaped = np.reshape(matrix_result, shape)\n",
    "np.sqrt(np.sum((matrix_result_reshaped - matrix_rolled)**2))"
   ]
  },
  {
   "cell_type": "code",
   "execution_count": 25,
   "metadata": {},
   "outputs": [
    {
     "data": {
      "text/plain": [
       "0j"
      ]
     },
     "execution_count": 25,
     "metadata": {},
     "output_type": "execute_result"
    }
   ],
   "source": [
    "def Kron(matrix1,matrix2,shape1,shape2):\n",
    "    size1 = len(matrix1)\n",
    "    size2 = len(matrix2)\n",
    "\n",
    "    size_new = shape1[2]*shape1[3]*shape2[0]*shape2[1]\n",
    "\n",
    "\n",
    "    index_size1 = shape1[2]*shape2[0]\n",
    "    index_size2 = shape1[3]*shape2[1]\n",
    "\n",
    "    array_result = np.zeros(size1*size2, dtype = 'complex_')\n",
    "    for lattice_number in range(shape1[0]*shape1[1]):\n",
    "        for first_index in range(shape1[2]):\n",
    "            for dimension in range(shape2[0]):\n",
    "                for dimension2 in range(shape1[2]):\n",
    "                    start_index_lattice = lattice_number * size_new\n",
    "\n",
    "                    start_index_dim =  dimension * index_size1 + dimension2*index_size2*2\n",
    "\n",
    "                    start_index1 = first_index * shape2[1]\n",
    "                    end_index1 = (first_index+1) * shape2[1]\n",
    "\n",
    "                    start_index = start_index_lattice + start_index_dim + start_index1\n",
    "                    end_index = start_index_lattice + start_index_dim + end_index1\n",
    "\n",
    "                    start_index_mat1_lattice = lattice_number*shape1[2]*shape1[3] +dimension2*shape1[3]\n",
    "                    start_index_mat1 = start_index_mat1_lattice + first_index \n",
    "                    #end_index_mat1 = start_index_mat1_lattice+first_index+1\n",
    "\n",
    "                    start_index_mat2 = dimension*shape2[1]\n",
    "                    end_index_mat2 = (dimension+1)*shape2[1]\n",
    "                    array_result[start_index: end_index] = matrix1[start_index_mat1] *matrix2[start_index_mat2:end_index_mat2]\n",
    "    #                 print('start index = ' + str(start_index))\n",
    "    #                 print('end index = ' + str(end_index))\n",
    "    #                 print('start index mat 1 = ' + str(start_index_mat1))\n",
    "    #                 #print(end_index_mat1)\n",
    "    #                 print('start index mat 2= ' + str(start_index_mat2))\n",
    "    #                 print('end index mat 2= ' + str(end_index_mat2))\n",
    "    #                 print('\\n')\n",
    "    return array_result\n",
    "\n",
    "lattice_volume2 = 20\n",
    "\n",
    "\n",
    "shape1 = [lattice_volume2,1,3,3] #Corregir esta webada, el 1 ahi esta redundante!\n",
    "shape2 = [2,2]\n",
    "\n",
    "offdiagonal_spinor_x_plus = Id - Pauli[1]\n",
    "matrix2 = offdiagonal_spinor_x_plus.flatten()\n",
    "\n",
    "gauge_links = np.random.randn(lattice_volume2, nDim, Nc,Nc)\n",
    "matrix1 = gauge_links[:,1,:,:].flatten()\n",
    "\n",
    "array_reshaped = np.reshape(Kron(matrix1,matrix2,shape1,shape2), (lattice_volume2,6,6))\n",
    "offdiag_x_plus = np.kron(gauge_links[:,1,:,:],offdiagonal_spinor_x_plus)\n",
    "np.sqrt(np.sum((array_reshaped-offdiag_x_plus)**2))"
   ]
  },
  {
   "cell_type": "code",
   "execution_count": 26,
   "metadata": {},
   "outputs": [
    {
     "data": {
      "text/plain": [
       "0j"
      ]
     },
     "execution_count": 26,
     "metadata": {},
     "output_type": "execute_result"
    }
   ],
   "source": [
    "def Transposed_indices(nDim):\n",
    "    indices = np.arange(nDim)\n",
    "    repeated_indices = indices*nDim\n",
    "    return (indices[:,None] + repeated_indices[None,:]).flatten()\n",
    "\n",
    "\n",
    "def ConjugateTranspose(matrix,lattice_volume,nDim, tranposed_indices): \n",
    "    array_result = np.zeros(matrix.shape, dtype = 'complex_')\n",
    "    size_matrix = nDim**2\n",
    "\n",
    "    #transposed_indices = np.array([0,3,6,1,4,7,2,5,8]) for 3x3 Matrices\n",
    "\n",
    "    for lattice_number in range(lattice_volume):\n",
    "        start_index = lattice_number *size_matrix\n",
    "        end_index = (lattice_number+1) *size_matrix\n",
    "        indices = start_index + transposed_indices\n",
    "        array_result[start_index:end_index] = np.conjugate(matrix[indices])\n",
    "    return array_result\n",
    "\n",
    "gauge_links = np.random.randn(lattice_volume2, Nc,Nc) + 1j*np.random.randn(lattice_volume2, Nc,Nc)\n",
    "matrix = gauge_links.flatten()\n",
    "\n",
    "transposed_indices = Transposed_indices(Nc)\n",
    "array_result = ConjugateTranspose(matrix,lattice_volume2,Nc, transposed_indices)\n",
    "\n",
    "array_reshaped = np.reshape(array_result,(lattice_volume2, 3,3))\n",
    "transposed = np.conjugate(np.squeeze(Transpose(gauge_links)))\n",
    "np.sqrt(np.sum((array_reshaped-transposed)**2))"
   ]
  },
  {
   "cell_type": "code",
   "execution_count": 27,
   "metadata": {},
   "outputs": [
    {
     "name": "stdout",
     "output_type": "stream",
     "text": [
      "(4, 4, 2, 3, 3)\n"
     ]
    },
    {
     "data": {
      "text/plain": [
       "(3.5388086795394242e-15+0j)"
      ]
     },
     "execution_count": 27,
     "metadata": {},
     "output_type": "execute_result"
    }
   ],
   "source": [
    "def applyD_flatten_flatten(lattice_volume,Nt, Nx ,gauge_links_t, gauge_links_x,m,Pauli,psi, transposed_indices):\n",
    "    #I find it easier to broadcast when working with a 2D system, probably not ideal for big calculations, can be corrected\n",
    "    diagonal = (m+2)\n",
    "    #Symetric derivative, each dimension multiplied by a gamma matrix, in 2D, and in this choice, they are pauli matrices\n",
    "    \n",
    "    #Correct this\n",
    "    offdiagonal_spinor_x_plus = (Id - Pauli[0]).flatten()\n",
    "    offdiagonal_spinor_x_minus = (Id + Pauli[0]).flatten()\n",
    "    offdiagonal_spinor_t_plus = (Id - Pauli[2]).flatten()\n",
    "    offdiagonal_spinor_t_minus = (Id + Pauli[2]).flatten()\n",
    "    \n",
    "    \n",
    "    \n",
    "\n",
    "    shape_gauge_links = [Nt,Nx, Nc,Nc] #Correct this, lattice volume instead of Nt,Nx or just be consistent overall!\n",
    "    gauge_links_shifted_t = Roll_t(gauge_links_t,shape_gauge_links,1,Nt,Nx)\n",
    "    gauge_links_shifted_x = Roll_x(gauge_links_x,shape_gauge_links,1,Nt,Nx)\n",
    "   \n",
    "\n",
    "\n",
    "   \n",
    "\n",
    "   \n",
    "   \n",
    "   \n",
    "    #define jx, and jt, for choosing the right values for the neighbours considering periodic boundary\n",
    "    shape_psi = [Nt,Nx, Nc*Ns]\n",
    "    psi_shifted_m_t = Roll_t(psi, shape_psi, 1,Nt,Nx)\n",
    "    psi_shifted_p_t = Roll_t(psi, shape_psi, -1,Nt,Nx)\n",
    "    psi_shifted_m_x = Roll_x(psi, shape_psi, 1,Nt,Nx)\n",
    "    psi_shifted_p_x = Roll_x(psi, shape_psi, -1,Nt,Nx)\n",
    "\n",
    "    shape_gauge = [lattice_volume,1,Nc,Nc]\n",
    "    shape_gamma = [2,2]\n",
    "    offdiag_x_plus = Kron(gauge_links_x,offdiagonal_spinor_x_plus, shape_gauge, shape_gamma) #Careful with U dimension t,x\n",
    "    offdiag_x_minus = Kron(ConjugateTranspose(gauge_links_shifted_x,lattice_volume, Nc, transposed_indices),offdiagonal_spinor_x_minus, shape_gauge, shape_gamma)\n",
    "    offdiag_t_plus = Kron(gauge_links_t, offdiagonal_spinor_t_plus, shape_gauge, shape_gamma)\n",
    "    offdiag_t_minus = Kron(ConjugateTranspose(gauge_links_shifted_t,lattice_volume, Nc, transposed_indices),offdiagonal_spinor_t_minus, shape_gauge, shape_gamma)\n",
    "\n",
    "    #Apply the gamma matrices to the sum of NN, (maybe this part is not right in sense of the spin indices, idk)\n",
    "    shape_psi = [lattice_volume, Nc*Ns] #really be consistent with this shit\n",
    "    shape_kron = [lattice_volume, Nc*Ns,Nc*Ns]\n",
    "    time_contribution_m = MatMul(offdiag_t_minus, psi_shifted_m_t, shape_kron, shape_psi) #Do this without None\n",
    "    time_contribution_p = MatMul(offdiag_t_plus, psi_shifted_p_t, shape_kron, shape_psi)\n",
    "    space_contribution_m = MatMul(offdiag_x_minus, psi_shifted_m_x, shape_kron, shape_psi)\n",
    "    space_contribution_p = MatMul(offdiag_x_plus, psi_shifted_p_x, shape_kron, shape_psi)\n",
    "\n",
    "\n",
    "\n",
    "    #Apply psi on the diagonal\n",
    "    self_contribution = diagonal*psi\n",
    "    #Add all\n",
    "    psi_new = self_contribution -0.5* (time_contribution_m +  #Squeeze is weird!\n",
    "                                       time_contribution_p + space_contribution_m + space_contribution_p)\n",
    "   \n",
    "    return psi_new\n",
    "\n",
    "\n",
    "\n",
    "Nt = 4\n",
    "Nx = 4\n",
    "lattice_volume = Nt*Nx\n",
    "gauge_links = np.random.randn(lattice_volume,2, Nc,Nc)\n",
    "gauge_links_t = gauge_links[:,0,:,:].flatten()\n",
    "gauge_links_x = gauge_links[:,1,:,:].flatten()\n",
    "m = 1\n",
    "psi = np.random.randn(lattice_volume,Nc*Ns)\n",
    "psi_flatten = psi.flatten()\n",
    "\n",
    "\n",
    "\n",
    "\n",
    "result_flattened_operation_reshaped = np.reshape(applyD_flatten_flatten(lattice_volume,Nt, Nx ,gauge_links_t, gauge_links_x,m,Pauli,psi_flatten,transposed_indices),(lattice_volume,Nc*Ns))\n",
    "\n",
    "result = np.reshape(applyD_flatten(lattice_volume,Nt, Nx ,gauge_links,m,Pauli,psi), (lattice_volume, Nc*Ns))\n",
    "\n",
    "np.sqrt(np.sum((result-result_flattened_operation_reshaped)**2))"
   ]
  },
  {
   "cell_type": "code",
   "execution_count": 28,
   "metadata": {},
   "outputs": [
    {
     "data": {
      "text/plain": [
       "0.0"
      ]
     },
     "execution_count": 28,
     "metadata": {},
     "output_type": "execute_result"
    }
   ],
   "source": [
    "def Roll_x2(matrix,shape,roll, Nt,Nx):\n",
    "    if len(shape)==3:\n",
    "        shape.append(1)\n",
    "    matrix_result = np.zeros(matrix.shape, dtype = 'complex_')\n",
    "    \n",
    "    size_matrix = shape[2]*shape[3]\n",
    "    size0 = shape[1]*size_matrix\n",
    "    \n",
    "    indices_t = np.arange(Nt) *size0\n",
    "    \n",
    "    indices_x = np.arange(Nx)*size_matrix\n",
    "    rolled_indices_x = np.roll(indices_x,roll)\n",
    "    \n",
    "    indices = np.arange(size_matrix)\n",
    "     \n",
    "    rolled_combined_indices = ((indices_t[:,None] + rolled_indices_x[None,:])[:,:,None] + indices[None,:]).flatten()\n",
    "    #This idea works for a scalar value for each \n",
    "\n",
    "\n",
    "    return matrix[rolled_combined_indices]\n",
    "\n",
    "Nt2 = 16\n",
    "Nx2 = 20\n",
    "ind1 = 18\n",
    "ind2 = 3\n",
    "\n",
    "matrix = np.random.randn(Nt2*Nx2*ind1*ind2)\n",
    "#matrix = np.arange(Nt2*Nx2*ind1*ind2)\n",
    "shape = [Nt2,Nx2,ind1,ind2]\n",
    "\n",
    "matrixrs = np.reshape(matrix, shape)\n",
    "\n",
    "matrix_rolled = np.roll(matrixrs,-1,axis = 1)\n",
    "matrix_result = Roll_x2(matrix,shape,-1,Nt2,Nx2)\n",
    "matrix_result_reshaped = np.reshape(matrix_result, shape)\n",
    "np.sqrt(np.sum((matrix_result_reshaped - matrix_rolled)**2))"
   ]
  },
  {
   "cell_type": "markdown",
   "metadata": {},
   "source": [
    "# Pre Indices"
   ]
  },
  {
   "cell_type": "code",
   "execution_count": null,
   "metadata": {},
   "outputs": [],
   "source": []
  },
  {
   "cell_type": "code",
   "execution_count": 29,
   "metadata": {},
   "outputs": [
    {
     "data": {
      "text/plain": [
       "0.0"
      ]
     },
     "execution_count": 29,
     "metadata": {},
     "output_type": "execute_result"
    }
   ],
   "source": [
    "def roll_x_indices(Nt,Nx,size_matrix,roll):\n",
    "    size0 = Nx*size_matrix\n",
    "\n",
    "    indices_t = np.arange(Nt) *size0\n",
    "\n",
    "    indices_x = np.arange(Nx)*size_matrix\n",
    "    rolled_indices_x = np.roll(indices_x,roll)\n",
    "\n",
    "    indices = np.arange(size_matrix)\n",
    "\n",
    "    return ((indices_t[:,None] + rolled_indices_x[None,:])[:,:,None] + indices[None,:]).flatten()\n",
    "\n",
    "def Roll(matrix, indices):\n",
    "    return matrix[indices]\n",
    "\n",
    "Nt2 = 20\n",
    "Nx2 = 40\n",
    "ind1 = 3\n",
    "ind2 = 4\n",
    "roll = 1\n",
    "\n",
    "matrix = np.random.randn(Nt2*Nx2*ind1*ind2)\n",
    "#matrix = np.arange(Nt2*Nx2*ind1*ind2)\n",
    "shape = [Nt2,Nx2,ind1,ind2]\n",
    "\n",
    "matrixrs = np.reshape(matrix, shape)\n",
    "up_x = roll_x_indices(Nt2,Nx2,ind1*ind2,roll)\n",
    "matrix_rolled = np.roll(matrixrs,roll,axis = 1)\n",
    "matrix_result = Roll(matrix,up_x)\n",
    "matrix_result_reshaped = np.reshape(matrix_result, shape)\n",
    "np.sqrt(np.sum((matrix_result_reshaped - matrix_rolled)**2))"
   ]
  },
  {
   "cell_type": "code",
   "execution_count": 30,
   "metadata": {},
   "outputs": [
    {
     "data": {
      "text/plain": [
       "0.0"
      ]
     },
     "execution_count": 30,
     "metadata": {},
     "output_type": "execute_result"
    }
   ],
   "source": [
    "def roll_t_indices(Nt,Nx,size_matrix,roll):\n",
    "    size0 = Nx*size_matrix\n",
    "\n",
    "    indices_t = np.arange(Nt) *size0\n",
    "    rolled_indices_t = np.roll(indices_t,roll)\n",
    "    \n",
    "    indices_x = np.arange(Nx)*size_matrix\n",
    "    \n",
    "\n",
    "    indices = np.arange(size_matrix)\n",
    "\n",
    "    return ((rolled_indices_t[:,None] + indices_x[None,:])[:,:,None] + indices[None,:]).flatten()\n",
    "\n",
    "Nt2 = 16\n",
    "Nx2 = 20\n",
    "ind1 = 9\n",
    "ind2 = 5\n",
    "roll = 1\n",
    "\n",
    "matrix = np.random.randn(Nt2*Nx2*ind1*ind2)\n",
    "#matrix = np.arange(Nt2*Nx2*ind1*ind2)\n",
    "shape = [Nt2,Nx2,ind1,ind2]\n",
    "\n",
    "matrixrs = np.reshape(matrix, shape)\n",
    "up_t = roll_t_indices(Nt2,Nx2,ind1*ind2,roll)\n",
    "matrix_rolled = np.roll(matrixrs,roll,axis = 0)\n",
    "matrix_result = Roll(matrix,up_t)\n",
    "matrix_result_reshaped = np.reshape(matrix_result, shape)\n",
    "np.sqrt(np.sum((matrix_result_reshaped - matrix_rolled)**2))"
   ]
  },
  {
   "cell_type": "code",
   "execution_count": 31,
   "metadata": {},
   "outputs": [
    {
     "data": {
      "text/plain": [
       "0j"
      ]
     },
     "execution_count": 31,
     "metadata": {},
     "output_type": "execute_result"
    }
   ],
   "source": [
    "def Transposed_indices(Nt,Nx,nDim):\n",
    "    indices = np.arange(nDim)\n",
    "    repeated_indices = indices*nDim\n",
    "    size_matrix = nDim**2\n",
    "\n",
    "    \n",
    "    indices_lattice = np.arange(Nt*Nx)*size_matrix\n",
    "    #indices_lattice = np.arange(Nt*Nx) * size0\n",
    "    #print(indices_lattice)\n",
    "    #print((indices_t[:,None] + indices_x[None,:]))\n",
    "    return ((indices_lattice[:,None] + indices[None,:])[:,:,None] + repeated_indices[None,:]).flatten()\n",
    "\n",
    "Nt2 = 4\n",
    "Nx2 = 4\n",
    "lattice_volume2 = Nt2*Nx2\n",
    "\n",
    "\n",
    "def ConjugateTranspose(matrix,transposed_indices): \n",
    "    return np.conjugate(matrix[transposed_indices])\n",
    "\n",
    "gauge_links = np.random.randn(lattice_volume2, Nc,Nc) + 1j*np.random.randn(lattice_volume2, Nc,Nc)\n",
    "matrix = gauge_links.flatten()\n",
    "\n",
    "transposed_indices = Transposed_indices(Nt2,Nx2,Nc)\n",
    "array_result = ConjugateTranspose(matrix,transposed_indices)\n",
    "\n",
    "array_reshaped = np.reshape(array_result,(lattice_volume2, 3,3))\n",
    "transposed = np.conjugate(np.squeeze(Transpose(gauge_links)))\n",
    "np.sqrt(np.sum((array_reshaped-transposed)**2))"
   ]
  },
  {
   "cell_type": "code",
   "execution_count": 32,
   "metadata": {},
   "outputs": [
    {
     "name": "stdout",
     "output_type": "stream",
     "text": [
      "(1000,)\n",
      "(1000,)\n",
      "(1.4460488414604305e-14+0j)\n"
     ]
    }
   ],
   "source": [
    "def MatMul_indices(Nt,Nx,nDim):\n",
    "    indices = np.arange(nDim)\n",
    "    #repeated_indices = indices*nDim\n",
    "    columns = indices*nDim\n",
    "    size_matrix = nDim**2\n",
    "\n",
    "    #print(repeated_indices)\n",
    "    #columns = indices[:,None] + repeated_indices[None,:]\n",
    "    indices_lattice = np.arange(Nt*Nx)*size_matrix\n",
    "    #indices_lattice = np.arange(Nt*Nx) * size0\n",
    "    #print(indices_lattice)\n",
    "    #print((indices_t[:,None] + indices_x[None,:]))\n",
    "#     matmul_indices = np.zeros((nDim, Nt*Nx*nDim), dtype = 'int')\n",
    "    indices_column = (indices_lattice[:,None] +columns[None, :]).flatten()\n",
    "    size_columns = Nt*Nx*nDim\n",
    "#     for numColumn in range(nDim):\n",
    "#         indices_column = ((indices_t[:,None] + indices_x[None,:])[:,:,None] +columns[None,numColumn, :]).flatten()\n",
    "#         matmul_indices[numColumn] = indices_column\n",
    "        \n",
    "    #Indices for matrix2\n",
    "    columns2 = np.arange(Nt*Nx)*nDim\n",
    "    columns_matrix2 = np.repeat(columns2, nDim)\n",
    "    return indices_column, columns_matrix2\n",
    "\n",
    "\n",
    "def MatMul(matrix1, matrix2, matmul_indices, columns_matrix2, nDim):\n",
    "    result = np.zeros(len(matmul_indices), dtype = 'complex_')\n",
    "    for column in range(nDim):\n",
    "        result = result + (matrix1[matmul_indices +column]*matrix2[columns_matrix2 + column])           \n",
    "    return result\n",
    "\n",
    "dim1 = 10\n",
    "dim2 = dim1\n",
    "Nt2 = 10\n",
    "Nx2 = 10\n",
    "matrix1 = np.random.randn(Nt2*Nx2*dim1*dim2)\n",
    "matrix2 = np.random.randn(Nt2*Nx2*dim2)\n",
    "\n",
    "shape1 = [Nt2*Nx2,dim1,dim2]\n",
    "shape2 = [Nt2*Nx2,dim2]\n",
    "matmul_indices, columns_matrix2 = MatMul_indices(Nt2,Nx2,dim2)\n",
    "print(matmul_indices.shape)\n",
    "print(columns_matrix2.shape)\n",
    "matrix1_rs = np.reshape(matrix1,shape1)\n",
    "matrix2_rs = np.reshape(matrix2,shape2)\n",
    "\n",
    "matrix_result = MatMul(matrix1, matrix2, matmul_indices,columns_matrix2, dim2)\n",
    "matrix_result_reshaped = np.reshape(matrix_result, (Nt2*Nx2,dim1,1))\n",
    "matrix_result_matmul = np.matmul(matrix1_rs,matrix2_rs[:,:,None])\n",
    "print(np.sqrt(np.sum((matrix_result_matmul - matrix_result_reshaped)**2)))\n"
   ]
  },
  {
   "cell_type": "code",
   "execution_count": 33,
   "metadata": {},
   "outputs": [],
   "source": [
    "# def MatMul(matrix1, matrix2, matmul_indices):\n",
    "#     result = np.zeros(len(matmul_indices[0]), dtype = 'complex_')\n",
    "#     for column in range(len(matmul_indices)):\n",
    "#         result = result + (matrix1[matmul_indices[column]]*matrix2[column])           \n",
    "#     return matrix_result"
   ]
  },
  {
   "cell_type": "code",
   "execution_count": 34,
   "metadata": {},
   "outputs": [],
   "source": [
    "a = np.array([[1,2,3],[4,5,6]])"
   ]
  },
  {
   "cell_type": "code",
   "execution_count": 35,
   "metadata": {},
   "outputs": [
    {
     "data": {
      "text/plain": [
       "array([[1, 1, 1, 2, 2, 2, 3, 3, 3],\n",
       "       [4, 4, 4, 5, 5, 5, 6, 6, 6]])"
      ]
     },
     "execution_count": 35,
     "metadata": {},
     "output_type": "execute_result"
    }
   ],
   "source": [
    "np.repeat(a,3,1)"
   ]
  },
  {
   "cell_type": "code",
   "execution_count": 36,
   "metadata": {},
   "outputs": [
    {
     "data": {
      "text/plain": [
       "(16, 3, 3)"
      ]
     },
     "execution_count": 36,
     "metadata": {},
     "output_type": "execute_result"
    }
   ],
   "source": [
    "gauge_links.shape"
   ]
  },
  {
   "cell_type": "code",
   "execution_count": 37,
   "metadata": {},
   "outputs": [],
   "source": [
    "gauge_links = np.reshape(np.arange(16*3*3),(16,3,3))"
   ]
  },
  {
   "cell_type": "code",
   "execution_count": 38,
   "metadata": {},
   "outputs": [
    {
     "data": {
      "text/plain": [
       "(576,)"
      ]
     },
     "execution_count": 38,
     "metadata": {},
     "output_type": "execute_result"
    }
   ],
   "source": [
    "b = np.repeat(np.repeat(gauge_links,2,2),2,1)\n",
    "b.flatten().shape"
   ]
  },
  {
   "cell_type": "code",
   "execution_count": 39,
   "metadata": {},
   "outputs": [],
   "source": [
    "k = np.reshape(np.arange(4), (2,2))\n",
    "d = np.repeat(np.repeat(k,3,0).reshape(1,2*2*3),16*3,0).flatten()"
   ]
  },
  {
   "cell_type": "code",
   "execution_count": 40,
   "metadata": {},
   "outputs": [
    {
     "data": {
      "text/plain": [
       "(576,)"
      ]
     },
     "execution_count": 40,
     "metadata": {},
     "output_type": "execute_result"
    }
   ],
   "source": [
    "d.shape"
   ]
  },
  {
   "cell_type": "code",
   "execution_count": 41,
   "metadata": {},
   "outputs": [],
   "source": [
    "def Kron_indices(Nt,Nx, Nc,Ns):\n",
    "    lattice_volume = Nt*Nx\n",
    "    gauge_links_indices = np.reshape(np.arange(lattice_volume*Nc*Nc),(lattice_volume,Nc,Nc))\n",
    "    repeated_gauge_links_indices =  np.repeat(np.repeat(gauge_links_indices,Ns,2),Ns,1)\n",
    "    \n",
    "    gamma_indices = np.reshape(np.arange(Ns*Ns), (Ns,Ns))\n",
    "    repeated_gamma_indices = np.repeat(np.repeat(gamma_indices,Nc,0).reshape(1,Ns*Ns*Nc),lattice_volume*Nc,0)\n",
    "    return repeated_gauge_links_indices.flatten() , repeated_gamma_indices.flatten()\n",
    "\n",
    "def Kron(matrix1,matrix2,indices1,indices2):\n",
    "    return matrix1[indices1]*matrix2[indices2]\n",
    "\n",
    "\n",
    "Nt2 = 60\n",
    "Nx2 = 50\n",
    "lattice_volume2 = Nt2*Nx2\n",
    "Nc2 = 3\n",
    "Ns2 = 2\n",
    "\n",
    "gauge_links_indices, gamma_indices = Kron_indices(Nt2,Nx2, Nc2,Ns2)\n"
   ]
  },
  {
   "cell_type": "code",
   "execution_count": 42,
   "metadata": {},
   "outputs": [],
   "source": [
    "shape1 = [lattice_volume2,1,Nc2,Nc2] #Corregir esta webada, el 1 ahi esta redundante!\n",
    "shape2 = [Ns2, Ns2]\n",
    "\n",
    "offdiagonal_spinor_x_plus = np.random.randn(Ns2,Ns2)\n",
    "matrix2 = offdiagonal_spinor_x_plus.flatten()\n",
    "\n",
    "gauge_links = np.random.randn(lattice_volume2, nDim, Nc2,Nc2)\n",
    "matrix1 = gauge_links[:,1,:,:].flatten()\n",
    "\n",
    "array_reshaped = np.reshape(Kron(matrix1,matrix2,gauge_links_indices, gamma_indices), (lattice_volume2,Nc2*Ns2,Nc2*Ns2))\n"
   ]
  },
  {
   "cell_type": "code",
   "execution_count": 43,
   "metadata": {},
   "outputs": [
    {
     "data": {
      "text/plain": [
       "0.0"
      ]
     },
     "execution_count": 43,
     "metadata": {},
     "output_type": "execute_result"
    }
   ],
   "source": [
    "offdiag_x_plus = np.kron(gauge_links[:,1,:,:],offdiagonal_spinor_x_plus)\n",
    "np.sqrt(np.sum((array_reshaped-offdiag_x_plus)**2))"
   ]
  },
  {
   "cell_type": "code",
   "execution_count": 44,
   "metadata": {},
   "outputs": [],
   "source": [
    "def applyD_flatten(lattice_volume,Nt, Nx ,gauge_links,m,Pauli,psi):\n",
    "    #I find it easier to broadcast when working with a 2D system, probably not ideal for big calculations, can be corrected\n",
    "    if len(gauge_links) ==lattice_volume:\n",
    "        gauge_links = LinearToLattice(gauge_links, Nt,Nx)\n",
    "    if len(psi) ==lattice_volume:\n",
    "        psi = LinearToLattice(psi, Nt,Nx)\n",
    "    diagonal = (m+2)\n",
    "    #Symetric derivative, each dimension multiplied by a gamma matrix, in 2D, and in this choice, they are pauli matrices\n",
    "    offdiagonal_spinor_x_plus = Id - Pauli[0]\n",
    "    offdiagonal_spinor_x_minus = Id + Pauli[0]\n",
    "    offdiagonal_spinor_t_plus = Id - Pauli[2]\n",
    "    offdiagonal_spinor_t_minus = Id + Pauli[2]\n",
    "\n",
    "    gauge_links_shifted_t = np.roll(gauge_links[:,:,0], 1, axis = 0)\n",
    "    gauge_links_shifted_x = np.roll(gauge_links[:,:,1], 1, axis = 1)\n",
    "   \n",
    "    offdiagonal_spinor_x_plus = Id - Pauli[0]\n",
    "    offdiagonal_spinor_x_minus = Id + Pauli[0]\n",
    "    offdiagonal_spinor_t_plus = Id - Pauli[2]\n",
    "    offdiagonal_spinor_t_minus = Id + Pauli[2]\n",
    "\n",
    "\n",
    "   \n",
    "\n",
    "   \n",
    "   \n",
    "   \n",
    "    #define jx, and jt, for choosing the right values for the neighbours considering periodic boundary\n",
    "    psi_shifted_m_t = np.roll(psi, 1, axis = 0)\n",
    "    psi_shifted_p_t = np.roll(psi, -1, axis = 0)\n",
    "    psi_shifted_m_x = np.roll(psi, 1, axis = 1)\n",
    "    psi_shifted_p_x = np.roll(psi, -1, axis = 1)\n",
    "\n",
    "\n",
    "    offdiag_x_plus = np.kron(gauge_links[:,:,1,:,:],offdiagonal_spinor_x_plus) #Careful with U dimension t,x\n",
    "    offdiag_x_minus = np.kron(ConjugateTranspose2(gauge_links_shifted_x),offdiagonal_spinor_x_minus)\n",
    "    offdiag_t_plus = np.kron(gauge_links[:,:,0,:,:],offdiagonal_spinor_t_plus)\n",
    "    offdiag_t_minus = np.kron(ConjugateTranspose2(gauge_links_shifted_t),offdiagonal_spinor_t_minus)\n",
    "   \n",
    "\n",
    "    #Apply the gamma matrices to the sum of NN, (maybe this part is not right in sense of the spin indices, idk)\n",
    "    time_contribution_m = np.matmul(offdiag_t_minus, psi_shifted_m_t[:,:,:,None]) #Do this without None\n",
    "    time_contribution_p = np.matmul(offdiag_t_plus, psi_shifted_p_t[:,:,:,None])\n",
    "    space_contribution_m = np.matmul(offdiag_x_minus, psi_shifted_m_x[:,:,:,None])\n",
    "    space_contribution_p = np.matmul(offdiag_x_plus, psi_shifted_p_x[:,:,:,None])\n",
    "\n",
    "\n",
    "\n",
    "    #Apply psi on the diagonal\n",
    "    self_contribution = diagonal*psi\n",
    "    #Add all\n",
    "    psi_new = self_contribution -0.5* np.squeeze((time_contribution_m +  #Squeeze is weird!\n",
    "                                       time_contribution_p + space_contribution_m + space_contribution_p))\n",
    "   \n",
    "    return psi_new"
   ]
  },
  {
   "cell_type": "code",
   "execution_count": 45,
   "metadata": {},
   "outputs": [
    {
     "name": "stdout",
     "output_type": "stream",
     "text": [
      "(1.1276043365949814e-14+2.295530232770094e-16j)\n",
      "(1.2538718353331743e-14+4.6693983116555715e-18j)\n",
      "(1.2241695889024469e-14+4.026272142648848e-16j)\n",
      "(1.2262838766379756e-14+5.69242833280139e-16j)\n",
      "(1.2028793093147713e-14-2.865648604786377e-16j)\n",
      "(1.0939757479614184e-14-4.5719844108921195e-17j)\n",
      "(1.2209286441497774e-14-9.366781641637424e-17j)\n",
      "(1.2795178083048946e-14+1.9290640589025083e-16j)\n",
      "(1.2131976591443213e-14-2.6580805481906803e-16j)\n",
      "(1.2573093948922025e-14-2.1653338314705063e-16j)\n",
      "(1.0819451171759677e-14-6.042600207191109e-16j)\n",
      "(1.1693466362708913e-14-6.264581356160218e-16j)\n",
      "(1.2887623663118081e-14+6.210737571255858e-17j)\n",
      "(1.2770000882376714e-14-9.993117407784194e-17j)\n",
      "(1.1429452842260224e-14+1.9664635535216394e-16j)\n",
      "(1.2156924808261554e-14+4.107894409614464e-16j)\n",
      "(1.2885483543720519e-14+1.3170863640744737e-16j)\n",
      "(1.200271044351781e-14+1.5962353817434063e-16j)\n",
      "(1.117728307076864e-14-4.55994625219408e-16j)\n",
      "(1.1512990476841872e-14-8.390925555335243e-17j)\n"
     ]
    }
   ],
   "source": [
    "def applyD_flatten_flatten(Nt, Nx ,gauge_links_t, gauge_links_x,m,Pauli,psi,\n",
    "                           down_t_gauge, down_x_gauge, up_t_psi, down_t_psi,\n",
    "                           down_x_psi, transposed_indices, matmul_indices, columns_matrix2,\n",
    "                          gauge_links_indices, gamma_indices):\n",
    "    #I find it easier to broadcast when working with a 2D system, probably not ideal for big calculations, can be corrected\n",
    "    diagonal = (m+2)\n",
    "    #Symetric derivative, each dimension multiplied by a gamma matrix, in 2D, and in this choice, they are pauli matrices\n",
    "    \n",
    "    #Correct this\n",
    "    offdiagonal_spinor_x_plus = (Id - Pauli[0]).flatten()\n",
    "    offdiagonal_spinor_x_minus = (Id + Pauli[0]).flatten()\n",
    "    offdiagonal_spinor_t_plus = (Id - Pauli[2]).flatten()\n",
    "    offdiagonal_spinor_t_minus = (Id + Pauli[2]).flatten()\n",
    "    \n",
    "    \n",
    "    \n",
    "\n",
    "    shape_gauge_links = [Nt,Nx, Nc,Nc] #Correct this, lattice volume instead of Nt,Nx or just be consistent overall!\n",
    "    gauge_links_shifted_t = Roll(gauge_links_t,down_t_gauge)\n",
    "    gauge_links_shifted_x = Roll(gauge_links_x,down_x_gauge)\n",
    "   \n",
    "\n",
    "\n",
    "   \n",
    "\n",
    "   \n",
    "   \n",
    "   \n",
    "    #define jx, and jt, for choosing the right values for the neighbours considering periodic boundary\n",
    "    shape_psi = [Nt,Nx, Nc*Ns]\n",
    "    psi_shifted_m_t = Roll(psi, down_t_psi)\n",
    "    psi_shifted_p_t = Roll(psi,up_t_psi)\n",
    "    psi_shifted_m_x = Roll(psi, down_x_psi)\n",
    "    psi_shifted_p_x = Roll(psi, up_x_psi)\n",
    "\n",
    "\n",
    "    offdiag_x_plus = Kron(gauge_links_x,offdiagonal_spinor_x_plus, gauge_links_indices, gamma_indices) #Careful with U dimension t,x\n",
    "    offdiag_x_minus = Kron(ConjugateTranspose(gauge_links_shifted_x,transposed_indices),offdiagonal_spinor_x_minus, gauge_links_indices, gamma_indices)\n",
    "    offdiag_t_plus = Kron(gauge_links_t, offdiagonal_spinor_t_plus, gauge_links_indices, gamma_indices)\n",
    "    offdiag_t_minus = Kron(ConjugateTranspose(gauge_links_shifted_t,transposed_indices),offdiagonal_spinor_t_minus, gauge_links_indices, gamma_indices)\n",
    "\n",
    "    #Apply the gamma matrices to the sum of NN, (maybe this part is not right in sense of the spin indices, idk)\n",
    "\n",
    "    time_contribution_m = MatMul(offdiag_t_minus, psi_shifted_m_t, matmul_indices, columns_matrix2, Nc*Ns) #Do this without None\n",
    "    time_contribution_p = MatMul(offdiag_t_plus, psi_shifted_p_t, matmul_indices, columns_matrix2, Nc*Ns)\n",
    "    space_contribution_m = MatMul(offdiag_x_minus, psi_shifted_m_x, matmul_indices, columns_matrix2, Nc*Ns)\n",
    "    space_contribution_p = MatMul(offdiag_x_plus, psi_shifted_p_x, matmul_indices, columns_matrix2, Nc*Ns)\n",
    "\n",
    "\n",
    "\n",
    "    #Apply psi on the diagonal\n",
    "    self_contribution = diagonal*psi\n",
    "    #Add all\n",
    "    psi_new = self_contribution -0.5* (time_contribution_m +  #Squeeze is weird!\n",
    "                                       time_contribution_p + space_contribution_m + space_contribution_p)\n",
    "   \n",
    "    return psi_new\n",
    "\n",
    "Nt = 16\n",
    "Nx = 16\n",
    "Nc = 10\n",
    "down_t_gauge = roll_t_indices(Nt,Nx,Nc*Nc,1)\n",
    "down_x_gauge = roll_x_indices(Nt,Nx,Nc*Nc,1)\n",
    "            \n",
    "up_t_psi     = roll_t_indices(Nt,Nx,Nc*Ns,-1)\n",
    "up_x_psi     = roll_x_indices(Nt,Nx,Nc*Ns,-1)\n",
    "down_t_psi   = roll_t_indices(Nt,Nx,Nc*Ns,1)\n",
    "down_x_psi   = roll_x_indices(Nt,Nx,Nc*Ns,1)\n",
    "\n",
    "transposed_indices = Transposed_indices(Nt,Nx,Nc)\n",
    "\n",
    "matmul_indices, columns_matrix2 = MatMul_indices(Nt,Nx,Nc*Ns)\n",
    "\n",
    "gauge_links_indices, gamma_indices = Kron_indices(Nt,Nx, Nc,Ns)\n",
    "\n",
    "lattice_volume = Nt*Nx\n",
    "\n",
    "for i in range(20):\n",
    "    gauge_links =  RandomGaugeLinks(lattice_volume, 2, Nc)\n",
    "    gauge_links_t = gauge_links[:,0,:,:].flatten()\n",
    "    gauge_links_x = gauge_links[:,1,:,:].flatten()\n",
    "    m = 1\n",
    "    psi = np.random.randn(Nt*Nx,Nc*Ns)\n",
    "    psi_flatten = psi.flatten()\n",
    "    result_flattened_operation_reshaped = np.reshape(applyD_flatten_flatten(Nt, Nx ,gauge_links_t, gauge_links_x,m,Pauli,psi_flatten,\n",
    "                               down_t_gauge, down_x_gauge, up_t_psi, down_t_psi,\n",
    "                               down_x_psi, transposed_indices, matmul_indices, columns_matrix2,\n",
    "                              gauge_links_indices, gamma_indices),(Nt*Nx,Nc*Ns))\n",
    "\n",
    "    result = np.reshape(applyD_flatten(lattice_volume,Nt, Nx ,gauge_links,m,Pauli,psi), (Nt*Nx, Nc*Ns))\n",
    "\n",
    "    print(np.sqrt(np.sum((result-result_flattened_operation_reshaped)**2)))"
   ]
  },
  {
   "cell_type": "code",
   "execution_count": 46,
   "metadata": {},
   "outputs": [
    {
     "data": {
      "text/plain": [
       "array([[ 4.93038066e-32+0.00000000e+00j, -1.23259516e-32-0.00000000e+00j,\n",
       "        -4.93038066e-32-0.00000000e+00j, ...,\n",
       "         0.00000000e+00+0.00000000e+00j, -1.23259516e-32-0.00000000e+00j,\n",
       "        -9.24446373e-33+1.23259516e-32j],\n",
       "       [-1.23259516e-32+0.00000000e+00j, -1.23259516e-32-0.00000000e+00j,\n",
       "        -3.08148791e-33-0.00000000e+00j, ...,\n",
       "        -4.93038066e-32+0.00000000e+00j,  0.00000000e+00+0.00000000e+00j,\n",
       "         1.23259516e-32-0.00000000e+00j],\n",
       "       [ 9.24446373e-33+1.23259516e-32j, -4.93038066e-32-0.00000000e+00j,\n",
       "         0.00000000e+00+0.00000000e+00j, ...,\n",
       "         0.00000000e+00+0.00000000e+00j, -1.97215226e-31-0.00000000e+00j,\n",
       "        -4.93038066e-32-0.00000000e+00j],\n",
       "       ...,\n",
       "       [ 1.84889275e-31+9.86076132e-32j,  0.00000000e+00+0.00000000e+00j,\n",
       "        -1.97215226e-31+0.00000000e+00j, ...,\n",
       "         4.62223187e-32+2.46519033e-32j, -9.43705673e-33-0.00000000e+00j,\n",
       "        -1.23259516e-32-0.00000000e+00j],\n",
       "       [-1.23259516e-32-0.00000000e+00j,  0.00000000e+00+0.00000000e+00j,\n",
       "        -1.73333695e-33+0.00000000e+00j, ...,\n",
       "        -1.73333695e-33+0.00000000e+00j,  3.69778549e-32+4.93038066e-32j,\n",
       "        -1.23259516e-32-0.00000000e+00j],\n",
       "       [-3.08148791e-33+0.00000000e+00j, -4.93038066e-32-0.00000000e+00j,\n",
       "         5.39260384e-33-1.84889275e-32j, ...,\n",
       "         1.47911420e-31-1.97215226e-31j,  1.23259516e-32-0.00000000e+00j,\n",
       "        -7.70371978e-32-0.00000000e+00j]])"
      ]
     },
     "execution_count": 46,
     "metadata": {},
     "output_type": "execute_result"
    }
   ],
   "source": [
    "(result-result_flattened_operation_reshaped)**2"
   ]
  },
  {
   "cell_type": "code",
   "execution_count": 47,
   "metadata": {},
   "outputs": [],
   "source": [
    "def RandomGaugeLinks(lattice_volume, nDim, Nc):\n",
    "    gauge_links = np.zeros((lattice_volume, nDim, Nc,Nc),dtype = 'complex_' )\n",
    "    for i in range(lattice_volume):\n",
    "        for j in range(nDim):\n",
    "            gauge_links[i,j] = unitary_group.rvs(Nc)\n",
    "            \n",
    "    return gauge_links"
   ]
  },
  {
   "cell_type": "code",
   "execution_count": 48,
   "metadata": {},
   "outputs": [
    {
     "name": "stdout",
     "output_type": "stream",
     "text": [
      "[4800 4801 4802 ... 4797 4798 4799]\n"
     ]
    }
   ],
   "source": [
    "print(down_t_psi)"
   ]
  },
  {
   "cell_type": "code",
   "execution_count": 49,
   "metadata": {},
   "outputs": [
    {
     "data": {
      "text/plain": [
       "(256, 20)"
      ]
     },
     "execution_count": 49,
     "metadata": {},
     "output_type": "execute_result"
    }
   ],
   "source": [
    "psi.shape"
   ]
  },
  {
   "cell_type": "code",
   "execution_count": 50,
   "metadata": {},
   "outputs": [
    {
     "data": {
      "text/plain": [
       "(256, 2, 10, 10)"
      ]
     },
     "execution_count": 50,
     "metadata": {},
     "output_type": "execute_result"
    }
   ],
   "source": [
    "gauge_links.shape"
   ]
  },
  {
   "cell_type": "code",
   "execution_count": null,
   "metadata": {},
   "outputs": [],
   "source": []
  },
  {
   "cell_type": "markdown",
   "metadata": {},
   "source": [
    "# Test"
   ]
  },
  {
   "cell_type": "code",
   "execution_count": 51,
   "metadata": {},
   "outputs": [
    {
     "name": "stdout",
     "output_type": "stream",
     "text": [
      "4.965068306494546e-16j\n",
      "0j\n",
      "(1.7488282991824665e-15-2.2553983875655045e-16j)\n",
      "0j\n",
      "4.965068306494546e-16j\n",
      "0j\n",
      "0j\n",
      "0j\n",
      "0j\n",
      "0j\n",
      "(1.7488282991824665e-15-2.2553983875655045e-16j)\n",
      "0j\n",
      "4.965068306494546e-16j\n",
      "0j\n",
      "(1.7488282991824665e-15-2.2553983875655045e-16j)\n",
      "0j\n",
      "0j\n",
      "0j\n",
      "0j\n",
      "0j\n",
      "4.965068306494546e-16j\n",
      "0j\n",
      "(1.7488282991824665e-15-2.2553983875655045e-16j)\n",
      "0j\n",
      "4.965068306494546e-16j\n"
     ]
    }
   ],
   "source": [
    "Nt = 4\n",
    "Nx = 4\n",
    "Nc = 3\n",
    "down_t_gauge = roll_t_indices(Nt,Nx,Nc*Nc,1)\n",
    "down_x_gauge = roll_x_indices(Nt,Nx,Nc*Nc,1)\n",
    "            \n",
    "up_t_psi     = roll_t_indices(Nt,Nx,Nc*Ns,-1)\n",
    "up_x_psi     = roll_x_indices(Nt,Nx,Nc*Ns,-1)\n",
    "down_t_psi   = roll_t_indices(Nt,Nx,Nc*Ns,1)\n",
    "down_x_psi   = roll_x_indices(Nt,Nx,Nc*Ns,1)\n",
    "\n",
    "transposed_indices = Transposed_indices(Nt,Nx,Nc)\n",
    "\n",
    "matmul_indices, columns_matrix2 = MatMul_indices(Nt,Nx,Nc*Ns)\n",
    "\n",
    "gauge_links_indices, gamma_indices = Kron_indices(Nt,Nx, Nc,Ns)\n",
    "\n",
    "lattice_volume = Nt*Nx\n",
    "\n",
    "U = unitary_group.rvs(3)\n",
    "gauge_links = np.zeros((lattice_volume, nDim, Nc,Nc),dtype = 'complex_' )\n",
    "for i in range(lattice_volume):\n",
    "    for j in range(nDim):\n",
    "        gauge_links[i,j] = U\n",
    "        \n",
    "gamma_t_plus = np.identity(Ns) - Pauli[2] \n",
    "gamma_t_minus = np.identity(Ns) + Pauli[2] \n",
    "gamma_x_plus = np.identity(Ns) - Pauli[0] \n",
    "gamma_x_minus = np.identity(Ns) + Pauli[0]\n",
    "\n",
    "gauge_links_t = gauge_links[:,0,:,:].flatten()\n",
    "gauge_links_x = gauge_links[:,1,:,:].flatten()\n",
    "\n",
    "for nt in range(5):\n",
    "    for nx in range(5):\n",
    "        a = 1\n",
    "        p = np.array([2*np.pi*nt/Nt,2*np.pi*nx/Nx])\n",
    "        #U = np.array([1,0,0])\n",
    "        psi =np.zeros((Nt,Nx, Nc,Ns),dtype = 'complex_')\n",
    "        vorfaktor = np.ones((Nc,Ns), dtype = 'complex_') #np.zeros((Nc,Ns), dtype = 'complex_')\n",
    "        #vorfaktor[0,0] = 1\n",
    "        #vorfaktor[0,1] = 1\n",
    "        for t in range(Nt):\n",
    "            for x in range(Nx):\n",
    "                psi[t,x] = np.round(np.exp(1j* np.dot(p,a*np.array([t,x]))) * vorfaktor)#np.ones((Nc,Ns), dtype = 'complex_')\n",
    "        psi_flatten = psi.flatten()\n",
    "        prefactor_diagonal = (m + 2)*np.identity(Ns)  \n",
    "        prefactor_plus = (-0.5*gamma_x_plus*np.round(np.exp(1j*a*p[1]))) -(0.5*gamma_t_plus*np.round(np.exp(1j*a*p[0])))\n",
    "        prefactor_minus = (-0.5*gamma_x_minus*np.round(np.exp(-1j*a*p[1]))) - (0.5*gamma_t_minus*np.round(np.exp(-1j*a*p[0])))\n",
    "        manual_calculation_diagonal = Transpose(np.matmul(prefactor_diagonal, Transpose(psi)))\n",
    "        manual_calculation_plus = np.matmul(U,Transpose(np.matmul(prefactor_plus, Transpose(psi))))\n",
    "        manual_calculation_minus = np.matmul(ConjugateTranspose2(U),Transpose(np.matmul(prefactor_minus, Transpose(psi))))\n",
    "        manual_calculation = manual_calculation_diagonal + manual_calculation_plus + manual_calculation_minus\n",
    "        \n",
    "        psi_new2 = applyD_flatten_flatten(Nt, Nx ,gauge_links_t, gauge_links_x,m,Pauli,psi_flatten,\n",
    "                               down_t_gauge, down_x_gauge, up_t_psi, down_t_psi,\n",
    "                               down_x_psi, transposed_indices, matmul_indices, columns_matrix2,\n",
    "                              gauge_links_indices, gamma_indices)\n",
    "        \n",
    "        \n",
    "        psi_new2 = np.reshape(psi_new2, (Nt,Nx,Nc,Ns))\n",
    "        print(np.sqrt(np.sum((psi_new2-manual_calculation)**2)))"
   ]
  },
  {
   "cell_type": "code",
   "execution_count": 52,
   "metadata": {},
   "outputs": [
    {
     "name": "stdout",
     "output_type": "stream",
     "text": [
      "4.965068306494546e-16j\n"
     ]
    }
   ],
   "source": [
    "nt = 0\n",
    "nx = 0\n",
    "\n",
    "\n",
    "a = 1\n",
    "p = np.array([2*np.pi*nt/Nt,2*np.pi*nx/Nx])\n",
    "#U = np.array([1,0,0])\n",
    "psi =np.zeros((Nt,Nx, Nc,Ns),dtype = 'complex_')\n",
    "vorfaktor = np.ones((Nc,Ns), dtype = 'complex_') #np.zeros((Nc,Ns), dtype = 'complex_')\n",
    "#vorfaktor[0,0] = 1\n",
    "#vorfaktor[0,1] = 1\n",
    "for t in range(Nt):\n",
    "    for x in range(Nx):\n",
    "        psi[t,x] = np.round(np.exp(1j* np.dot(p,a*np.array([t,x]))) * vorfaktor)#np.ones((Nc,Ns), dtype = 'complex_')\n",
    "psi_flatten = psi.flatten()\n",
    "prefactor_diagonal = (m + 2)*np.identity(Ns)  \n",
    "prefactor_plus = (-0.5*gamma_x_plus*np.round(np.exp(1j*a*p[1]))) -(0.5*gamma_t_plus*np.round(np.exp(1j*a*p[0])))\n",
    "prefactor_minus = (-0.5*gamma_x_minus*np.round(np.exp(-1j*a*p[1]))) - (0.5*gamma_t_minus*np.round(np.exp(-1j*a*p[0])))\n",
    "manual_calculation_diagonal = Transpose(np.matmul(prefactor_diagonal, Transpose(psi)))\n",
    "manual_calculation_plus = np.matmul(U,Transpose(np.matmul(prefactor_plus, Transpose(psi))))\n",
    "manual_calculation_minus = np.matmul(ConjugateTranspose2(U),Transpose(np.matmul(prefactor_minus, Transpose(psi))))\n",
    "manual_calculation = manual_calculation_diagonal + manual_calculation_plus + manual_calculation_minus\n",
    "\n",
    "psi_new2 = applyD_flatten_flatten(Nt, Nx ,gauge_links_t, gauge_links_x,m,Pauli,psi_flatten,\n",
    "                       down_t_gauge, down_x_gauge, up_t_psi, down_t_psi,\n",
    "                       down_x_psi, transposed_indices, matmul_indices, columns_matrix2,\n",
    "                      gauge_links_indices, gamma_indices)\n",
    "\n",
    "\n",
    "psi_new2 = np.reshape(psi_new2, (Nt,Nx,Nc,Ns))\n",
    "print(np.sqrt(np.sum((psi_new2-manual_calculation)**2)))"
   ]
  },
  {
   "cell_type": "code",
   "execution_count": 53,
   "metadata": {},
   "outputs": [
    {
     "data": {
      "text/plain": [
       "array([[[[0.+1.11022302e-16j, 0.+5.55111512e-17j],\n",
       "         [0.+0.00000000e+00j, 0.+0.00000000e+00j],\n",
       "         [0.+0.00000000e+00j, 0.+0.00000000e+00j]],\n",
       "\n",
       "        [[0.+1.11022302e-16j, 0.+5.55111512e-17j],\n",
       "         [0.+0.00000000e+00j, 0.+0.00000000e+00j],\n",
       "         [0.+0.00000000e+00j, 0.+0.00000000e+00j]],\n",
       "\n",
       "        [[0.+1.11022302e-16j, 0.+5.55111512e-17j],\n",
       "         [0.+0.00000000e+00j, 0.+0.00000000e+00j],\n",
       "         [0.+0.00000000e+00j, 0.+0.00000000e+00j]],\n",
       "\n",
       "        [[0.+1.11022302e-16j, 0.+5.55111512e-17j],\n",
       "         [0.+0.00000000e+00j, 0.+0.00000000e+00j],\n",
       "         [0.+0.00000000e+00j, 0.+0.00000000e+00j]]],\n",
       "\n",
       "\n",
       "       [[[0.+1.11022302e-16j, 0.+5.55111512e-17j],\n",
       "         [0.+0.00000000e+00j, 0.+0.00000000e+00j],\n",
       "         [0.+0.00000000e+00j, 0.+0.00000000e+00j]],\n",
       "\n",
       "        [[0.+1.11022302e-16j, 0.+5.55111512e-17j],\n",
       "         [0.+0.00000000e+00j, 0.+0.00000000e+00j],\n",
       "         [0.+0.00000000e+00j, 0.+0.00000000e+00j]],\n",
       "\n",
       "        [[0.+1.11022302e-16j, 0.+5.55111512e-17j],\n",
       "         [0.+0.00000000e+00j, 0.+0.00000000e+00j],\n",
       "         [0.+0.00000000e+00j, 0.+0.00000000e+00j]],\n",
       "\n",
       "        [[0.+1.11022302e-16j, 0.+5.55111512e-17j],\n",
       "         [0.+0.00000000e+00j, 0.+0.00000000e+00j],\n",
       "         [0.+0.00000000e+00j, 0.+0.00000000e+00j]]],\n",
       "\n",
       "\n",
       "       [[[0.+1.11022302e-16j, 0.+5.55111512e-17j],\n",
       "         [0.+0.00000000e+00j, 0.+0.00000000e+00j],\n",
       "         [0.+0.00000000e+00j, 0.+0.00000000e+00j]],\n",
       "\n",
       "        [[0.+1.11022302e-16j, 0.+5.55111512e-17j],\n",
       "         [0.+0.00000000e+00j, 0.+0.00000000e+00j],\n",
       "         [0.+0.00000000e+00j, 0.+0.00000000e+00j]],\n",
       "\n",
       "        [[0.+1.11022302e-16j, 0.+5.55111512e-17j],\n",
       "         [0.+0.00000000e+00j, 0.+0.00000000e+00j],\n",
       "         [0.+0.00000000e+00j, 0.+0.00000000e+00j]],\n",
       "\n",
       "        [[0.+1.11022302e-16j, 0.+5.55111512e-17j],\n",
       "         [0.+0.00000000e+00j, 0.+0.00000000e+00j],\n",
       "         [0.+0.00000000e+00j, 0.+0.00000000e+00j]]],\n",
       "\n",
       "\n",
       "       [[[0.+1.11022302e-16j, 0.+5.55111512e-17j],\n",
       "         [0.+0.00000000e+00j, 0.+0.00000000e+00j],\n",
       "         [0.+0.00000000e+00j, 0.+0.00000000e+00j]],\n",
       "\n",
       "        [[0.+1.11022302e-16j, 0.+5.55111512e-17j],\n",
       "         [0.+0.00000000e+00j, 0.+0.00000000e+00j],\n",
       "         [0.+0.00000000e+00j, 0.+0.00000000e+00j]],\n",
       "\n",
       "        [[0.+1.11022302e-16j, 0.+5.55111512e-17j],\n",
       "         [0.+0.00000000e+00j, 0.+0.00000000e+00j],\n",
       "         [0.+0.00000000e+00j, 0.+0.00000000e+00j]],\n",
       "\n",
       "        [[0.+1.11022302e-16j, 0.+5.55111512e-17j],\n",
       "         [0.+0.00000000e+00j, 0.+0.00000000e+00j],\n",
       "         [0.+0.00000000e+00j, 0.+0.00000000e+00j]]]])"
      ]
     },
     "execution_count": 53,
     "metadata": {},
     "output_type": "execute_result"
    }
   ],
   "source": [
    "psi_new2-manual_calculation"
   ]
  },
  {
   "cell_type": "code",
   "execution_count": null,
   "metadata": {},
   "outputs": [],
   "source": []
  },
  {
   "cell_type": "code",
   "execution_count": 54,
   "metadata": {},
   "outputs": [],
   "source": [
    "def ConjugateGradient(matrix, eta, targetResidue, iterMax, out_vector):\n",
    "    r = eta\n",
    "    p = r\n",
    "    \n",
    "    x = np.zeros_like(eta)\n",
    "    \n",
    "    counter = 0\n",
    "    \n",
    "    resSq = np.dot(r, r)\n",
    "    \n",
    "    while (resSq > targetResidue and counter < iterMax):\n",
    "        # is this gonna be smart enough to do the matrix products inside each spinor vector?\n",
    "        tmp = SparseMatrixVectorMultiplication(dirac.row_index, dirac.col_index, dirac.values, p)\n",
    "        ai = resSq / np.dot(tmp, tmp)\n",
    "        \n",
    "        # using gamma-5 hermiticity to avoid having to compute or store D^\\dagger\n",
    "        for pos in range(lattice_volume):\n",
    "            for s in range(Ns):\n",
    "                tmp[pos][s] = gamma_5 * tmp[pos][s]\n",
    "        ap  = SparseMatrixVectorMultiplication(dirac.row_index, dirac.col_index, dirac.values, tmp)\n",
    "        for pos in range(lattice_volume):\n",
    "            for s in range(Ns):\n",
    "                ap[pos][s] = gamma_5 * ap[pos][s]\n",
    "        \n",
    "        #update residue\n",
    "        r = r - ai * ap\n",
    "        \n",
    "        resSq_old = resSq\n",
    "        resSq = np.dot(r, r)\n",
    "        \n",
    "        bi = resSq / resSq_old\n",
    "        \n",
    "        #update solution\n",
    "        x = x + ai * p\n",
    "        #update search direction\n",
    "        p = bi * p + r\n",
    "        \n",
    "        counter += 1\n",
    "    \n",
    "    out_vector = x\n",
    "    return counter"
   ]
  },
  {
   "cell_type": "markdown",
   "metadata": {},
   "source": [
    "# Apply $\\gamma_5$ "
   ]
  },
  {
   "cell_type": "code",
   "execution_count": 55,
   "metadata": {},
   "outputs": [
    {
     "data": {
      "text/plain": [
       "0j"
      ]
     },
     "execution_count": 55,
     "metadata": {},
     "output_type": "execute_result"
    }
   ],
   "source": [
    "def MatMul_gamma5_indices(Nt,Nx,Nc,Ns):\n",
    "    gamma5_indices = np.repeat(np.repeat(np.arange(Ns)*Ns,Nc).reshape(1,Nc*Ns), Nt*Nx,0).flatten()\n",
    "    \n",
    "    size_matrix = Nc*Ns\n",
    "    indices2 = np.repeat(np.arange(Nc).reshape(1,Nc),Ns,0).flatten()\n",
    "    indices_lattice = np.arange(Nt*Nx)*size_matrix\n",
    "    psi_indices = (indices_lattice[:,None] +indices2[None, :]).flatten()\n",
    "\n",
    "\n",
    "    return gamma5_indices, psi_indices\n",
    "\n",
    "def ApplyGamma5(gamma5, psi, gamma5_indices, psi_indices, Nc, Ns):\n",
    "    result = np.zeros(len(gamma5_indices), dtype = 'complex_')\n",
    "    for column in range(Ns):\n",
    "        result = result + (gamma5[gamma5_indices +column]*psi[psi_indices + column* Nc])           \n",
    "    return result\n",
    "\n",
    "gamma5_indices, psi_indices = MatMul_gamma5_indices(Nt,Nx,Nc,Ns)\n",
    "gamma5_flatten = gamma5.flatten()\n",
    "psi = np.random.randn(Nt*Nx,Nc,Ns)\n",
    "\n",
    "psi_flatten = Transpose(psi).flatten() #BE CAREFUL WITH FLATTENING, FIRST THE RIGHT ORDER OF INDICES\n",
    "\n",
    "result_flattened = ApplyGamma5(gamma5_flatten, psi_flatten, gamma5_indices, psi_indices,Nc, Ns )\n",
    "result_reshaped = np.reshape(result_flattened, (Nt*Nx, Ns,Nc))\n",
    "result = np.matmul(gamma5, Transpose(psi))\n",
    "np.sqrt(np.sum((result-result_reshaped)**2))"
   ]
  },
  {
   "cell_type": "code",
   "execution_count": 56,
   "metadata": {},
   "outputs": [],
   "source": [
    "def ConjugateGradient(matrix, eta, targetResidue, iterMax, out_vector):\n",
    "    r = eta\n",
    "    p = r\n",
    "    \n",
    "    x = np.zeros_like(eta)\n",
    "    \n",
    "    counter = 0\n",
    "    \n",
    "    resSq = np.dot(r, r)\n",
    "    \n",
    "    while (resSq > targetResidue and counter < iterMax):\n",
    "        # is this gonna be smart enough to do the matrix products inside each spinor vector?\n",
    "        tmp = SparseMatrixVectorMultiplication(dirac.row_index, dirac.col_index, dirac.values, p)\n",
    "        ai = resSq / np.dot(tmp, tmp)\n",
    "        \n",
    "        # using gamma-5 hermiticity to avoid having to compute or store D^\\dagger\n",
    "        for pos in range(lattice_volume):\n",
    "            for s in range(Ns):\n",
    "                tmp[pos][s] = gamma_5 * tmp[pos][s]\n",
    "        ap  = SparseMatrixVectorMultiplication(dirac.row_index, dirac.col_index, dirac.values, tmp)\n",
    "        for pos in range(lattice_volume):\n",
    "            for s in range(Ns):\n",
    "                ap[pos][s] = gamma_5 * ap[pos][s]\n",
    "        \n",
    "        #update residue\n",
    "        r = r - ai * ap\n",
    "        \n",
    "        resSq_old = resSq\n",
    "        resSq = np.dot(r, r)\n",
    "        \n",
    "        bi = resSq / resSq_old\n",
    "        \n",
    "        #update solution\n",
    "        x = x + ai * p\n",
    "        #update search direction\n",
    "        p = bi * p + r\n",
    "        \n",
    "        counter += 1\n",
    "    \n",
    "    out_vector = x\n",
    "    return counter"
   ]
  },
  {
   "cell_type": "code",
   "execution_count": 57,
   "metadata": {},
   "outputs": [],
   "source": [
    "def Norm(vector):\n",
    "    return np.dot(np.conjugate(vector),vector)"
   ]
  },
  {
   "cell_type": "code",
   "execution_count": 58,
   "metadata": {},
   "outputs": [],
   "source": [
    "Nt = 4\n",
    "Nx = 4\n",
    "Nc = 3\n",
    "Ns = 2\n",
    "down_t_gauge = roll_t_indices(Nt,Nx,Nc*Nc,1)\n",
    "down_x_gauge = roll_x_indices(Nt,Nx,Nc*Nc,1)\n",
    "            \n",
    "up_t_psi     = roll_t_indices(Nt,Nx,Nc*Ns,-1)\n",
    "up_x_psi     = roll_x_indices(Nt,Nx,Nc*Ns,-1)\n",
    "down_t_psi   = roll_t_indices(Nt,Nx,Nc*Ns,1)\n",
    "down_x_psi   = roll_x_indices(Nt,Nx,Nc*Ns,1)\n",
    "\n",
    "transposed_indices = Transposed_indices(Nt,Nx,Nc)\n",
    "\n",
    "matmul_indices, columns_matrix2 = MatMul_indices(Nt,Nx,Nc*Ns)\n",
    "\n",
    "gauge_links_indices, gamma_indices = Kron_indices(Nt,Nx, Nc,Ns)\n",
    "\n",
    "lattice_volume = Nt*Nx\n",
    "\n",
    "U = unitary_group.rvs(3)\n",
    "gauge_links = np.zeros((lattice_volume, nDim, Nc,Nc),dtype = 'complex_' )\n",
    "for i in range(lattice_volume):\n",
    "    for j in range(nDim):\n",
    "        gauge_links[i,j] = U\n",
    "        \n",
    "gamma_t_plus = np.identity(Ns) - Pauli[2] \n",
    "gamma_t_minus = np.identity(Ns) + Pauli[2] \n",
    "gamma_x_plus = np.identity(Ns) - Pauli[0] \n",
    "gamma_x_minus = np.identity(Ns) + Pauli[0]\n",
    "\n",
    "gamma5_indices, psi_indices = MatMul_gamma5_indices(Nt,Nx,Nc,Ns)"
   ]
  },
  {
   "cell_type": "code",
   "execution_count": 59,
   "metadata": {},
   "outputs": [],
   "source": [
    "r = np.random.randn(Nt,Nx,Nc,Ns).flatten()\n",
    "p = r\n",
    "\n",
    "\n",
    "tmp = ApplyGamma5(gamma5_flatten, psi_flatten, gamma5_indices, psi_indices,Nc, Ns ) #Multiply with psi or p??\n",
    "\n",
    "tmp = applyD_flatten_flatten(Nt, Nx ,gauge_links_t, gauge_links_x,m,Pauli, tmp,\n",
    "                               down_t_gauge, down_x_gauge, up_t_psi, down_t_psi,\n",
    "                               down_x_psi, transposed_indices, matmul_indices, columns_matrix2,\n",
    "                              gauge_links_indices, gamma_indices)\n",
    "tmp = ApplyGamma5(gamma5_flatten, tmp, gamma5_indices, psi_indices,Nc, Ns )\n",
    "\n",
    "alpha_denominator = Norm(tmp)\n",
    "alpha_nominator = Norm(r)\n",
    "alpha = alpha_nominator/alpha_denominator\n",
    "\n",
    "psi_new = psi_flatten + alpha* p\n",
    "r_new = r - alpha*tmp\n",
    "\n",
    "beta_nominator = Norm(r_new)\n",
    "beta = beta_nominator/alpha_nominator\n",
    "p_new = r_new + beta*p"
   ]
  },
  {
   "cell_type": "code",
   "execution_count": null,
   "metadata": {},
   "outputs": [],
   "source": []
  },
  {
   "cell_type": "code",
   "execution_count": null,
   "metadata": {},
   "outputs": [],
   "source": []
  }
 ],
 "metadata": {
  "kernelspec": {
   "display_name": "Python 3",
   "language": "python",
   "name": "python3"
  },
  "language_info": {
   "codemirror_mode": {
    "name": "ipython",
    "version": 3
   },
   "file_extension": ".py",
   "mimetype": "text/x-python",
   "name": "python",
   "nbconvert_exporter": "python",
   "pygments_lexer": "ipython3",
   "version": "3.9.2"
  }
 },
 "nbformat": 4,
 "nbformat_minor": 4
}
