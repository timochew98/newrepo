{
 "cells": [
  {
   "cell_type": "code",
   "execution_count": 1,
   "metadata": {},
   "outputs": [],
   "source": [
    "import numpy as np\n",
    "from scipy.stats import unitary_group\n",
    "#fixed!!\n",
    "nDim = 2\n",
    "Ns = 2\n",
    "Nc = 2\n",
    "\n",
    "Nx = 4\n",
    "Nt = 4\n",
    "lattice_volume = Nt * Nx"
   ]
  },
  {
   "cell_type": "code",
   "execution_count": null,
   "metadata": {},
   "outputs": [],
   "source": []
  },
  {
   "cell_type": "code",
   "execution_count": 2,
   "metadata": {},
   "outputs": [],
   "source": [
    "Pauli = []\n",
    "Pauli.append(np.array([[0, 1], [1, 0]]))\n",
    "Pauli.append(np.array([[0,-1j], [1j, 0]]))\n",
    "Pauli.append(np.array([[1, 0], [0, -1]]))\n",
    "Id = np.array([[1, 0], [0, 1]])"
   ]
  },
  {
   "cell_type": "code",
   "execution_count": 3,
   "metadata": {},
   "outputs": [],
   "source": [
    "def Transpose(array):\n",
    "    axes = np.arange(len(array.shape))\n",
    "    axes[-2:] = np.flip(axes[-2:]) \n",
    "    return np.transpose(array, axes = axes)"
   ]
  },
  {
   "cell_type": "code",
   "execution_count": 4,
   "metadata": {},
   "outputs": [],
   "source": [
    "def ConjugateTranspose(array):\n",
    "    axes = np.arange(len(array.shape))\n",
    "    axes[-2:] = np.flip(axes[-2:]) \n",
    "    return np.conjugate(np.transpose(array, axes = axes))"
   ]
  },
  {
   "cell_type": "code",
   "execution_count": 5,
   "metadata": {},
   "outputs": [],
   "source": [
    "def RandomSU2matrix():\n",
    "    tmp = np.random.rand(3)\n",
    "    a = np.sqrt(sum(tmp*tmp))\n",
    "    tmp /= a\n",
    "    out = np.array([[0.j,0.j],[0.j,0.j]])\n",
    "    for i in range(3):\n",
    "        out += Pauli[i] * tmp[i]\n",
    "    out *= np.sin(a) * 1j\n",
    "    return Id * np.cos(a) + out"
   ]
  },
  {
   "cell_type": "markdown",
   "metadata": {},
   "source": [
    "Dirac Lagrangian on the lattice using Wilson fermions:\n",
    "\n",
    "$\\overline{\\psi}_x D_{xy}[U] \\psi_y = \\overline{\\psi}_x \\left[ (m_q+2) \\delta_{xy} -\\frac{1}{2}\\sum_{\\mu} \\left(\\Gamma_{+\\mu} U_\\mu(x) \\delta_{x+\\hat\\mu,y} + \\Gamma_{-\\mu} U^\\dagger_\\mu(x-\\hat\\mu) \\delta_{x-\\hat\\mu,y} \\right) \\right] \\psi_y$,\n",
    "\n",
    "where $\\Gamma_{\\pm \\mu} = \\mathbb{1} \\mp \\gamma_\\mu$, $\\gamma_\\mu$ are the Dirac $\\gamma$-matrices, $U_\\mu(x)$ is the gauge link at site $x$ pointing at direction $\\mu$, and $\\hat\\mu$ is a unit vector pointing in direction $\\mu$.\n",
    "\n",
    "Note that the $\\Gamma$'s are $2 \\times 2$ matrices in 2 spacetime dimensions. Dirac and colour indices have been suppressed in the above formula for clarity."
   ]
  },
  {
   "cell_type": "markdown",
   "metadata": {},
   "source": [
    "Calculating D, and inverting D is numerically slow, therefore we use the approximation where we can expand the inverse acting on a vector by a sum over applying D multiple times to this same vector. For this we need to Calculate D, which is sparse, and then compute the Matrix-Vector multiplication, which can be done for CSR Sparse matrices. Other way to do this (maybe not possible in the optical hardware?) is to directly apply D to the vector, and this is also implemented"
   ]
  },
  {
   "cell_type": "code",
   "execution_count": 6,
   "metadata": {},
   "outputs": [],
   "source": [
    "psi = np.random.randn(lattice_volume, 2, 2)"
   ]
  },
  {
   "cell_type": "code",
   "execution_count": 7,
   "metadata": {},
   "outputs": [],
   "source": [
    "gauge_links = np.zeros((lattice_volume, nDim, 2,2),dtype = 'complex_' )\n",
    "for i in range(lattice_volume):\n",
    "    for j in range(nDim):\n",
    "        gauge_links[i,j] = RandomSU2matrix()"
   ]
  },
  {
   "cell_type": "code",
   "execution_count": 8,
   "metadata": {},
   "outputs": [],
   "source": [
    "def LinearToLattice(array, Nt, Nx):\n",
    "    return np.reshape(array, np.roll(np.append(np.array(array[0].shape), [Nx,Nt]),2))\n",
    "def LatticeToLinear(array, lattice_volume):\n",
    "    return np.reshape(array, np.roll(np.append(np.array(array[0,0].shape), lattice_volume),1))"
   ]
  },
  {
   "cell_type": "markdown",
   "metadata": {},
   "source": [
    "# Sparse Matrix Multiplication"
   ]
  },
  {
   "cell_type": "code",
   "execution_count": 9,
   "metadata": {},
   "outputs": [],
   "source": [
    "def CalculateD(Nx,Nt,Ns,Nc,lattice_volume,gauge_links,m,Pauli):\n",
    "    #Delta_x_y, dependent only on the onsite\n",
    "    diagonal = (m+2)\n",
    "    \n",
    "    #Symetric derivative, each dimension multiplied by a gamma matrix, in 2D, and in this choice, they are pauli matrices\n",
    "    offdiagonal_spinor_x_plus = Id - Pauli[0]\n",
    "    offdiagonal_spinor_x_minus = Id + Pauli[0]\n",
    "    offdiagonal_spinor_t_plus = Id - Pauli[2]\n",
    "    offdiagonal_spinor_t_minus = Id + Pauli[2]\n",
    "    \n",
    "    gauge_links = LinearToLattice(gauge_links, Nt,Nx)\n",
    "    gauge_links_shifted_t = np.roll(gauge_links[:,:,0], 1, axis = 0)\n",
    "    gauge_links_shifted_x = np.roll(gauge_links[:,:,1], 1, axis = 1)\n",
    "    gauge_links = LatticeToLinear(gauge_links, lattice_volume) * (-0.5)\n",
    "    gauge_links_shifted_t = LatticeToLinear(gauge_links_shifted_t, lattice_volume) * (-0.5)\n",
    "    gauge_links_shifted_x = LatticeToLinear(gauge_links_shifted_x, lattice_volume) * (-0.5)\n",
    "    \n",
    "    \n",
    "    #In each row they are 2^d (next Neighbors) + 1 (onsite)\n",
    "    row_index = np.arange(0,(2**nDim+1)*lattice_volume+1, 2**nDim+1)\n",
    "\n",
    "\n",
    "    col_index = np.array([])\n",
    "    values_spinors = np.array([])\n",
    "    values_colors = np.array([])\n",
    "    for i in range(lattice_volume):\n",
    "        #Just moving in time and space to the next neighbors considering periodic boundary\n",
    "        col_index = np.append(col_index,\n",
    "                                 np.array([(i%Nx) +((np.floor((i/Nt))-1)%Nt)*Nt\n",
    "                                           ,(np.floor(i/4)*4)+((i%Nx)-1)%Nx, i,\n",
    "                                           (np.floor(i/4)*4)+((i%Nx)+1)%Nx, (i%Nx) +((np.floor((i/Nt))+1)%Nt)*Nt]))\n",
    "        #Choose the right values depending on direction in space-time, according to the order from above in col_index\n",
    "        \n",
    "        values_spinors = np.append(values_spinors, np.array([offdiagonal_spinor_t_minus, \n",
    "                                         offdiagonal_spinor_x_minus, np.sqrt(diagonal)*np.identity(Ns), \n",
    "                                                             offdiagonal_spinor_x_plus, offdiagonal_spinor_t_plus]))\n",
    "        #We have to use sqrt of diagonal instead of diagonal, because we perform two matrix multiplication\n",
    "        \n",
    "#         values_colors = np.append(values_colors, np.array([gauge_links[(i%Nx) +((np.floor((i/Nt))-1)%Nt)*Nt,0].T, \n",
    "#                                          gauge_links[(np.floor(i/4)*4)+((i%Nx)-1)%Nx,1].T, diagonal*np.identity(Nc), \n",
    "#                                                              gauge_links[i,1], \n",
    "#                                                            offdiagonal_spinor_t_plus]))\n",
    "        values_colors = np.append(values_colors, np.array([ConjugateTranspose(gauge_links_shifted_t[i]), \n",
    "                                         ConjugateTranspose(gauge_links_shifted_x[i]), np.sqrt(diagonal)*np.identity(Nc), \n",
    "                                                             gauge_links[i,1], gauge_links[i,0]]))\n",
    "    \n",
    "        #I feel the transpose should be opposite, or idk\n",
    "        \n",
    "        #Maybe it's smart to add a value_diagonal, and separate all three, we could eliminate the diagonal term in col\n",
    "        #and then we can choose the correct gauge link using the col_index. Or maybe we could move the gauge_link to right\n",
    "        #The problem with the first approach, is that the positive u dont shift the gauge link. Therefore, maybe only\n",
    "        #considere specific elements of col_index, namely the minus part and the diagonal part. \n",
    "        \n",
    "        \n",
    "    values_spinors = np.reshape(values_spinors, (lattice_volume*(2**nDim+1), Ns,Ns))\n",
    "    values_colors = np.reshape(values_colors, (lattice_volume*(2**nDim+1), Nc,Nc))\n",
    "    return row_index.astype(int), col_index.astype(int), values_spinors, values_colors"
   ]
  },
  {
   "cell_type": "code",
   "execution_count": 10,
   "metadata": {},
   "outputs": [],
   "source": [
    "def CalculateD_flatten(Nx,Nt,Ns,Nc,lattice_volume,gauge_links,m,Pauli):\n",
    "    #Delta_x_y, dependent only on the onsite\n",
    "    diagonal = (m+2)\n",
    "   \n",
    "    #Symetric derivative, each dimension multiplied by a gamma matrix, in 2D, and in this choice, they are pauli matrices\n",
    "    offdiagonal_spinor_x_plus = Id - Pauli[0]\n",
    "    offdiagonal_spinor_x_minus = Id + Pauli[0]\n",
    "    offdiagonal_spinor_t_plus = Id - Pauli[2]\n",
    "    offdiagonal_spinor_t_minus = Id + Pauli[2]\n",
    "   \n",
    "    gauge_links = LinearToLattice(gauge_links, Nt,Nx)\n",
    "    gauge_links_shifted_t = np.roll(gauge_links[:,:,0], 1, axis = 0)\n",
    "    gauge_links_shifted_x = np.roll(gauge_links[:,:,1], 1, axis = 1)\n",
    "    gauge_links = LatticeToLinear(gauge_links, lattice_volume) * (-0.5)\n",
    "    gauge_links_shifted_t_T = ConjugateTranspose(LatticeToLinear(gauge_links_shifted_t, lattice_volume) * (-0.5)) #.T correct?\n",
    "    gauge_links_shifted_x_T = ConjugateTranspose(LatticeToLinear(gauge_links_shifted_x, lattice_volume) * (-0.5))\n",
    "   \n",
    "    offdiag_x_plus = np.kron(gauge_links[:,1,:,:],offdiagonal_spinor_x_plus) #Careful with U dimension t,x\n",
    "    offdiag_x_minus = np.kron(gauge_links_shifted_x_T,offdiagonal_spinor_x_minus)\n",
    "    offdiag_t_plus = np.kron(gauge_links[:,0,:,:],offdiagonal_spinor_t_plus)\n",
    "    offdiag_t_minus = np.kron(gauge_links_shifted_t_T,offdiagonal_spinor_t_minus)\n",
    "\n",
    "    #In each row they are 2^d (next Neighbors) + 1 (onsite)\n",
    "    row_index = np.arange(0,(2**nDim+1)*lattice_volume+1, 2**nDim+1)\n",
    "\n",
    "\n",
    "    col_index = np.array([])\n",
    "    values = np.array([])\n",
    "\n",
    "    for i in range(lattice_volume):\n",
    "        #Just moving in time and space to the next neighbors considering periodic boundary\n",
    "        col_index = np.append(col_index,\n",
    "                                 np.array([(i%Nx) +((np.floor((i/Nt))-1)%Nt)*Nt\n",
    "                                           ,(np.floor(i/4)*4)+((i%Nx)-1)%Nx, i,\n",
    "                                           (np.floor(i/4)*4)+((i%Nx)+1)%Nx, (i%Nx) +((np.floor((i/Nt))+1)%Nt)*Nt]))\n",
    "        #Choose the right values depending on direction in space-time, according to the order from above in col_index\n",
    "       \n",
    "        values = np.append(values, np.array([offdiag_t_minus[i],\n",
    "                                         offdiag_x_minus[i], diagonal*np.identity(Ns*Nc),\n",
    "                                                             offdiag_x_plus[i], offdiag_t_plus[i]]))\n",
    "\n",
    "       \n",
    "    values = np.reshape(values, (lattice_volume*(2**nDim+1), Ns*Nc,Ns*Nc))\n",
    "    return row_index.astype(int), col_index.astype(int), values\n"
   ]
  },
  {
   "cell_type": "code",
   "execution_count": 11,
   "metadata": {},
   "outputs": [],
   "source": [
    "def SparseMatrixVectorMultiplication(rows, cols, vals, input_vec):\n",
    "    out_vec = np.zeros(input_vec.shape,dtype = 'complex_')\n",
    "    for i in range(input_vec[:,0].size):\n",
    "        row_elem = rows[i]\n",
    "        num_elements = rows[i+1] - rows[i]\n",
    "\n",
    "        output = np.zeros(input_vec[0].shape,dtype = 'complex_')\n",
    "        for j in range(num_elements):\n",
    "            output = output + np.matmul(vals[row_elem + j],  input_vec[cols[row_elem + j]])\n",
    "        out_vec[i] = output\n",
    "    \n",
    "    return out_vec"
   ]
  },
  {
   "cell_type": "code",
   "execution_count": 12,
   "metadata": {},
   "outputs": [],
   "source": [
    "def SparseMatrixVectorMultiplication2(rows, cols, values_spinors, values_colors, input_vec):\n",
    "    out_vec = np.zeros(input_vec.shape,dtype = 'complex_')\n",
    "    for i in range(input_vec[:,0,0].size):\n",
    "        row_elem = rows[i]\n",
    "        num_elements = rows[i+1] - rows[i]\n",
    "\n",
    "        output = np.zeros(input_vec[0].shape,dtype = 'complex_')\n",
    "        for j in range(num_elements):\n",
    "            output = output + np.matmul(np.matmul(values_colors[row_elem + j],  input_vec[cols[row_elem + j]]),\n",
    "                                        values_spinors[row_elem + j].T)\n",
    "        out_vec[i] = output\n",
    "    \n",
    "    return out_vec"
   ]
  },
  {
   "cell_type": "markdown",
   "metadata": {},
   "source": [
    "#### Test random U"
   ]
  },
  {
   "cell_type": "code",
   "execution_count": 13,
   "metadata": {},
   "outputs": [],
   "source": [
    "Ns = 2\n",
    "Nc = 3\n",
    "m = 1\n",
    "psi = np.random.randn(lattice_volume,Nc,Ns)\n",
    "psi_flatten = np.reshape(psi, (lattice_volume, Nc*Ns))\n",
    "gauge_links = np.random.randn(lattice_volume, nDim, Nc,Nc)\n",
    "rows, cols, values = CalculateD_flatten(Nx,Nt,Ns,Nc,lattice_volume,gauge_links,m,Pauli)\n",
    "psi_new_flatten = SparseMatrixVectorMultiplication(rows, cols, values, psi_flatten)\n",
    "rows, cols, values_spinors, values_colors = CalculateD(Nx,Nt,Ns,Nc,lattice_volume,gauge_links,m,Pauli)\n",
    "psi_new = SparseMatrixVectorMultiplication2(rows, cols, values_spinors, values_colors, psi)"
   ]
  },
  {
   "cell_type": "code",
   "execution_count": 14,
   "metadata": {},
   "outputs": [
    {
     "data": {
      "text/plain": [
       "(5.605801790696639e-15+0j)"
      ]
     },
     "execution_count": 14,
     "metadata": {},
     "output_type": "execute_result"
    }
   ],
   "source": [
    "psi_new_reshaped = np.reshape(psi_new_flatten, (lattice_volume,Nc,Ns))\n",
    "np.sqrt(np.sum((psi_new-psi_new_reshaped)**2))"
   ]
  },
  {
   "cell_type": "markdown",
   "metadata": {},
   "source": [
    "#### Test unitary U"
   ]
  },
  {
   "cell_type": "code",
   "execution_count": 15,
   "metadata": {},
   "outputs": [
    {
     "data": {
      "text/plain": [
       "(4.615988440375771e-15-2.4366245757551863e-17j)"
      ]
     },
     "execution_count": 15,
     "metadata": {},
     "output_type": "execute_result"
    }
   ],
   "source": [
    "gauge_links = np.zeros((lattice_volume, nDim, Nc,Nc),dtype = 'complex_' )\n",
    "for i in range(lattice_volume):\n",
    "    for j in range(nDim):\n",
    "        gauge_links[i,j] = unitary_group.rvs(Nc)\n",
    "        \n",
    "Ns = 2\n",
    "Nc = 3\n",
    "m = 1\n",
    "psi = np.random.randn(lattice_volume,Nc,Ns)\n",
    "psi_flatten = np.reshape(psi, (lattice_volume, Nc*Ns))\n",
    "rows, cols, values = CalculateD_flatten(Nx,Nt,Ns,Nc,lattice_volume,gauge_links,m,Pauli)\n",
    "psi_new_flatten = SparseMatrixVectorMultiplication(rows, cols, values, psi_flatten)\n",
    "rows, cols, values_spinors, values_colors = CalculateD(Nx,Nt,Ns,Nc,lattice_volume,gauge_links,m,Pauli)\n",
    "psi_new = SparseMatrixVectorMultiplication2(rows, cols, values_spinors, values_colors, psi)\n",
    "psi_new_reshaped = np.reshape(psi_new_flatten, (lattice_volume,Nc,Ns))\n",
    "np.sqrt(np.sum((psi_new-psi_new_reshaped)**2))"
   ]
  },
  {
   "cell_type": "markdown",
   "metadata": {},
   "source": [
    "# Apply D directly"
   ]
  },
  {
   "cell_type": "code",
   "execution_count": 16,
   "metadata": {},
   "outputs": [],
   "source": [
    "def applyD(lattice_volume,Nt, Nx ,gauge_links,m,Pauli,psi):\n",
    "    #I find it easier to broadcast when working with a 2D system, probably not ideal for big calculations, can be corrected\n",
    "    if len(gauge_links) ==lattice_volume:\n",
    "        gauge_links = LinearToLattice(gauge_links, Nt,Nx)\n",
    "    if len(psi) ==lattice_volume:\n",
    "        psi = LinearToLattice(psi, Nt,Nx)\n",
    "\n",
    "    diagonal = (m+2)\n",
    "    #Symetric derivative, each dimension multiplied by a gamma matrix, in 2D, and in this choice, they are pauli matrices\n",
    "    offdiagonal_spinor_x_plus = Id - Pauli[0]\n",
    "    offdiagonal_spinor_x_minus = Id + Pauli[0]\n",
    "    offdiagonal_spinor_t_plus = Id - Pauli[2]\n",
    "    offdiagonal_spinor_t_minus = Id + Pauli[2]\n",
    "\n",
    "    gauge_links_shifted_t = np.roll(gauge_links[:,:,0], 1, axis = 0)\n",
    "    gauge_links_shifted_x = np.roll(gauge_links[:,:,1], 1, axis = 1)\n",
    "\n",
    "    #define jx, and jt, for choosing the right values for the neighbours considering periodic boundary\n",
    "    psi_shifted_m_t = np.roll(psi, 1, axis = 0)\n",
    "    psi_shifted_p_t = np.roll(psi, -1, axis = 0)\n",
    "    psi_shifted_m_x = np.roll(psi, 1, axis = 1)\n",
    "    psi_shifted_p_x = np.roll(psi, -1, axis = 1)\n",
    "\n",
    "\n",
    "    #Apply the gamma matrices to the sum of NN, (maybe this part is not right in sense of the spin indices, idk)\n",
    "    time_contribution_m = np.matmul(ConjugateTranspose(gauge_links_shifted_t), psi_shifted_m_t)\n",
    "    time_contribution_p = np.matmul(gauge_links[:,:,0,:,:], psi_shifted_p_t)\n",
    "    space_contribution_m = np.matmul(ConjugateTranspose(gauge_links_shifted_x), psi_shifted_m_x)\n",
    "    space_contribution_p = np.matmul(gauge_links[:,:,1,:,:], psi_shifted_p_x)\n",
    "\n",
    "    # Estos matmuls son diferentes a los matmul\n",
    "    time_contribution_m = np.matmul(time_contribution_m, Transpose(offdiagonal_spinor_t_minus))\n",
    "    time_contribution_p = np.matmul(time_contribution_p, Transpose(offdiagonal_spinor_t_plus))\n",
    "    space_contribution_m = np.matmul(space_contribution_m, Transpose(offdiagonal_spinor_x_minus))\n",
    "    space_contribution_p = np.matmul(space_contribution_p, Transpose(offdiagonal_spinor_x_plus))\n",
    "    \n",
    "\n",
    "    #Apply psi on the diagonal\n",
    "    self_contribution = diagonal*psi\n",
    "    #Add all\n",
    "    psi_new = self_contribution -0.5* (time_contribution_m + \n",
    "                                       time_contribution_p + space_contribution_m + space_contribution_p)\n",
    "    \n",
    "    return psi_new"
   ]
  },
  {
   "cell_type": "code",
   "execution_count": 17,
   "metadata": {},
   "outputs": [],
   "source": [
    "def applyD_flatten(lattice_volume,Nt, Nx ,gauge_links,m,Pauli,psi):\n",
    "    #I find it easier to broadcast when working with a 2D system, probably not ideal for big calculations, can be corrected\n",
    "    if len(gauge_links) ==lattice_volume:\n",
    "        gauge_links = LinearToLattice(gauge_links, Nt,Nx)\n",
    "    if len(psi) ==lattice_volume:\n",
    "        psi = LinearToLattice(psi, Nt,Nx)\n",
    "\n",
    "    diagonal = (m+2)\n",
    "    #Symetric derivative, each dimension multiplied by a gamma matrix, in 2D, and in this choice, they are pauli matrices\n",
    "    offdiagonal_spinor_x_plus = Id - Pauli[0]\n",
    "    offdiagonal_spinor_x_minus = Id + Pauli[0]\n",
    "    offdiagonal_spinor_t_plus = Id - Pauli[2]\n",
    "    offdiagonal_spinor_t_minus = Id + Pauli[2]\n",
    "\n",
    "    gauge_links_shifted_t = np.roll(gauge_links[:,:,0], 1, axis = 0)\n",
    "    gauge_links_shifted_x = np.roll(gauge_links[:,:,1], 1, axis = 1)\n",
    "   \n",
    "    offdiagonal_spinor_x_plus = Id - Pauli[0]\n",
    "    offdiagonal_spinor_x_minus = Id + Pauli[0]\n",
    "    offdiagonal_spinor_t_plus = Id - Pauli[2]\n",
    "    offdiagonal_spinor_t_minus = Id + Pauli[2]\n",
    "\n",
    "\n",
    "   \n",
    "\n",
    "   \n",
    "   \n",
    "   \n",
    "    #define jx, and jt, for choosing the right values for the neighbours considering periodic boundary\n",
    "    psi_shifted_m_t = np.roll(psi, 1, axis = 0)\n",
    "    psi_shifted_p_t = np.roll(psi, -1, axis = 0)\n",
    "    psi_shifted_m_x = np.roll(psi, 1, axis = 1)\n",
    "    psi_shifted_p_x = np.roll(psi, -1, axis = 1)\n",
    "\n",
    "   \n",
    "    offdiag_x_plus = np.kron(gauge_links[:,:,1,:,:],offdiagonal_spinor_x_plus) #Careful with U dimension t,x\n",
    "    offdiag_x_minus = np.kron(ConjugateTranspose(gauge_links_shifted_x),offdiagonal_spinor_x_minus)\n",
    "    offdiag_t_plus = np.kron(gauge_links[:,:,0,:,:],offdiagonal_spinor_t_plus)\n",
    "    offdiag_t_minus = np.kron(ConjugateTranspose(gauge_links_shifted_t),offdiagonal_spinor_t_minus)\n",
    "   \n",
    "\n",
    "    #Apply the gamma matrices to the sum of NN, (maybe this part is not right in sense of the spin indices, idk)\n",
    "    time_contribution_m = np.matmul(offdiag_t_minus, psi_shifted_m_t[:,:,:,None]) #Do this without None\n",
    "    time_contribution_p = np.matmul(offdiag_t_plus, psi_shifted_p_t[:,:,:,None])\n",
    "    space_contribution_m = np.matmul(offdiag_x_minus, psi_shifted_m_x[:,:,:,None])\n",
    "    space_contribution_p = np.matmul(offdiag_x_plus, psi_shifted_p_x[:,:,:,None])\n",
    "\n",
    "\n",
    "\n",
    "    #Apply psi on the diagonal\n",
    "    self_contribution = diagonal*psi\n",
    "    #Add all\n",
    "    psi_new = self_contribution -0.5* np.squeeze((time_contribution_m +  #Squeeze is weird!\n",
    "                                       time_contribution_p + space_contribution_m + space_contribution_p))\n",
    "   \n",
    "    return psi_new"
   ]
  },
  {
   "cell_type": "markdown",
   "metadata": {},
   "source": [
    "#### Test random U"
   ]
  },
  {
   "cell_type": "code",
   "execution_count": 18,
   "metadata": {},
   "outputs": [
    {
     "data": {
      "text/plain": [
       "3.294389233622972e-15"
      ]
     },
     "execution_count": 18,
     "metadata": {},
     "output_type": "execute_result"
    }
   ],
   "source": [
    "Ns = 2\n",
    "Nc = 3\n",
    "m = 1\n",
    "psi = np.random.randn(lattice_volume,Nc,Ns)\n",
    "psi_flatten = np.reshape(psi, (lattice_volume, Nc*Ns))\n",
    "gauge_links = np.random.randn(lattice_volume, nDim, Nc,Nc)\n",
    "psi_new2 = applyD(lattice_volume,Nt, Nx ,gauge_links,m,Pauli,psi)\n",
    "psi_new2_flatten = applyD_flatten(lattice_volume,Nt, Nx ,gauge_links,m,Pauli,psi_flatten)\n",
    "\n",
    "psi_new2_reshaped = np.reshape(psi_new2_flatten, (Nt,Nx,Nc,Ns))\n",
    "np.sqrt(np.sum((psi_new2 - psi_new2_reshaped)**2))"
   ]
  },
  {
   "cell_type": "markdown",
   "metadata": {},
   "source": [
    "#### Test unitary U"
   ]
  },
  {
   "cell_type": "code",
   "execution_count": 19,
   "metadata": {},
   "outputs": [
    {
     "data": {
      "text/plain": [
       "(1.4214727742502255e-15+1.1814583732646566e-16j)"
      ]
     },
     "execution_count": 19,
     "metadata": {},
     "output_type": "execute_result"
    }
   ],
   "source": [
    "gauge_links = np.zeros((lattice_volume, nDim, Nc,Nc),dtype = 'complex_' )\n",
    "for i in range(lattice_volume):\n",
    "    for j in range(nDim):\n",
    "        gauge_links[i,j] = unitary_group.rvs(Nc)\n",
    "Ns = 2\n",
    "Nc = 3\n",
    "m = 1\n",
    "psi = np.random.randn(lattice_volume,Nc,Ns)\n",
    "psi_flatten = np.reshape(psi, (lattice_volume, Nc*Ns))\n",
    "psi_new2 = applyD(lattice_volume,Nt, Nx ,gauge_links,m,Pauli,psi)\n",
    "psi_new2_flatten = applyD_flatten(lattice_volume,Nt, Nx ,gauge_links,m,Pauli,psi_flatten)\n",
    "\n",
    "psi_new2_reshaped = np.reshape(psi_new2_flatten, (Nt,Nx,Nc,Ns))\n",
    "np.sqrt(np.sum((psi_new2 - psi_new2_reshaped)**2))"
   ]
  },
  {
   "cell_type": "code",
   "execution_count": null,
   "metadata": {},
   "outputs": [],
   "source": []
  }
 ],
 "metadata": {
  "kernelspec": {
   "display_name": "Python 3",
   "language": "python",
   "name": "python3"
  },
  "language_info": {
   "codemirror_mode": {
    "name": "ipython",
    "version": 3
   },
   "file_extension": ".py",
   "mimetype": "text/x-python",
   "name": "python",
   "nbconvert_exporter": "python",
   "pygments_lexer": "ipython3",
   "version": "3.9.2"
  }
 },
 "nbformat": 4,
 "nbformat_minor": 4
}
