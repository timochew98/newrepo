{
 "cells": [
  {
   "cell_type": "code",
   "execution_count": 1,
   "metadata": {},
   "outputs": [],
   "source": [
    "import numpy as np\n",
    "from scipy.stats import unitary_group\n",
    "\n",
    "#fixed!!\n",
    "nDim = 2\n",
    "Ns = 2\n",
    "Nc = 2\n",
    "\n",
    "Nx = 4\n",
    "Nt = 4\n",
    "lattice_volume = Nt * Nx"
   ]
  },
  {
   "cell_type": "code",
   "execution_count": 2,
   "metadata": {},
   "outputs": [],
   "source": [
    "Pauli = []\n",
    "Pauli.append(np.array([[0, 1], [1, 0]]))\n",
    "Pauli.append(np.array([[0,-1j], [1j, 0]]))\n",
    "Pauli.append(np.array([[1, 0], [0, -1]]))\n",
    "Id = np.array([[1, 0], [0, 1]])"
   ]
  },
  {
   "cell_type": "code",
   "execution_count": 3,
   "metadata": {},
   "outputs": [],
   "source": [
    "def RandomSU2matrix():\n",
    "    tmp = np.random.rand(3)\n",
    "    a = np.sqrt(sum(tmp*tmp))\n",
    "    tmp /= a\n",
    "    out = np.array([[0.j,0.j],[0.j,0.j]])\n",
    "    for i in range(3):\n",
    "        out += Pauli[i] * tmp[i]\n",
    "    out *= np.sin(a) * 1j\n",
    "    return Id * np.cos(a) + out"
   ]
  },
  {
   "cell_type": "markdown",
   "metadata": {},
   "source": [
    "Dirac Lagrangian on the lattice using Wilson fermions:\n",
    "\n",
    "$\\overline{\\psi}_x D_{xy}[U] \\psi_y = \\overline{\\psi}_x \\left[ (m_q+2) \\delta_{xy} -\\frac{1}{2}\\sum_{\\mu} \\left(\\Gamma_{+\\mu} U_\\mu(x) \\delta_{x+\\hat\\mu,y} + \\Gamma_{-\\mu} U^\\dagger_\\mu(x-\\hat\\mu) \\delta_{x-\\hat\\mu,y} \\right) \\right] \\psi_y$,\n",
    "\n",
    "where $\\Gamma_{\\pm \\mu} = \\mathbb{1} \\mp \\gamma_\\mu$, $\\gamma_\\mu$ are the Dirac $\\gamma$-matrices, $U_\\mu(x)$ is the gauge link at site $x$ pointing at direction $\\mu$, and $\\hat\\mu$ is a unit vector pointing in direction $\\mu$.\n",
    "\n",
    "Note that the $\\Gamma$'s are $2 \\times 2$ matrices in 2 spacetime dimensions. Dirac and colour indices have been suppressed in the above formula for clarity."
   ]
  },
  {
   "cell_type": "markdown",
   "metadata": {},
   "source": [
    "Calculating D, and inverting D is numerically slow, therefore we use the approximation where we can expand the inverse acting on a vector by a sum over applying D multiple times to this same vector. For this we need to Calculate D, which is sparse, and then compute the Matrix-Vector multiplication, which can be done for CSR Sparse matrices. Other way to do this (maybe not possible in the optical hardware?) is to directly apply D to the vector, and this is also implemented"
   ]
  },
  {
   "cell_type": "code",
   "execution_count": 4,
   "metadata": {},
   "outputs": [],
   "source": [
    "psi = np.random.randn(lattice_volume, 2, 2)"
   ]
  },
  {
   "cell_type": "code",
   "execution_count": 5,
   "metadata": {},
   "outputs": [],
   "source": [
    "gauge_links = np.zeros((lattice_volume, nDim, 2,2),dtype = 'complex_' )\n",
    "for i in range(lattice_volume):\n",
    "    for j in range(nDim):\n",
    "        gauge_links[i,j] = RandomSU2matrix()"
   ]
  },
  {
   "cell_type": "code",
   "execution_count": 6,
   "metadata": {},
   "outputs": [],
   "source": [
    "def LinearToLattice(array, Nt, Nx):\n",
    "    return np.reshape(array, np.roll(np.append(np.array(array[0].shape), [Nx,Nt]),2))\n",
    "def LatticeToLinear(array, lattice_volume):\n",
    "    return np.reshape(array, np.roll(np.append(np.array(array[0,0].shape), lattice_volume),1))"
   ]
  },
  {
   "cell_type": "code",
   "execution_count": 7,
   "metadata": {},
   "outputs": [],
   "source": [
    "def ConjugateTranspose(array):\n",
    "    axes = np.arange(len(array.shape))\n",
    "    axes[-2:] = np.flip(axes[-2:]) \n",
    "    return np.conjugate(np.transpose(array, axes = axes))"
   ]
  },
  {
   "cell_type": "code",
   "execution_count": 8,
   "metadata": {},
   "outputs": [],
   "source": [
    "def Transpose(array):\n",
    "    axes = np.arange(len(array.shape))\n",
    "    axes[-2:] = np.flip(axes[-2:]) \n",
    "    return np.transpose(array, axes = axes)"
   ]
  },
  {
   "cell_type": "code",
   "execution_count": 9,
   "metadata": {},
   "outputs": [],
   "source": [
    "def CalculateD(Nx,Nt,Ns,Nc,lattice_volume,gauge_links,m,Pauli):\n",
    "    #Delta_x_y, dependent only on the onsite\n",
    "    diagonal = (m+2)\n",
    "    \n",
    "    #Symetric derivative, each dimension multiplied by a gamma matrix, in 2D, and in this choice, they are pauli matrices\n",
    "    offdiagonal_spinor_x_plus = Id - Pauli[0]\n",
    "    offdiagonal_spinor_x_minus = Id + Pauli[0]\n",
    "    offdiagonal_spinor_t_plus = Id - Pauli[2]\n",
    "    offdiagonal_spinor_t_minus = Id + Pauli[2]\n",
    "    \n",
    "    gauge_links = LinearToLattice(gauge_links, Nt,Nx)\n",
    "    gauge_links_shifted_t = np.roll(gauge_links[:,:,0], 1, axis = 0)\n",
    "    gauge_links_shifted_x = np.roll(gauge_links[:,:,1], 1, axis = 1)\n",
    "    gauge_links = LatticeToLinear(gauge_links, lattice_volume) * (-0.5)\n",
    "    gauge_links_shifted_t = LatticeToLinear(gauge_links_shifted_t, lattice_volume) * (-0.5)\n",
    "    gauge_links_shifted_x = LatticeToLinear(gauge_links_shifted_x, lattice_volume) * (-0.5)\n",
    "    \n",
    "    \n",
    "    #In each row they are 2^d (next Neighbors) + 1 (onsite)\n",
    "    row_index = np.arange(0,(2**nDim+1)*lattice_volume+1, 2**nDim+1)\n",
    "\n",
    "\n",
    "    col_index = np.array([])\n",
    "    values_spinors = np.array([])\n",
    "    values_colors = np.array([])\n",
    "    for i in range(lattice_volume):\n",
    "        #Just moving in time and space to the next neighbors considering periodic boundary\n",
    "        col_index = np.append(col_index,\n",
    "                                 np.array([(i%Nx) +((np.floor((i/Nt))-1)%Nt)*Nt\n",
    "                                           ,(np.floor(i/4)*4)+((i%Nx)-1)%Nx, i,\n",
    "                                           (np.floor(i/4)*4)+((i%Nx)+1)%Nx, (i%Nx) +((np.floor((i/Nt))+1)%Nt)*Nt]))\n",
    "        #Choose the right values depending on direction in space-time, according to the order from above in col_index\n",
    "        \n",
    "        values_spinors = np.append(values_spinors, np.array([offdiagonal_spinor_t_minus, \n",
    "                                         offdiagonal_spinor_x_minus, np.sqrt(diagonal)*np.identity(Ns), \n",
    "                                                             offdiagonal_spinor_x_plus, offdiagonal_spinor_t_plus]))\n",
    "        #We have to use sqrt of diagonal instead of diagonal, because we perform two matrix multiplication\n",
    "        \n",
    "#         values_colors = np.append(values_colors, np.array([gauge_links[(i%Nx) +((np.floor((i/Nt))-1)%Nt)*Nt,0].T, \n",
    "#                                          gauge_links[(np.floor(i/4)*4)+((i%Nx)-1)%Nx,1].T, diagonal*np.identity(Nc), \n",
    "#                                                              gauge_links[i,1], \n",
    "#                                                            offdiagonal_spinor_t_plus]))\n",
    "        values_colors = np.append(values_colors, np.array([ConjugateTranspose(gauge_links_shifted_t[i]), \n",
    "                                         ConjugateTranspose(gauge_links_shifted_x[i]), np.sqrt(diagonal)*np.identity(Nc), \n",
    "                                                             gauge_links[i,1], gauge_links[i,0]]))\n",
    "    \n",
    "        #I feel the transpose should be opposite, or idk\n",
    "        \n",
    "        #Maybe it's smart to add a value_diagonal, and separate all three, we could eliminate the diagonal term in col\n",
    "        #and then we can choose the correct gauge link using the col_index. Or maybe we could move the gauge_link to right\n",
    "        #The problem with the first approach, is that the positive u dont shift the gauge link. Therefore, maybe only\n",
    "        #considere specific elements of col_index, namely the minus part and the diagonal part. \n",
    "        \n",
    "        \n",
    "    values_spinors = np.reshape(values_spinors, (lattice_volume*(2**nDim+1), Ns,Ns))\n",
    "    values_colors = np.reshape(values_colors, (lattice_volume*(2**nDim+1), Nc,Nc))\n",
    "    return row_index.astype(int), col_index.astype(int), values_spinors, values_colors"
   ]
  },
  {
   "cell_type": "code",
   "execution_count": 10,
   "metadata": {},
   "outputs": [],
   "source": [
    "def SparseMatrixVectorMultiplication(rows, cols, values_spinors, values_colors, input_vec):\n",
    "    out_vec = np.zeros(input_vec.shape,dtype = 'complex_')\n",
    "    for i in range(input_vec[:,0,0].size):\n",
    "        row_elem = rows[i]\n",
    "        num_elements = rows[i+1] - rows[i]\n",
    "\n",
    "        output = np.zeros(input_vec[0].shape,dtype = 'complex_')\n",
    "        for j in range(num_elements):\n",
    "            output = output + np.matmul(np.matmul(values_colors[row_elem + j],  input_vec[cols[row_elem + j]]),\n",
    "                                        values_spinors[row_elem + j].T)\n",
    "        out_vec[i] = output\n",
    "    \n",
    "    return out_vec"
   ]
  },
  {
   "cell_type": "code",
   "execution_count": 11,
   "metadata": {},
   "outputs": [],
   "source": [
    "Ns = 2\n",
    "Nc = 3\n",
    "m = 1\n",
    "psi = np.random.randn(lattice_volume,Nc,Ns)\n",
    "gauge_links = np.random.randn(lattice_volume, nDim, Nc,Nc)"
   ]
  },
  {
   "cell_type": "code",
   "execution_count": null,
   "metadata": {},
   "outputs": [],
   "source": []
  },
  {
   "cell_type": "code",
   "execution_count": 12,
   "metadata": {},
   "outputs": [],
   "source": [
    "rows, cols, values_spinors, values_colors = CalculateD(Nx,Nt,Ns,Nc,lattice_volume,gauge_links,m,Pauli)\n",
    "psi_new = SparseMatrixVectorMultiplication(rows, cols, values_spinors, values_colors, psi)\n",
    "\n",
    "# psi_new = SparseMatrixVectorMultiplication(rows, cols, values_spinors, np.transpose(psi_new, axes = (0,2,1)))\n",
    "# psi_new = np.transpose(psi_new, axes = (0,2,1))"
   ]
  },
  {
   "cell_type": "code",
   "execution_count": null,
   "metadata": {},
   "outputs": [],
   "source": []
  },
  {
   "cell_type": "code",
   "execution_count": 13,
   "metadata": {},
   "outputs": [],
   "source": [
    "def applyD(lattice_volume,Nt, Nx ,gauge_links,m,Pauli,psi):\n",
    "    #I find it easier to broadcast when working with a 2D system, probably not ideal for big calculations, can be corrected\n",
    "    if len(gauge_links) ==lattice_volume:\n",
    "        gauge_links = LinearToLattice(gauge_links, Nt,Nx)\n",
    "    if len(psi) ==lattice_volume:\n",
    "        psi = LinearToLattice(psi, Nt,Nx)\n",
    "\n",
    "    diagonal = (m+2)\n",
    "    #Symetric derivative, each dimension multiplied by a gamma matrix, in 2D, and in this choice, they are pauli matrices\n",
    "    offdiagonal_spinor_x_plus = Id - Pauli[0]\n",
    "    offdiagonal_spinor_x_minus = Id + Pauli[0]\n",
    "    offdiagonal_spinor_t_plus = Id - Pauli[2]\n",
    "    offdiagonal_spinor_t_minus = Id + Pauli[2]\n",
    "\n",
    "    gauge_links_shifted_t = np.roll(gauge_links[:,:,0], 1, axis = 0)\n",
    "    gauge_links_shifted_x = np.roll(gauge_links[:,:,1], 1, axis = 1)\n",
    "\n",
    "    #define jx, and jt, for choosing the right values for the neighbours considering periodic boundary\n",
    "    psi_shifted_m_t = np.roll(psi, 1, axis = 0)\n",
    "    psi_shifted_p_t = np.roll(psi, -1, axis = 0)\n",
    "    psi_shifted_m_x = np.roll(psi, 1, axis = 1)\n",
    "    psi_shifted_p_x = np.roll(psi, -1, axis = 1)\n",
    "\n",
    "\n",
    "    #Apply the gamma matrices to the sum of NN, (maybe this part is not right in sense of the spin indices, idk)\n",
    "    time_contribution_m = np.matmul(ConjugateTranspose(gauge_links_shifted_t), psi_shifted_m_t)\n",
    "    time_contribution_p = np.matmul(gauge_links[:,:,0,:,:], psi_shifted_p_t)\n",
    "    space_contribution_m = np.matmul(ConjugateTranspose(gauge_links_shifted_x), psi_shifted_m_x)\n",
    "    space_contribution_p = np.matmul(gauge_links[:,:,1,:,:], psi_shifted_p_x)\n",
    "\n",
    "    # Estos matmuls son diferentes a los matmul\n",
    "    time_contribution_m = np.matmul(time_contribution_m, Transpose(offdiagonal_spinor_t_minus))\n",
    "    time_contribution_p = np.matmul(time_contribution_p, Transpose(offdiagonal_spinor_t_plus))\n",
    "    space_contribution_m = np.matmul(space_contribution_m, Transpose(offdiagonal_spinor_x_minus))\n",
    "    space_contribution_p = np.matmul(space_contribution_p, Transpose(offdiagonal_spinor_x_plus))\n",
    "    \n",
    "\n",
    "    #Apply psi on the diagonal\n",
    "    self_contribution = diagonal*psi\n",
    "    #Add all\n",
    "    psi_new = self_contribution -0.5* (time_contribution_m + \n",
    "                                       time_contribution_p + space_contribution_m + space_contribution_p)\n",
    "    \n",
    "    return psi_new"
   ]
  },
  {
   "cell_type": "code",
   "execution_count": 14,
   "metadata": {},
   "outputs": [],
   "source": [
    "Ns = 2\n",
    "Nc = 3\n",
    "m = 1\n",
    "psi = np.random.randn(lattice_volume,Nc,Ns)\n",
    "gauge_links = np.random.randn(lattice_volume, nDim, Nc,Nc)"
   ]
  },
  {
   "cell_type": "code",
   "execution_count": 15,
   "metadata": {},
   "outputs": [],
   "source": [
    "rows, cols, values_spinors, values_colors = CalculateD(Nx,Nt,Ns,Nc,lattice_volume,gauge_links,m,Pauli)\n",
    "psi_new = SparseMatrixVectorMultiplication(rows, cols, values_spinors, values_colors, psi)\n",
    "# psi_new = SparseMatrixVectorMultiplication(rows, cols, values_spinors, np.transpose(psi_new, axes = (0,2,1)))\n",
    "# psi_new = np.transpose(psi_new, axes = (0,2,1))"
   ]
  },
  {
   "cell_type": "code",
   "execution_count": 16,
   "metadata": {},
   "outputs": [],
   "source": [
    "psi_new2 = applyD(lattice_volume,Nt, Nx ,gauge_links,m,Pauli,psi)"
   ]
  },
  {
   "cell_type": "code",
   "execution_count": 17,
   "metadata": {},
   "outputs": [
    {
     "data": {
      "text/plain": [
       "(2.842170943040401e-14+0j)"
      ]
     },
     "execution_count": 17,
     "metadata": {},
     "output_type": "execute_result"
    }
   ],
   "source": [
    "np.sum(np.sqrt((LatticeToLinear(psi_new2,lattice_volume)-psi_new)**2))"
   ]
  },
  {
   "cell_type": "markdown",
   "metadata": {},
   "source": [
    "Dirac Lagrangian on the lattice using Wilson fermions:\n",
    "\n",
    "$\\overline{\\psi}_x D_{xy}[U] \\psi_y = \\overline{\\psi}_x \\left[ (m_q+2) \\delta_{xy} -\\frac{1}{2}\\sum_{\\mu} \\left(\\Gamma_{+\\mu} U_\\mu(x) \\delta_{x+\\hat\\mu,y} + \\Gamma_{-\\mu} U^\\dagger_\\mu(x-\\hat\\mu) \\delta_{x-\\hat\\mu,y} \\right) \\right] \\psi_y$,\n",
    "\n",
    "where $\\Gamma_{\\pm \\mu} = \\mathbb{1} \\mp \\gamma_\\mu$, $\\gamma_\\mu$ are the Dirac $\\gamma$-matrices, $U_\\mu(x)$ is the gauge link at site $x$ pointing at direction $\\mu$, and $\\hat\\mu$ is a unit vector pointing in direction $\\mu$.\n",
    "\n",
    "Note that the $\\Gamma$'s are $2 \\times 2$ matrices in 2 spacetime dimensions. Dirac and colour indices have been suppressed in the above formula for clarity."
   ]
  },
  {
   "cell_type": "code",
   "execution_count": null,
   "metadata": {},
   "outputs": [],
   "source": []
  },
  {
   "cell_type": "markdown",
   "metadata": {},
   "source": [
    "# Test"
   ]
  },
  {
   "cell_type": "code",
   "execution_count": 18,
   "metadata": {},
   "outputs": [],
   "source": [
    "gauge_links = np.zeros((lattice_volume, nDim, Nc,Nc))"
   ]
  },
  {
   "cell_type": "code",
   "execution_count": 19,
   "metadata": {},
   "outputs": [],
   "source": [
    "for i in range(lattice_volume):\n",
    "    for j in range(nDim):\n",
    "        gauge_links[i,j] = np.identity(Nc)"
   ]
  },
  {
   "cell_type": "code",
   "execution_count": 20,
   "metadata": {},
   "outputs": [
    {
     "name": "stdout",
     "output_type": "stream",
     "text": [
      "0j\n",
      "0j\n",
      "0j\n",
      "0j\n"
     ]
    }
   ],
   "source": [
    "for nt in range(2):\n",
    "    for nx in range(2):\n",
    "        a = 1\n",
    "        p = np.array([2*np.pi*nt/Nt,2*np.pi*nx/Nx])\n",
    "        #U = np.array([1,0,0])\n",
    "        psi =np.zeros((Nt,Nx, Nc,Ns),dtype = 'complex_')\n",
    "        vorfaktor = np.ones((Nc,Ns), dtype = 'complex_') #np.zeros((Nc,Ns), dtype = 'complex_')\n",
    "        #vorfaktor[0,0] = 1\n",
    "        #vorfaktor[0,1] = 1\n",
    "        for t in range(Nt):\n",
    "            for x in range(Nx):\n",
    "                psi[t,x] = np.round(np.exp(1j* np.dot(p,a*np.array([t,x]))) * vorfaktor)#np.ones((Nc,Ns), dtype = 'complex_')\n",
    "        prefactor = (m + 2 - np.round(np.cos(a*p[1]))\n",
    "                     - np.round(np.cos(a*p[0])))*np.identity(Ns) + 1j*Pauli[2]*np.round(np.sin(a*p[0])) + 1j*Pauli[0]*np.round(np.sin(a*p[1]))\n",
    "        manual_calculation = Transpose(np.matmul(prefactor, Transpose(psi)))\n",
    "        psi_new2 = applyD(lattice_volume,Nt, Nx ,gauge_links,m,Pauli,psi)\n",
    "        print(np.sqrt(np.sum((psi_new2-manual_calculation)**2)))"
   ]
  },
  {
   "cell_type": "code",
   "execution_count": 21,
   "metadata": {},
   "outputs": [
    {
     "name": "stdout",
     "output_type": "stream",
     "text": [
      "0j\n"
     ]
    }
   ],
   "source": [
    "nt = 1 \n",
    "nx = 1\n",
    "\n",
    "a = 1\n",
    "p = np.array([2*np.pi*nt/Nt,2*np.pi*nx/Nx])\n",
    "#U = np.array([1,0,0])\n",
    "psi =np.zeros((Nt,Nx, Nc,Ns),dtype = 'complex_')\n",
    "vorfaktor = np.ones((Nc,Ns), dtype = 'complex_') #np.zeros((Nc,Ns), dtype = 'complex_')\n",
    "#vorfaktor[0,0] = 1\n",
    "#vorfaktor[0,1] = 1\n",
    "for t in range(Nt):\n",
    "    for x in range(Nx):\n",
    "        psi[t,x] = np.round(np.exp(1j* np.dot(p,a*np.array([t,x]))) * vorfaktor)#np.ones((Nc,Ns), dtype = 'complex_')\n",
    "prefactor = (m + 2 - np.round(np.cos(a*p[1]))\n",
    "             - np.round(np.cos(a*p[0])))*np.identity(Ns) + 1j*Pauli[2]*np.round(np.sin(a*p[0])) + 1j*Pauli[0]*np.round(np.sin(a*p[1]))\n",
    "manual_calculation = Transpose(np.matmul(prefactor, Transpose(psi)))\n",
    "psi_new2 = applyD(lattice_volume,Nt, Nx ,gauge_links,m,Pauli,psi)\n",
    "print(np.sqrt(np.sum((psi_new2-manual_calculation)**2)))"
   ]
  },
  {
   "cell_type": "code",
   "execution_count": 22,
   "metadata": {},
   "outputs": [
    {
     "data": {
      "text/plain": [
       "array([[[[0.+0.j, 0.+0.j],\n",
       "         [0.+0.j, 0.+0.j],\n",
       "         [0.+0.j, 0.+0.j]],\n",
       "\n",
       "        [[0.+0.j, 0.+0.j],\n",
       "         [0.+0.j, 0.+0.j],\n",
       "         [0.+0.j, 0.+0.j]],\n",
       "\n",
       "        [[0.+0.j, 0.+0.j],\n",
       "         [0.+0.j, 0.+0.j],\n",
       "         [0.+0.j, 0.+0.j]],\n",
       "\n",
       "        [[0.+0.j, 0.+0.j],\n",
       "         [0.+0.j, 0.+0.j],\n",
       "         [0.+0.j, 0.+0.j]]],\n",
       "\n",
       "\n",
       "       [[[0.+0.j, 0.+0.j],\n",
       "         [0.+0.j, 0.+0.j],\n",
       "         [0.+0.j, 0.+0.j]],\n",
       "\n",
       "        [[0.+0.j, 0.+0.j],\n",
       "         [0.+0.j, 0.+0.j],\n",
       "         [0.+0.j, 0.+0.j]],\n",
       "\n",
       "        [[0.+0.j, 0.+0.j],\n",
       "         [0.+0.j, 0.+0.j],\n",
       "         [0.+0.j, 0.+0.j]],\n",
       "\n",
       "        [[0.+0.j, 0.+0.j],\n",
       "         [0.+0.j, 0.+0.j],\n",
       "         [0.+0.j, 0.+0.j]]],\n",
       "\n",
       "\n",
       "       [[[0.+0.j, 0.+0.j],\n",
       "         [0.+0.j, 0.+0.j],\n",
       "         [0.+0.j, 0.+0.j]],\n",
       "\n",
       "        [[0.+0.j, 0.+0.j],\n",
       "         [0.+0.j, 0.+0.j],\n",
       "         [0.+0.j, 0.+0.j]],\n",
       "\n",
       "        [[0.+0.j, 0.+0.j],\n",
       "         [0.+0.j, 0.+0.j],\n",
       "         [0.+0.j, 0.+0.j]],\n",
       "\n",
       "        [[0.+0.j, 0.+0.j],\n",
       "         [0.+0.j, 0.+0.j],\n",
       "         [0.+0.j, 0.+0.j]]],\n",
       "\n",
       "\n",
       "       [[[0.+0.j, 0.+0.j],\n",
       "         [0.+0.j, 0.+0.j],\n",
       "         [0.+0.j, 0.+0.j]],\n",
       "\n",
       "        [[0.+0.j, 0.+0.j],\n",
       "         [0.+0.j, 0.+0.j],\n",
       "         [0.+0.j, 0.+0.j]],\n",
       "\n",
       "        [[0.+0.j, 0.+0.j],\n",
       "         [0.+0.j, 0.+0.j],\n",
       "         [0.+0.j, 0.+0.j]],\n",
       "\n",
       "        [[0.+0.j, 0.+0.j],\n",
       "         [0.+0.j, 0.+0.j],\n",
       "         [0.+0.j, 0.+0.j]]]])"
      ]
     },
     "execution_count": 22,
     "metadata": {},
     "output_type": "execute_result"
    }
   ],
   "source": [
    "psi_new2-manual_calculation"
   ]
  },
  {
   "cell_type": "markdown",
   "metadata": {},
   "source": [
    "### Test # 2"
   ]
  },
  {
   "cell_type": "code",
   "execution_count": 23,
   "metadata": {},
   "outputs": [],
   "source": [
    "U = np.diag(np.arange(3)+3)\n",
    "U[0,2] = 12\n",
    "U[2,0] = U[0,2]\n",
    "U[0,1] = -111\n",
    "U[1,0] = U[0,1]\n",
    "U[1,2] = -34\n",
    "U[2,1] = U[1,2]"
   ]
  },
  {
   "cell_type": "code",
   "execution_count": 24,
   "metadata": {},
   "outputs": [],
   "source": [
    "gauge_links = np.zeros((lattice_volume, nDim, Nc,Nc),dtype = 'complex_' )\n",
    "for i in range(lattice_volume):\n",
    "    for j in range(nDim):\n",
    "        gauge_links[i,j] = U"
   ]
  },
  {
   "cell_type": "code",
   "execution_count": 25,
   "metadata": {},
   "outputs": [
    {
     "name": "stdout",
     "output_type": "stream",
     "text": [
      "0j\n",
      "0j\n",
      "0j\n",
      "0j\n",
      "0j\n",
      "0j\n",
      "0j\n",
      "0j\n",
      "0j\n",
      "0j\n",
      "0j\n",
      "0j\n",
      "0j\n",
      "0j\n",
      "0j\n",
      "0j\n",
      "0j\n",
      "0j\n",
      "0j\n",
      "0j\n",
      "0j\n",
      "0j\n",
      "0j\n",
      "0j\n",
      "0j\n"
     ]
    }
   ],
   "source": [
    "for nt in range(5):\n",
    "    for nx in range(5):\n",
    "        a = 1\n",
    "        p = np.array([2*np.pi*nt/Nt,2*np.pi*nx/Nx])\n",
    "        #U = np.array([1,0,0])\n",
    "        psi =np.zeros((Nt,Nx, Nc,Ns),dtype = 'complex_')\n",
    "        vorfaktor = np.ones((Nc,Ns), dtype = 'complex_') #np.zeros((Nc,Ns), dtype = 'complex_')\n",
    "        #vorfaktor[0,0] = 1\n",
    "        #vorfaktor[0,1] = 1\n",
    "        for t in range(Nt):\n",
    "            for x in range(Nx):\n",
    "                psi[t,x] = np.round(np.exp(1j* np.dot(p,a*np.array([t,x]))) * vorfaktor)#np.ones((Nc,Ns), dtype = 'complex_')\n",
    "        prefactor1 = (m + 2)*np.identity(Ns)  \n",
    "        prefactor_cos = (- np.round(np.cos(a*p[1]))- np.round(np.cos(a*p[0])))*np.identity(Ns)\n",
    "        prefactor_sin = 1j*Pauli[2]*np.round(np.sin(a*p[0])) + 1j*Pauli[0]*np.round(np.sin(a*p[1]))\n",
    "        prefactor2 = prefactor_cos + prefactor_sin\n",
    "        manual_calculation1 = Transpose(np.matmul(prefactor1, Transpose(psi)))\n",
    "        manual_calculation2 = np.matmul(U,Transpose(np.matmul(prefactor2, Transpose(psi))))\n",
    "        manual_calculation = manual_calculation1 + manual_calculation2\n",
    "        psi_new2 = applyD(lattice_volume,Nt, Nx ,gauge_links,m,Pauli,psi)\n",
    "        print(np.sqrt(np.sum((psi_new2-manual_calculation)**2)))"
   ]
  },
  {
   "cell_type": "code",
   "execution_count": 26,
   "metadata": {},
   "outputs": [
    {
     "name": "stdout",
     "output_type": "stream",
     "text": [
      "0j\n"
     ]
    }
   ],
   "source": [
    "nt = 2\n",
    "nx = 3\n",
    "\n",
    "a = 1\n",
    "p = np.array([2*np.pi*nt/Nt,2*np.pi*nx/Nx])\n",
    "#U = np.array([1,0,0])\n",
    "psi =np.zeros((Nt,Nx, Nc,Ns),dtype = 'complex_')\n",
    "vorfaktor = np.ones((Nc,Ns), dtype = 'complex_') #np.zeros((Nc,Ns), dtype = 'complex_')\n",
    "#vorfaktor[0,0] = 1\n",
    "#vorfaktor[0,1] = 1\n",
    "for t in range(Nt):\n",
    "    for x in range(Nx):\n",
    "        psi[t,x] = np.round(np.exp(1j* np.dot(p,a*np.array([t,x]))) * vorfaktor)#np.ones((Nc,Ns), dtype = 'complex_')\n",
    "prefactor1 = (m + 2)*np.identity(Ns)  \n",
    "prefactor_cos = (- np.round(np.cos(a*p[1]))- np.round(np.cos(a*p[0])))*np.identity(Ns)\n",
    "prefactor_sin = 1j*Pauli[2]*np.round(np.sin(a*p[0])) + 1j*Pauli[0]*np.round(np.sin(a*p[1]))\n",
    "prefactor2 = prefactor_cos + prefactor_sin\n",
    "manual_calculation1 = Transpose(np.matmul(prefactor1, Transpose(psi)))\n",
    "manual_calculation2 = np.matmul(U,Transpose(np.matmul(prefactor2, Transpose(psi))))\n",
    "manual_calculation = manual_calculation1 + manual_calculation2\n",
    "psi_new2 = applyD(lattice_volume,Nt, Nx ,gauge_links,m,Pauli,psi)\n",
    "print(np.sqrt(np.sum((psi_new2-manual_calculation)**2)))\n"
   ]
  },
  {
   "cell_type": "code",
   "execution_count": 27,
   "metadata": {},
   "outputs": [
    {
     "data": {
      "text/plain": [
       "array([[[[0.+0.j, 0.+0.j],\n",
       "         [0.+0.j, 0.+0.j],\n",
       "         [0.+0.j, 0.+0.j]],\n",
       "\n",
       "        [[0.+0.j, 0.+0.j],\n",
       "         [0.+0.j, 0.+0.j],\n",
       "         [0.+0.j, 0.+0.j]],\n",
       "\n",
       "        [[0.+0.j, 0.+0.j],\n",
       "         [0.+0.j, 0.+0.j],\n",
       "         [0.+0.j, 0.+0.j]],\n",
       "\n",
       "        [[0.+0.j, 0.+0.j],\n",
       "         [0.+0.j, 0.+0.j],\n",
       "         [0.+0.j, 0.+0.j]]],\n",
       "\n",
       "\n",
       "       [[[0.+0.j, 0.+0.j],\n",
       "         [0.+0.j, 0.+0.j],\n",
       "         [0.+0.j, 0.+0.j]],\n",
       "\n",
       "        [[0.+0.j, 0.+0.j],\n",
       "         [0.+0.j, 0.+0.j],\n",
       "         [0.+0.j, 0.+0.j]],\n",
       "\n",
       "        [[0.+0.j, 0.+0.j],\n",
       "         [0.+0.j, 0.+0.j],\n",
       "         [0.+0.j, 0.+0.j]],\n",
       "\n",
       "        [[0.+0.j, 0.+0.j],\n",
       "         [0.+0.j, 0.+0.j],\n",
       "         [0.+0.j, 0.+0.j]]],\n",
       "\n",
       "\n",
       "       [[[0.+0.j, 0.+0.j],\n",
       "         [0.+0.j, 0.+0.j],\n",
       "         [0.+0.j, 0.+0.j]],\n",
       "\n",
       "        [[0.+0.j, 0.+0.j],\n",
       "         [0.+0.j, 0.+0.j],\n",
       "         [0.+0.j, 0.+0.j]],\n",
       "\n",
       "        [[0.+0.j, 0.+0.j],\n",
       "         [0.+0.j, 0.+0.j],\n",
       "         [0.+0.j, 0.+0.j]],\n",
       "\n",
       "        [[0.+0.j, 0.+0.j],\n",
       "         [0.+0.j, 0.+0.j],\n",
       "         [0.+0.j, 0.+0.j]]],\n",
       "\n",
       "\n",
       "       [[[0.+0.j, 0.+0.j],\n",
       "         [0.+0.j, 0.+0.j],\n",
       "         [0.+0.j, 0.+0.j]],\n",
       "\n",
       "        [[0.+0.j, 0.+0.j],\n",
       "         [0.+0.j, 0.+0.j],\n",
       "         [0.+0.j, 0.+0.j]],\n",
       "\n",
       "        [[0.+0.j, 0.+0.j],\n",
       "         [0.+0.j, 0.+0.j],\n",
       "         [0.+0.j, 0.+0.j]],\n",
       "\n",
       "        [[0.+0.j, 0.+0.j],\n",
       "         [0.+0.j, 0.+0.j],\n",
       "         [0.+0.j, 0.+0.j]]]])"
      ]
     },
     "execution_count": 27,
     "metadata": {},
     "output_type": "execute_result"
    }
   ],
   "source": [
    "(psi_new2-manual_calculation)"
   ]
  },
  {
   "cell_type": "markdown",
   "metadata": {},
   "source": [
    "###### Wrong version"
   ]
  },
  {
   "cell_type": "code",
   "execution_count": 28,
   "metadata": {},
   "outputs": [
    {
     "name": "stdout",
     "output_type": "stream",
     "text": [
      "0j\n"
     ]
    }
   ],
   "source": [
    "\n",
    "a = 1\n",
    "p = np.array([2*np.pi*nt/Nt,2*np.pi*nx/Nx])\n",
    "#U = np.array([1,0,0])\n",
    "psi =np.zeros((Nt,Nx, Nc,Ns),dtype = 'complex_')\n",
    "vorfaktor = np.ones((Nc,Ns), dtype = 'complex_') #np.zeros((Nc,Ns), dtype = 'complex_')\n",
    "#vorfaktor[0,0] = 1\n",
    "#vorfaktor[0,1] = 1\n",
    "for t in range(Nt):\n",
    "    for x in range(Nx):\n",
    "        psi[t,x] = np.round(np.exp(1j* np.dot(p,a*np.array([t,x]))) * vorfaktor)#np.ones((Nc,Ns), dtype = 'complex_')\n",
    "prefactor1 = (m + 2)*np.identity(Ns)\n",
    "prefactor_cos = (- np.round(np.cos(a*p[1])) - np.round(np.cos(a*p[0])))*np.identity(Ns)\n",
    "prefactor_sin = 1j*Pauli[2]*np.round(np.sin(a*p[0])) + 1j*Pauli[0]*np.round(np.sin(a*p[1]))\n",
    "prefactor2 = prefactor_cos + prefactor_sin\n",
    "manual_calculation = np.matmul(U,Transpose(np.matmul(prefactor2, Transpose(psi)))) \n",
    "+ Transpose(np.matmul(prefactor1, Transpose(psi))) # This enter here, was causing the problem!!!!! Careful\n",
    "psi_new2 = applyD(lattice_volume,Nt, Nx ,gauge_links,m,Pauli,psi)\n",
    "print(np.sqrt(np.sum((psi_new2-manual_calculation)**2)))\n"
   ]
  },
  {
   "cell_type": "markdown",
   "metadata": {},
   "source": [
    "## Test # 3"
   ]
  },
  {
   "cell_type": "code",
   "execution_count": 63,
   "metadata": {},
   "outputs": [],
   "source": [
    "U = unitary_group.rvs(3)"
   ]
  },
  {
   "cell_type": "code",
   "execution_count": 64,
   "metadata": {},
   "outputs": [
    {
     "data": {
      "text/plain": [
       "array([[ 1.+0.j, -0.-0.j, -0.-0.j],\n",
       "       [-0.+0.j,  1.+0.j,  0.-0.j],\n",
       "       [-0.+0.j,  0.+0.j,  1.+0.j]])"
      ]
     },
     "execution_count": 64,
     "metadata": {},
     "output_type": "execute_result"
    }
   ],
   "source": [
    "np.round(np.matmul(U, ConjugateTranspose(U)))"
   ]
  },
  {
   "cell_type": "code",
   "execution_count": 65,
   "metadata": {},
   "outputs": [],
   "source": [
    "gauge_links = np.zeros((lattice_volume, nDim, Nc,Nc),dtype = 'complex_' )\n",
    "for i in range(lattice_volume):\n",
    "    for j in range(nDim):\n",
    "        gauge_links[i,j] = U"
   ]
  },
  {
   "cell_type": "code",
   "execution_count": 66,
   "metadata": {},
   "outputs": [],
   "source": [
    "gamma_t_plus = np.identity(Ns) - Pauli[2] \n",
    "gamma_t_minus = np.identity(Ns) + Pauli[2] \n",
    "gamma_x_plus = np.identity(Ns) - Pauli[0] \n",
    "gamma_x_minus = np.identity(Ns) + Pauli[0] "
   ]
  },
  {
   "cell_type": "code",
   "execution_count": 67,
   "metadata": {},
   "outputs": [
    {
     "name": "stdout",
     "output_type": "stream",
     "text": [
      "(3.552713678800501e-15+0j)\n",
      "0j\n",
      "(2.5121479338940403e-15+0j)\n",
      "0j\n",
      "(3.552713678800501e-15+0j)\n",
      "0j\n",
      "0j\n",
      "0j\n",
      "0j\n",
      "0j\n",
      "(1.7763568394002505e-15+0j)\n",
      "0j\n",
      "0j\n",
      "0j\n",
      "(1.7763568394002505e-15+0j)\n",
      "0j\n",
      "0j\n",
      "0j\n",
      "0j\n",
      "0j\n",
      "(3.552713678800501e-15+0j)\n",
      "0j\n",
      "(2.5121479338940403e-15+0j)\n",
      "0j\n",
      "(3.552713678800501e-15+0j)\n"
     ]
    }
   ],
   "source": [
    "for nt in range(5):\n",
    "    for nx in range(5):\n",
    "        a = 1\n",
    "        p = np.array([2*np.pi*nt/Nt,2*np.pi*nx/Nx])\n",
    "        #U = np.array([1,0,0])\n",
    "        psi =np.zeros((Nt,Nx, Nc,Ns),dtype = 'complex_')\n",
    "        vorfaktor = np.ones((Nc,Ns), dtype = 'complex_') #np.zeros((Nc,Ns), dtype = 'complex_')\n",
    "        #vorfaktor[0,0] = 1\n",
    "        #vorfaktor[0,1] = 1\n",
    "        for t in range(Nt):\n",
    "            for x in range(Nx):\n",
    "                psi[t,x] = np.round(np.exp(1j* np.dot(p,a*np.array([t,x]))) * vorfaktor)#np.ones((Nc,Ns), dtype = 'complex_')\n",
    "        prefactor_diagonal = (m + 2)*np.identity(Ns)  \n",
    "        prefactor_plus = (-0.5*gamma_x_plus*np.round(np.exp(1j*a*p[1]))) -(0.5*gamma_t_plus*np.round(np.exp(1j*a*p[0])))\n",
    "        prefactor_minus = (-0.5*gamma_x_minus*np.round(np.exp(-1j*a*p[1]))) - (0.5*gamma_t_minus*np.round(np.exp(-1j*a*p[0])))\n",
    "        manual_calculation_diagonal = Transpose(np.matmul(prefactor_diagonal, Transpose(psi)))\n",
    "        manual_calculation_plus = np.matmul(U,Transpose(np.matmul(prefactor_plus, Transpose(psi))))\n",
    "        manual_calculation_minus = np.matmul(ConjugateTranspose(U),Transpose(np.matmul(prefactor_minus, Transpose(psi))))\n",
    "        manual_calculation = manual_calculation_diagonal + manual_calculation_plus + manual_calculation_minus\n",
    "        \n",
    "        \n",
    "        \n",
    "        \n",
    "        psi_new2 = applyD(lattice_volume,Nt, Nx ,gauge_links,m,Pauli,psi)\n",
    "        print(np.sqrt(np.sum((psi_new2-manual_calculation)**2)))"
   ]
  },
  {
   "cell_type": "code",
   "execution_count": 70,
   "metadata": {},
   "outputs": [
    {
     "name": "stdout",
     "output_type": "stream",
     "text": [
      "(3.552713678800501e-15+0j)\n"
     ]
    }
   ],
   "source": [
    "nt = 0\n",
    "nx = 0\n",
    "a = 1\n",
    "p = np.array([2*np.pi*nt/Nt,2*np.pi*nx/Nx])\n",
    "#U = np.array([1,0,0])\n",
    "psi =np.zeros((Nt,Nx, Nc,Ns),dtype = 'complex_')\n",
    "vorfaktor = np.ones((Nc,Ns), dtype = 'complex_') #np.zeros((Nc,Ns), dtype = 'complex_')\n",
    "#vorfaktor[0,0] = 1\n",
    "#vorfaktor[0,1] = 1\n",
    "for t in range(Nt):\n",
    "    for x in range(Nx):\n",
    "        psi[t,x] = np.round(np.exp(1j* np.dot(p,a*np.array([t,x]))) * vorfaktor)#np.ones((Nc,Ns), dtype = 'complex_')\n",
    "prefactor_diagonal = (m + 2)*np.identity(Ns)  \n",
    "prefactor_plus = (-0.5*gamma_x_plus*np.round(np.exp(1j*a*p[1]))) -(0.5*gamma_t_plus*np.round(np.exp(1j*a*p[0])))\n",
    "prefactor_minus = (-0.5*gamma_x_minus*np.round(np.exp(-1j*a*p[1]))) - (0.5*gamma_t_minus*np.round(np.exp(-1j*a*p[0])))\n",
    "manual_calculation_diagonal = Transpose(np.matmul(prefactor_diagonal, Transpose(psi)))\n",
    "manual_calculation_plus = np.matmul(U,Transpose(np.matmul(prefactor_plus, Transpose(psi))))\n",
    "manual_calculation_minus = np.matmul(ConjugateTranspose(U),Transpose(np.matmul(prefactor_minus, Transpose(psi))))\n",
    "manual_calculation = manual_calculation_diagonal + manual_calculation_plus + manual_calculation_minus\n",
    "\n",
    "\n",
    "\n",
    "\n",
    "psi_new2 = applyD(lattice_volume,Nt, Nx ,gauge_links,m,Pauli,psi)\n",
    "print(np.sqrt(np.sum((psi_new2-manual_calculation)**2)))"
   ]
  },
  {
   "cell_type": "code",
   "execution_count": 71,
   "metadata": {},
   "outputs": [
    {
     "data": {
      "text/plain": [
       "array([[[[0.00000000e+00+0.j, 0.00000000e+00+0.j],\n",
       "         [0.00000000e+00+0.j, 7.88860905e-31+0.j],\n",
       "         [0.00000000e+00+0.j, 0.00000000e+00+0.j]],\n",
       "\n",
       "        [[0.00000000e+00+0.j, 0.00000000e+00+0.j],\n",
       "         [0.00000000e+00+0.j, 7.88860905e-31+0.j],\n",
       "         [0.00000000e+00+0.j, 0.00000000e+00+0.j]],\n",
       "\n",
       "        [[0.00000000e+00+0.j, 0.00000000e+00+0.j],\n",
       "         [0.00000000e+00+0.j, 7.88860905e-31+0.j],\n",
       "         [0.00000000e+00+0.j, 0.00000000e+00+0.j]],\n",
       "\n",
       "        [[0.00000000e+00+0.j, 0.00000000e+00+0.j],\n",
       "         [0.00000000e+00+0.j, 7.88860905e-31+0.j],\n",
       "         [0.00000000e+00+0.j, 0.00000000e+00+0.j]]],\n",
       "\n",
       "\n",
       "       [[[0.00000000e+00+0.j, 0.00000000e+00+0.j],\n",
       "         [0.00000000e+00+0.j, 7.88860905e-31+0.j],\n",
       "         [0.00000000e+00+0.j, 0.00000000e+00+0.j]],\n",
       "\n",
       "        [[0.00000000e+00+0.j, 0.00000000e+00+0.j],\n",
       "         [0.00000000e+00+0.j, 7.88860905e-31+0.j],\n",
       "         [0.00000000e+00+0.j, 0.00000000e+00+0.j]],\n",
       "\n",
       "        [[0.00000000e+00+0.j, 0.00000000e+00+0.j],\n",
       "         [0.00000000e+00+0.j, 7.88860905e-31+0.j],\n",
       "         [0.00000000e+00+0.j, 0.00000000e+00+0.j]],\n",
       "\n",
       "        [[0.00000000e+00+0.j, 0.00000000e+00+0.j],\n",
       "         [0.00000000e+00+0.j, 7.88860905e-31+0.j],\n",
       "         [0.00000000e+00+0.j, 0.00000000e+00+0.j]]],\n",
       "\n",
       "\n",
       "       [[[0.00000000e+00+0.j, 0.00000000e+00+0.j],\n",
       "         [0.00000000e+00+0.j, 7.88860905e-31+0.j],\n",
       "         [0.00000000e+00+0.j, 0.00000000e+00+0.j]],\n",
       "\n",
       "        [[0.00000000e+00+0.j, 0.00000000e+00+0.j],\n",
       "         [0.00000000e+00+0.j, 7.88860905e-31+0.j],\n",
       "         [0.00000000e+00+0.j, 0.00000000e+00+0.j]],\n",
       "\n",
       "        [[0.00000000e+00+0.j, 0.00000000e+00+0.j],\n",
       "         [0.00000000e+00+0.j, 7.88860905e-31+0.j],\n",
       "         [0.00000000e+00+0.j, 0.00000000e+00+0.j]],\n",
       "\n",
       "        [[0.00000000e+00+0.j, 0.00000000e+00+0.j],\n",
       "         [0.00000000e+00+0.j, 7.88860905e-31+0.j],\n",
       "         [0.00000000e+00+0.j, 0.00000000e+00+0.j]]],\n",
       "\n",
       "\n",
       "       [[[0.00000000e+00+0.j, 0.00000000e+00+0.j],\n",
       "         [0.00000000e+00+0.j, 7.88860905e-31+0.j],\n",
       "         [0.00000000e+00+0.j, 0.00000000e+00+0.j]],\n",
       "\n",
       "        [[0.00000000e+00+0.j, 0.00000000e+00+0.j],\n",
       "         [0.00000000e+00+0.j, 7.88860905e-31+0.j],\n",
       "         [0.00000000e+00+0.j, 0.00000000e+00+0.j]],\n",
       "\n",
       "        [[0.00000000e+00+0.j, 0.00000000e+00+0.j],\n",
       "         [0.00000000e+00+0.j, 7.88860905e-31+0.j],\n",
       "         [0.00000000e+00+0.j, 0.00000000e+00+0.j]],\n",
       "\n",
       "        [[0.00000000e+00+0.j, 0.00000000e+00+0.j],\n",
       "         [0.00000000e+00+0.j, 7.88860905e-31+0.j],\n",
       "         [0.00000000e+00+0.j, 0.00000000e+00+0.j]]]])"
      ]
     },
     "execution_count": 71,
     "metadata": {},
     "output_type": "execute_result"
    }
   ],
   "source": [
    "(psi_new2-manual_calculation)**2"
   ]
  },
  {
   "cell_type": "code",
   "execution_count": null,
   "metadata": {},
   "outputs": [],
   "source": []
  },
  {
   "cell_type": "markdown",
   "metadata": {},
   "source": [
    "## Test # 4"
   ]
  },
  {
   "cell_type": "code",
   "execution_count": 36,
   "metadata": {},
   "outputs": [],
   "source": [
    "gauge_links = np.zeros((lattice_volume, nDim, Nc,Nc),dtype = 'complex_' )\n",
    "for i in range(lattice_volume):\n",
    "    for j in range(nDim):\n",
    "        gauge_links[i,j] = unitary_group.rvs(3)"
   ]
  },
  {
   "cell_type": "code",
   "execution_count": 37,
   "metadata": {},
   "outputs": [],
   "source": [
    "Ns = 2\n",
    "Nc = 3\n",
    "m = 1\n",
    "psi = np.random.randn(lattice_volume,Nc,Ns)\n",
    "#gauge_links = np.random.randn(lattice_volume, nDim, Nc,Nc)"
   ]
  },
  {
   "cell_type": "code",
   "execution_count": 38,
   "metadata": {},
   "outputs": [],
   "source": [
    "rows, cols, values_spinors, values_colors = CalculateD(Nx,Nt,Ns,Nc,lattice_volume,gauge_links,m,Pauli)\n",
    "psi_new = SparseMatrixVectorMultiplication(rows, cols, values_spinors, values_colors, psi)\n",
    "# psi_new = SparseMatrixVectorMultiplication(rows, cols, values_spinors, np.transpose(psi_new, axes = (0,2,1)))\n",
    "# psi_new = np.transpose(psi_new, axes = (0,2,1))"
   ]
  },
  {
   "cell_type": "code",
   "execution_count": 39,
   "metadata": {},
   "outputs": [],
   "source": [
    "psi_new2 = applyD(lattice_volume,Nt, Nx ,gauge_links,m,Pauli,psi)"
   ]
  },
  {
   "cell_type": "code",
   "execution_count": 40,
   "metadata": {},
   "outputs": [
    {
     "data": {
      "text/plain": [
       "(3.5388358909926865e-14-3.469446951953614e-16j)"
      ]
     },
     "execution_count": 40,
     "metadata": {},
     "output_type": "execute_result"
    }
   ],
   "source": [
    "np.sum(np.sqrt((LatticeToLinear(psi_new2,lattice_volume)-psi_new)**2))"
   ]
  },
  {
   "cell_type": "code",
   "execution_count": null,
   "metadata": {},
   "outputs": [],
   "source": []
  },
  {
   "cell_type": "code",
   "execution_count": null,
   "metadata": {},
   "outputs": [],
   "source": []
  },
  {
   "cell_type": "code",
   "execution_count": null,
   "metadata": {},
   "outputs": [],
   "source": []
  },
  {
   "cell_type": "code",
   "execution_count": null,
   "metadata": {},
   "outputs": [],
   "source": []
  },
  {
   "cell_type": "code",
   "execution_count": null,
   "metadata": {},
   "outputs": [],
   "source": []
  },
  {
   "cell_type": "code",
   "execution_count": null,
   "metadata": {},
   "outputs": [],
   "source": []
  },
  {
   "cell_type": "code",
   "execution_count": null,
   "metadata": {},
   "outputs": [],
   "source": []
  },
  {
   "cell_type": "code",
   "execution_count": null,
   "metadata": {},
   "outputs": [],
   "source": []
  },
  {
   "cell_type": "code",
   "execution_count": null,
   "metadata": {},
   "outputs": [],
   "source": []
  },
  {
   "cell_type": "code",
   "execution_count": null,
   "metadata": {},
   "outputs": [],
   "source": []
  },
  {
   "cell_type": "code",
   "execution_count": null,
   "metadata": {},
   "outputs": [],
   "source": []
  },
  {
   "cell_type": "code",
   "execution_count": null,
   "metadata": {},
   "outputs": [],
   "source": []
  },
  {
   "cell_type": "code",
   "execution_count": 41,
   "metadata": {},
   "outputs": [
    {
     "data": {
      "text/plain": [
       "3"
      ]
     },
     "execution_count": 41,
     "metadata": {},
     "output_type": "execute_result"
    }
   ],
   "source": [
    "x"
   ]
  },
  {
   "cell_type": "code",
   "execution_count": 42,
   "metadata": {},
   "outputs": [
    {
     "data": {
      "text/plain": [
       "3"
      ]
     },
     "execution_count": 42,
     "metadata": {},
     "output_type": "execute_result"
    }
   ],
   "source": [
    "np.conjugate(x)"
   ]
  },
  {
   "cell_type": "code",
   "execution_count": 43,
   "metadata": {},
   "outputs": [],
   "source": [
    "a = (1j*Pauli[2]*np.round(np.sin(a*p[0])) + 1j*Pauli[0]*np.round(np.sin(a*p[1])))"
   ]
  },
  {
   "cell_type": "code",
   "execution_count": 44,
   "metadata": {},
   "outputs": [
    {
     "data": {
      "text/plain": [
       "(2, 2)"
      ]
     },
     "execution_count": 44,
     "metadata": {},
     "output_type": "execute_result"
    }
   ],
   "source": [
    "a.shape"
   ]
  },
  {
   "cell_type": "code",
   "execution_count": 45,
   "metadata": {},
   "outputs": [
    {
     "name": "stdout",
     "output_type": "stream",
     "text": [
      "(5.019830309919167-9.243732780002638j)\n"
     ]
    }
   ],
   "source": [
    "nt = 2\n",
    "nx = 1\n",
    "\n",
    "a = 1\n",
    "p = np.array([2*np.pi*nt/Nt,2*np.pi*nx/Nx])\n",
    "#U = np.array([1,0,0])\n",
    "psi =np.zeros((Nt,Nx, Nc,Ns),dtype = 'complex_')\n",
    "vorfaktor = np.ones((Nc,Ns), dtype = 'complex_') #np.zeros((Nc,Ns), dtype = 'complex_')\n",
    "#vorfaktor[0,0] = 1\n",
    "#vorfaktor[0,1] = 1\n",
    "for t in range(Nt):\n",
    "    for x in range(Nx):\n",
    "        psi[t,x] = np.round(np.exp(1j* np.dot(p,a*np.array([t,x]))) * vorfaktor)#np.ones((Nc,Ns), dtype = 'complex_')\n",
    "prefactor1 = (m + 2)*np.identity(Ns)\n",
    "prefactor_cos = (- np.round(np.cos(a*p[1])) - np.round(np.cos(a*p[0])))*np.identity(Ns)\n",
    "prefactor_sin = 1j*Pauli[2]*np.round(np.sin(a*p[0])) + 1j*Pauli[0]*np.round(np.sin(a*p[1]))\n",
    "prefactor2 = prefactor_cos + prefactor_sin\n",
    "manual_calculation = np.matmul(U,Transpose(np.matmul(prefactor2, Transpose(psi))))\n",
    "+ Transpose(np.matmul(prefactor1, Transpose(psi)))\n",
    "psi_new2 = applyD(lattice_volume,Nt, Nx ,gauge_links,m,Pauli,psi)\n",
    "print(np.sqrt(np.sum((psi_new2-manual_calculation)**2)))"
   ]
  },
  {
   "cell_type": "code",
   "execution_count": 46,
   "metadata": {},
   "outputs": [
    {
     "data": {
      "text/plain": [
       "array([[[[ 2.45533251-1.09323301j,  2.72501829-1.32810782j],\n",
       "         [ 3.00840676-0.40212993j,  4.35241178-0.48116813j],\n",
       "         [ 1.32617435+0.09696665j,  2.33163097+1.59389068j]],\n",
       "\n",
       "        [[ 0.79308409+2.28168574j, -0.79041178+1.89474035j],\n",
       "         [-1.59268915+3.72550123j,  0.19877027+3.30753351j],\n",
       "         [-0.40046836+3.0790858j , -0.9533844 +1.93548928j]],\n",
       "\n",
       "        [[-1.99035248-1.12732383j, -3.74983219-1.33477308j],\n",
       "         [-1.86146737+0.03121913j, -2.53776903+1.25236865j],\n",
       "         [-3.45960244-0.02040558j, -3.93141512+0.36721802j]],\n",
       "\n",
       "        [[-0.39736677-3.47063151j,  0.47327159-3.87146645j],\n",
       "         [ 1.48178217-3.68543659j,  2.48872516-3.23191004j],\n",
       "         [-0.02075157-3.97862239j, -0.201684  -3.82928055j]]],\n",
       "\n",
       "\n",
       "       [[[-1.82832084+0.81716652j, -1.43522262+1.36975723j],\n",
       "         [-4.64611495-0.16454802j, -3.0430832 +1.83986529j],\n",
       "         [-3.74701877+0.30609824j, -2.83893658+0.68034964j]],\n",
       "\n",
       "        [[-1.29672802-2.0704714j , -1.48624642-3.5172068j ],\n",
       "         [ 0.6018452 -1.18227856j,  0.01178742-2.27459105j],\n",
       "         [-0.82531028-4.1537281j , -1.81368677-3.45762214j]],\n",
       "\n",
       "        [[ 3.4063131 -0.42173759j,  2.18054069-1.96947801j],\n",
       "         [ 4.06632919-2.20075119j,  2.54003724-2.1492843j ],\n",
       "         [ 3.21152258-0.08926681j,  3.48817472+0.52782446j]],\n",
       "\n",
       "        [[-0.24738885+3.39649874j,  0.34613381+2.33105529j],\n",
       "         [ 0.21931627+1.94376906j, -1.17231265+3.04748246j],\n",
       "         [-0.56925056+2.56142774j, -1.63203844+2.02168585j]]],\n",
       "\n",
       "\n",
       "       [[[ 2.61410381+0.88600546j,  2.91459826+0.5440138j ],\n",
       "         [ 1.09956236+0.96952514j,  1.08222444+1.51982317j],\n",
       "         [ 2.70001233-0.36006939j,  3.52959104-0.40865402j]],\n",
       "\n",
       "        [[-1.30742444+3.64995962j, -0.81969613+3.26346837j],\n",
       "         [ 0.3734649 +2.79701895j,  0.42221894+2.02774741j],\n",
       "         [-1.3487064 +2.14980265j,  0.46509052+1.6967584j ]],\n",
       "\n",
       "        [[-2.94225734+0.0536617j , -4.02244673-0.53349412j],\n",
       "         [-4.25865948-1.15688792j, -4.16103148-0.89695746j],\n",
       "         [-0.84982554-0.19071655j, -1.52903173-0.10845254j]],\n",
       "\n",
       "        [[-0.2398899 -2.52950358j,  1.00533553-2.74707361j],\n",
       "         [-0.69513002-2.51474281j,  0.69149858-0.67951996j],\n",
       "         [-0.5649222 -2.46563979j, -0.93524718-3.01287637j]]],\n",
       "\n",
       "\n",
       "       [[[-2.75363484+1.3628927j , -2.65399333-0.57287382j],\n",
       "         [-3.53944148+1.56545279j, -3.09778918-0.61365476j],\n",
       "         [-2.21656233+1.91636161j, -1.93018563+1.75724749j]],\n",
       "\n",
       "        [[-1.97012197-3.1124679j , -0.67138434-4.5188131j ],\n",
       "         [ 1.09506724-1.06447489j,  1.1884553 -1.46645874j],\n",
       "         [ 1.35292736-3.79400574j, -0.27657243-3.70005143j]],\n",
       "\n",
       "        [[ 4.04516437-0.98765905j,  2.92111251-1.36224845j],\n",
       "         [ 3.28851618-0.92422246j,  3.25455521-1.54155944j],\n",
       "         [ 4.08114898+0.51418969j,  3.14521242+1.2289358j ]],\n",
       "\n",
       "        [[ 0.56877793+2.29598393j, -0.50585402+3.30853313j],\n",
       "         [-1.80419858+3.67534865j, -2.30227995+4.49206692j],\n",
       "         [ 0.61006953+2.76147042j,  0.08549901+2.70612458j]]]])"
      ]
     },
     "execution_count": 46,
     "metadata": {},
     "output_type": "execute_result"
    }
   ],
   "source": [
    "psi_new2"
   ]
  },
  {
   "cell_type": "code",
   "execution_count": 47,
   "metadata": {},
   "outputs": [
    {
     "data": {
      "text/plain": [
       "array([[[[ 0.75039431+1.20045595j,  0.75039431+1.20045595j],\n",
       "         [ 1.42356034+1.24252725j,  1.42356034+1.24252725j],\n",
       "         [ 0.64875616-0.06731512j,  0.64875616-0.06731512j]],\n",
       "\n",
       "        [[-1.20045595+0.75039431j, -1.20045595+0.75039431j],\n",
       "         [-1.24252725+1.42356034j, -1.24252725+1.42356034j],\n",
       "         [ 0.06731512+0.64875616j,  0.06731512+0.64875616j]],\n",
       "\n",
       "        [[-0.75039431-1.20045595j, -0.75039431-1.20045595j],\n",
       "         [-1.42356034-1.24252725j, -1.42356034-1.24252725j],\n",
       "         [-0.64875616+0.06731512j, -0.64875616+0.06731512j]],\n",
       "\n",
       "        [[ 1.20045595-0.75039431j,  1.20045595-0.75039431j],\n",
       "         [ 1.24252725-1.42356034j,  1.24252725-1.42356034j],\n",
       "         [-0.06731512-0.64875616j, -0.06731512-0.64875616j]]],\n",
       "\n",
       "\n",
       "       [[[-0.75039431-1.20045595j, -0.75039431-1.20045595j],\n",
       "         [-1.42356034-1.24252725j, -1.42356034-1.24252725j],\n",
       "         [-0.64875616+0.06731512j, -0.64875616+0.06731512j]],\n",
       "\n",
       "        [[ 1.20045595-0.75039431j,  1.20045595-0.75039431j],\n",
       "         [ 1.24252725-1.42356034j,  1.24252725-1.42356034j],\n",
       "         [-0.06731512-0.64875616j, -0.06731512-0.64875616j]],\n",
       "\n",
       "        [[ 0.75039431+1.20045595j,  0.75039431+1.20045595j],\n",
       "         [ 1.42356034+1.24252725j,  1.42356034+1.24252725j],\n",
       "         [ 0.64875616-0.06731512j,  0.64875616-0.06731512j]],\n",
       "\n",
       "        [[-1.20045595+0.75039431j, -1.20045595+0.75039431j],\n",
       "         [-1.24252725+1.42356034j, -1.24252725+1.42356034j],\n",
       "         [ 0.06731512+0.64875616j,  0.06731512+0.64875616j]]],\n",
       "\n",
       "\n",
       "       [[[ 0.75039431+1.20045595j,  0.75039431+1.20045595j],\n",
       "         [ 1.42356034+1.24252725j,  1.42356034+1.24252725j],\n",
       "         [ 0.64875616-0.06731512j,  0.64875616-0.06731512j]],\n",
       "\n",
       "        [[-1.20045595+0.75039431j, -1.20045595+0.75039431j],\n",
       "         [-1.24252725+1.42356034j, -1.24252725+1.42356034j],\n",
       "         [ 0.06731512+0.64875616j,  0.06731512+0.64875616j]],\n",
       "\n",
       "        [[-0.75039431-1.20045595j, -0.75039431-1.20045595j],\n",
       "         [-1.42356034-1.24252725j, -1.42356034-1.24252725j],\n",
       "         [-0.64875616+0.06731512j, -0.64875616+0.06731512j]],\n",
       "\n",
       "        [[ 1.20045595-0.75039431j,  1.20045595-0.75039431j],\n",
       "         [ 1.24252725-1.42356034j,  1.24252725-1.42356034j],\n",
       "         [-0.06731512-0.64875616j, -0.06731512-0.64875616j]]],\n",
       "\n",
       "\n",
       "       [[[-0.75039431-1.20045595j, -0.75039431-1.20045595j],\n",
       "         [-1.42356034-1.24252725j, -1.42356034-1.24252725j],\n",
       "         [-0.64875616+0.06731512j, -0.64875616+0.06731512j]],\n",
       "\n",
       "        [[ 1.20045595-0.75039431j,  1.20045595-0.75039431j],\n",
       "         [ 1.24252725-1.42356034j,  1.24252725-1.42356034j],\n",
       "         [-0.06731512-0.64875616j, -0.06731512-0.64875616j]],\n",
       "\n",
       "        [[ 0.75039431+1.20045595j,  0.75039431+1.20045595j],\n",
       "         [ 1.42356034+1.24252725j,  1.42356034+1.24252725j],\n",
       "         [ 0.64875616-0.06731512j,  0.64875616-0.06731512j]],\n",
       "\n",
       "        [[-1.20045595+0.75039431j, -1.20045595+0.75039431j],\n",
       "         [-1.24252725+1.42356034j, -1.24252725+1.42356034j],\n",
       "         [ 0.06731512+0.64875616j,  0.06731512+0.64875616j]]]])"
      ]
     },
     "execution_count": 47,
     "metadata": {},
     "output_type": "execute_result"
    }
   ],
   "source": [
    "manual_calculation"
   ]
  },
  {
   "cell_type": "code",
   "execution_count": 48,
   "metadata": {},
   "outputs": [
    {
     "data": {
      "text/plain": [
       "array([[3.+1.j, 0.+1.j],\n",
       "       [0.+1.j, 3.-1.j]])"
      ]
     },
     "execution_count": 48,
     "metadata": {},
     "output_type": "execute_result"
    }
   ],
   "source": [
    "prefactor"
   ]
  },
  {
   "cell_type": "code",
   "execution_count": 49,
   "metadata": {},
   "outputs": [
    {
     "data": {
      "text/plain": [
       "array([[[[ 2.45533251-1.09323301j,  2.72501829-1.32810782j],\n",
       "         [ 3.00840676-0.40212993j,  4.35241178-0.48116813j],\n",
       "         [ 1.32617435+0.09696665j,  2.33163097+1.59389068j]],\n",
       "\n",
       "        [[ 0.79308409+2.28168574j, -0.79041178+1.89474035j],\n",
       "         [-1.59268915+3.72550123j,  0.19877027+3.30753351j],\n",
       "         [-0.40046836+3.0790858j , -0.9533844 +1.93548928j]],\n",
       "\n",
       "        [[-1.99035248-1.12732383j, -3.74983219-1.33477308j],\n",
       "         [-1.86146737+0.03121913j, -2.53776903+1.25236865j],\n",
       "         [-3.45960244-0.02040558j, -3.93141512+0.36721802j]],\n",
       "\n",
       "        [[-0.39736677-3.47063151j,  0.47327159-3.87146645j],\n",
       "         [ 1.48178217-3.68543659j,  2.48872516-3.23191004j],\n",
       "         [-0.02075157-3.97862239j, -0.201684  -3.82928055j]]],\n",
       "\n",
       "\n",
       "       [[[-1.82832084+0.81716652j, -1.43522262+1.36975723j],\n",
       "         [-4.64611495-0.16454802j, -3.0430832 +1.83986529j],\n",
       "         [-3.74701877+0.30609824j, -2.83893658+0.68034964j]],\n",
       "\n",
       "        [[-1.29672802-2.0704714j , -1.48624642-3.5172068j ],\n",
       "         [ 0.6018452 -1.18227856j,  0.01178742-2.27459105j],\n",
       "         [-0.82531028-4.1537281j , -1.81368677-3.45762214j]],\n",
       "\n",
       "        [[ 3.4063131 -0.42173759j,  2.18054069-1.96947801j],\n",
       "         [ 4.06632919-2.20075119j,  2.54003724-2.1492843j ],\n",
       "         [ 3.21152258-0.08926681j,  3.48817472+0.52782446j]],\n",
       "\n",
       "        [[-0.24738885+3.39649874j,  0.34613381+2.33105529j],\n",
       "         [ 0.21931627+1.94376906j, -1.17231265+3.04748246j],\n",
       "         [-0.56925056+2.56142774j, -1.63203844+2.02168585j]]],\n",
       "\n",
       "\n",
       "       [[[ 2.61410381+0.88600546j,  2.91459826+0.5440138j ],\n",
       "         [ 1.09956236+0.96952514j,  1.08222444+1.51982317j],\n",
       "         [ 2.70001233-0.36006939j,  3.52959104-0.40865402j]],\n",
       "\n",
       "        [[-1.30742444+3.64995962j, -0.81969613+3.26346837j],\n",
       "         [ 0.3734649 +2.79701895j,  0.42221894+2.02774741j],\n",
       "         [-1.3487064 +2.14980265j,  0.46509052+1.6967584j ]],\n",
       "\n",
       "        [[-2.94225734+0.0536617j , -4.02244673-0.53349412j],\n",
       "         [-4.25865948-1.15688792j, -4.16103148-0.89695746j],\n",
       "         [-0.84982554-0.19071655j, -1.52903173-0.10845254j]],\n",
       "\n",
       "        [[-0.2398899 -2.52950358j,  1.00533553-2.74707361j],\n",
       "         [-0.69513002-2.51474281j,  0.69149858-0.67951996j],\n",
       "         [-0.5649222 -2.46563979j, -0.93524718-3.01287637j]]],\n",
       "\n",
       "\n",
       "       [[[-2.75363484+1.3628927j , -2.65399333-0.57287382j],\n",
       "         [-3.53944148+1.56545279j, -3.09778918-0.61365476j],\n",
       "         [-2.21656233+1.91636161j, -1.93018563+1.75724749j]],\n",
       "\n",
       "        [[-1.97012197-3.1124679j , -0.67138434-4.5188131j ],\n",
       "         [ 1.09506724-1.06447489j,  1.1884553 -1.46645874j],\n",
       "         [ 1.35292736-3.79400574j, -0.27657243-3.70005143j]],\n",
       "\n",
       "        [[ 4.04516437-0.98765905j,  2.92111251-1.36224845j],\n",
       "         [ 3.28851618-0.92422246j,  3.25455521-1.54155944j],\n",
       "         [ 4.08114898+0.51418969j,  3.14521242+1.2289358j ]],\n",
       "\n",
       "        [[ 0.56877793+2.29598393j, -0.50585402+3.30853313j],\n",
       "         [-1.80419858+3.67534865j, -2.30227995+4.49206692j],\n",
       "         [ 0.61006953+2.76147042j,  0.08549901+2.70612458j]]]])"
      ]
     },
     "execution_count": 49,
     "metadata": {},
     "output_type": "execute_result"
    }
   ],
   "source": [
    "psi_new2"
   ]
  },
  {
   "cell_type": "code",
   "execution_count": 50,
   "metadata": {},
   "outputs": [
    {
     "data": {
      "text/plain": [
       "array([[[[ 0.75039431+1.20045595j,  0.75039431+1.20045595j],\n",
       "         [ 1.42356034+1.24252725j,  1.42356034+1.24252725j],\n",
       "         [ 0.64875616-0.06731512j,  0.64875616-0.06731512j]],\n",
       "\n",
       "        [[-1.20045595+0.75039431j, -1.20045595+0.75039431j],\n",
       "         [-1.24252725+1.42356034j, -1.24252725+1.42356034j],\n",
       "         [ 0.06731512+0.64875616j,  0.06731512+0.64875616j]],\n",
       "\n",
       "        [[-0.75039431-1.20045595j, -0.75039431-1.20045595j],\n",
       "         [-1.42356034-1.24252725j, -1.42356034-1.24252725j],\n",
       "         [-0.64875616+0.06731512j, -0.64875616+0.06731512j]],\n",
       "\n",
       "        [[ 1.20045595-0.75039431j,  1.20045595-0.75039431j],\n",
       "         [ 1.24252725-1.42356034j,  1.24252725-1.42356034j],\n",
       "         [-0.06731512-0.64875616j, -0.06731512-0.64875616j]]],\n",
       "\n",
       "\n",
       "       [[[-0.75039431-1.20045595j, -0.75039431-1.20045595j],\n",
       "         [-1.42356034-1.24252725j, -1.42356034-1.24252725j],\n",
       "         [-0.64875616+0.06731512j, -0.64875616+0.06731512j]],\n",
       "\n",
       "        [[ 1.20045595-0.75039431j,  1.20045595-0.75039431j],\n",
       "         [ 1.24252725-1.42356034j,  1.24252725-1.42356034j],\n",
       "         [-0.06731512-0.64875616j, -0.06731512-0.64875616j]],\n",
       "\n",
       "        [[ 0.75039431+1.20045595j,  0.75039431+1.20045595j],\n",
       "         [ 1.42356034+1.24252725j,  1.42356034+1.24252725j],\n",
       "         [ 0.64875616-0.06731512j,  0.64875616-0.06731512j]],\n",
       "\n",
       "        [[-1.20045595+0.75039431j, -1.20045595+0.75039431j],\n",
       "         [-1.24252725+1.42356034j, -1.24252725+1.42356034j],\n",
       "         [ 0.06731512+0.64875616j,  0.06731512+0.64875616j]]],\n",
       "\n",
       "\n",
       "       [[[ 0.75039431+1.20045595j,  0.75039431+1.20045595j],\n",
       "         [ 1.42356034+1.24252725j,  1.42356034+1.24252725j],\n",
       "         [ 0.64875616-0.06731512j,  0.64875616-0.06731512j]],\n",
       "\n",
       "        [[-1.20045595+0.75039431j, -1.20045595+0.75039431j],\n",
       "         [-1.24252725+1.42356034j, -1.24252725+1.42356034j],\n",
       "         [ 0.06731512+0.64875616j,  0.06731512+0.64875616j]],\n",
       "\n",
       "        [[-0.75039431-1.20045595j, -0.75039431-1.20045595j],\n",
       "         [-1.42356034-1.24252725j, -1.42356034-1.24252725j],\n",
       "         [-0.64875616+0.06731512j, -0.64875616+0.06731512j]],\n",
       "\n",
       "        [[ 1.20045595-0.75039431j,  1.20045595-0.75039431j],\n",
       "         [ 1.24252725-1.42356034j,  1.24252725-1.42356034j],\n",
       "         [-0.06731512-0.64875616j, -0.06731512-0.64875616j]]],\n",
       "\n",
       "\n",
       "       [[[-0.75039431-1.20045595j, -0.75039431-1.20045595j],\n",
       "         [-1.42356034-1.24252725j, -1.42356034-1.24252725j],\n",
       "         [-0.64875616+0.06731512j, -0.64875616+0.06731512j]],\n",
       "\n",
       "        [[ 1.20045595-0.75039431j,  1.20045595-0.75039431j],\n",
       "         [ 1.24252725-1.42356034j,  1.24252725-1.42356034j],\n",
       "         [-0.06731512-0.64875616j, -0.06731512-0.64875616j]],\n",
       "\n",
       "        [[ 0.75039431+1.20045595j,  0.75039431+1.20045595j],\n",
       "         [ 1.42356034+1.24252725j,  1.42356034+1.24252725j],\n",
       "         [ 0.64875616-0.06731512j,  0.64875616-0.06731512j]],\n",
       "\n",
       "        [[-1.20045595+0.75039431j, -1.20045595+0.75039431j],\n",
       "         [-1.24252725+1.42356034j, -1.24252725+1.42356034j],\n",
       "         [ 0.06731512+0.64875616j,  0.06731512+0.64875616j]]]])"
      ]
     },
     "execution_count": 50,
     "metadata": {},
     "output_type": "execute_result"
    }
   ],
   "source": [
    "manual_calculation"
   ]
  },
  {
   "cell_type": "code",
   "execution_count": 51,
   "metadata": {},
   "outputs": [
    {
     "ename": "IndexError",
     "evalue": "index 12 is out of bounds for axis 0 with size 4",
     "output_type": "error",
     "traceback": [
      "\u001b[0;31m---------------------------------------------------------------------------\u001b[0m",
      "\u001b[0;31mIndexError\u001b[0m                                Traceback (most recent call last)",
      "\u001b[0;32m<ipython-input-51-8ed6db091ef0>\u001b[0m in \u001b[0;36m<module>\u001b[0;34m\u001b[0m\n\u001b[1;32m      1\u001b[0m \u001b[0mrows\u001b[0m\u001b[0;34m,\u001b[0m \u001b[0mcols\u001b[0m\u001b[0;34m,\u001b[0m \u001b[0mvalues_spinors\u001b[0m\u001b[0;34m,\u001b[0m \u001b[0mvalues_colors\u001b[0m \u001b[0;34m=\u001b[0m \u001b[0mCalculateD\u001b[0m\u001b[0;34m(\u001b[0m\u001b[0mNx\u001b[0m\u001b[0;34m,\u001b[0m\u001b[0mNt\u001b[0m\u001b[0;34m,\u001b[0m\u001b[0mNs\u001b[0m\u001b[0;34m,\u001b[0m\u001b[0mNc\u001b[0m\u001b[0;34m,\u001b[0m\u001b[0mlattice_volume\u001b[0m\u001b[0;34m,\u001b[0m\u001b[0mgauge_links\u001b[0m\u001b[0;34m,\u001b[0m\u001b[0mm\u001b[0m\u001b[0;34m,\u001b[0m\u001b[0mPauli\u001b[0m\u001b[0;34m)\u001b[0m\u001b[0;34m\u001b[0m\u001b[0;34m\u001b[0m\u001b[0m\n\u001b[0;32m----> 2\u001b[0;31m \u001b[0mpsi_new\u001b[0m \u001b[0;34m=\u001b[0m \u001b[0mSparseMatrixVectorMultiplication\u001b[0m\u001b[0;34m(\u001b[0m\u001b[0mrows\u001b[0m\u001b[0;34m,\u001b[0m \u001b[0mcols\u001b[0m\u001b[0;34m,\u001b[0m \u001b[0mvalues_spinors\u001b[0m\u001b[0;34m,\u001b[0m \u001b[0mvalues_colors\u001b[0m\u001b[0;34m,\u001b[0m \u001b[0mpsi\u001b[0m\u001b[0;34m)\u001b[0m\u001b[0;34m\u001b[0m\u001b[0;34m\u001b[0m\u001b[0m\n\u001b[0m",
      "\u001b[0;32m<ipython-input-10-3673eb2919df>\u001b[0m in \u001b[0;36mSparseMatrixVectorMultiplication\u001b[0;34m(rows, cols, values_spinors, values_colors, input_vec)\u001b[0m\n\u001b[1;32m      7\u001b[0m         \u001b[0moutput\u001b[0m \u001b[0;34m=\u001b[0m \u001b[0mnp\u001b[0m\u001b[0;34m.\u001b[0m\u001b[0mzeros\u001b[0m\u001b[0;34m(\u001b[0m\u001b[0minput_vec\u001b[0m\u001b[0;34m[\u001b[0m\u001b[0;36m0\u001b[0m\u001b[0;34m]\u001b[0m\u001b[0;34m.\u001b[0m\u001b[0mshape\u001b[0m\u001b[0;34m,\u001b[0m\u001b[0mdtype\u001b[0m \u001b[0;34m=\u001b[0m \u001b[0;34m'complex_'\u001b[0m\u001b[0;34m)\u001b[0m\u001b[0;34m\u001b[0m\u001b[0;34m\u001b[0m\u001b[0m\n\u001b[1;32m      8\u001b[0m         \u001b[0;32mfor\u001b[0m \u001b[0mj\u001b[0m \u001b[0;32min\u001b[0m \u001b[0mrange\u001b[0m\u001b[0;34m(\u001b[0m\u001b[0mnum_elements\u001b[0m\u001b[0;34m)\u001b[0m\u001b[0;34m:\u001b[0m\u001b[0;34m\u001b[0m\u001b[0;34m\u001b[0m\u001b[0m\n\u001b[0;32m----> 9\u001b[0;31m             output = output + np.matmul(np.matmul(values_colors[row_elem + j],  input_vec[cols[row_elem + j]]),\n\u001b[0m\u001b[1;32m     10\u001b[0m                                         values_spinors[row_elem + j].T)\n\u001b[1;32m     11\u001b[0m         \u001b[0mout_vec\u001b[0m\u001b[0;34m[\u001b[0m\u001b[0mi\u001b[0m\u001b[0;34m]\u001b[0m \u001b[0;34m=\u001b[0m \u001b[0moutput\u001b[0m\u001b[0;34m\u001b[0m\u001b[0;34m\u001b[0m\u001b[0m\n",
      "\u001b[0;31mIndexError\u001b[0m: index 12 is out of bounds for axis 0 with size 4"
     ]
    }
   ],
   "source": [
    "rows, cols, values_spinors, values_colors = CalculateD(Nx,Nt,Ns,Nc,lattice_volume,gauge_links,m,Pauli)\n",
    "psi_new = SparseMatrixVectorMultiplication(rows, cols, values_spinors, values_colors, psi)"
   ]
  },
  {
   "cell_type": "code",
   "execution_count": null,
   "metadata": {},
   "outputs": [],
   "source": [
    "values_colors"
   ]
  },
  {
   "cell_type": "code",
   "execution_count": null,
   "metadata": {},
   "outputs": [],
   "source": [
    "prefactor"
   ]
  },
  {
   "cell_type": "code",
   "execution_count": null,
   "metadata": {},
   "outputs": [],
   "source": [
    "psi_new2"
   ]
  },
  {
   "cell_type": "code",
   "execution_count": null,
   "metadata": {},
   "outputs": [],
   "source": [
    "U"
   ]
  },
  {
   "cell_type": "code",
   "execution_count": null,
   "metadata": {},
   "outputs": [],
   "source": [
    "manual_calculation"
   ]
  },
  {
   "cell_type": "code",
   "execution_count": null,
   "metadata": {},
   "outputs": [],
   "source": []
  },
  {
   "cell_type": "code",
   "execution_count": null,
   "metadata": {},
   "outputs": [],
   "source": []
  },
  {
   "cell_type": "code",
   "execution_count": null,
   "metadata": {},
   "outputs": [],
   "source": [
    "vorfaktor = np.ones((Nc,Ns), dtype = 'complex_') #np.zeros((Nc,Ns), dtype = 'complex_')\n",
    "#vorfaktor[0,0] = 1\n",
    "#vorfaktor[0,1] = 1\n",
    "for t in range(Nt):\n",
    "    for x in range(Nx):\n",
    "        psi[t,x] = np.round(np.exp(1j* np.dot(p,a*np.array([t,x]))) * vorfaktor)#np.ones((Nc,Ns), dtype = 'complex_')"
   ]
  },
  {
   "cell_type": "code",
   "execution_count": null,
   "metadata": {},
   "outputs": [],
   "source": [
    "psi_new2 = applyD(lattice_volume,Nt, Nx ,gauge_links,m,Pauli,psi)"
   ]
  },
  {
   "cell_type": "code",
   "execution_count": null,
   "metadata": {},
   "outputs": [],
   "source": [
    "prefactor = (m + 2 - np.round(np.cos(a*p[1]))\n",
    "             - np.round(np.cos(a*p[0])))*np.identity(Ns) + 1j*Pauli[2]*np.round(np.sin(a*p[0])) + 1j*Pauli[0]*np.round(np.sin(a*p[1]))"
   ]
  },
  {
   "cell_type": "code",
   "execution_count": null,
   "metadata": {},
   "outputs": [],
   "source": [
    "manual_calculation = Transpose(np.matmul(prefactor, Transpose(psi)))"
   ]
  },
  {
   "cell_type": "code",
   "execution_count": null,
   "metadata": {},
   "outputs": [],
   "source": [
    "np.sqrt(np.sum((psi_new2-manual_calculation)**2))"
   ]
  },
  {
   "cell_type": "code",
   "execution_count": null,
   "metadata": {},
   "outputs": [],
   "source": []
  },
  {
   "cell_type": "code",
   "execution_count": null,
   "metadata": {},
   "outputs": [],
   "source": []
  },
  {
   "cell_type": "code",
   "execution_count": null,
   "metadata": {},
   "outputs": [],
   "source": []
  },
  {
   "cell_type": "code",
   "execution_count": null,
   "metadata": {},
   "outputs": [],
   "source": []
  },
  {
   "cell_type": "code",
   "execution_count": null,
   "metadata": {},
   "outputs": [],
   "source": []
  },
  {
   "cell_type": "code",
   "execution_count": null,
   "metadata": {},
   "outputs": [],
   "source": []
  },
  {
   "cell_type": "code",
   "execution_count": null,
   "metadata": {},
   "outputs": [],
   "source": []
  },
  {
   "cell_type": "code",
   "execution_count": null,
   "metadata": {},
   "outputs": [],
   "source": []
  },
  {
   "cell_type": "code",
   "execution_count": null,
   "metadata": {},
   "outputs": [],
   "source": [
    "np.cos(a*p[0])"
   ]
  },
  {
   "cell_type": "code",
   "execution_count": null,
   "metadata": {},
   "outputs": [],
   "source": [
    "Pauli[2]"
   ]
  },
  {
   "cell_type": "code",
   "execution_count": null,
   "metadata": {},
   "outputs": [],
   "source": [
    "1j*Pauli[2]*np.sin(a*p[0])"
   ]
  },
  {
   "cell_type": "code",
   "execution_count": null,
   "metadata": {},
   "outputs": [],
   "source": [
    "Pauli[0]"
   ]
  },
  {
   "cell_type": "code",
   "execution_count": null,
   "metadata": {},
   "outputs": [],
   "source": [
    "1j*Pauli[0]*np.sin(a*p[1])"
   ]
  },
  {
   "cell_type": "code",
   "execution_count": null,
   "metadata": {},
   "outputs": [],
   "source": [
    "p"
   ]
  },
  {
   "cell_type": "code",
   "execution_count": null,
   "metadata": {},
   "outputs": [],
   "source": [
    "p[1]*180/np.pi\n"
   ]
  },
  {
   "cell_type": "code",
   "execution_count": null,
   "metadata": {},
   "outputs": [],
   "source": [
    "psi.shape"
   ]
  },
  {
   "cell_type": "code",
   "execution_count": null,
   "metadata": {},
   "outputs": [],
   "source": [
    "prefactor.shape"
   ]
  },
  {
   "cell_type": "code",
   "execution_count": null,
   "metadata": {},
   "outputs": [],
   "source": []
  },
  {
   "cell_type": "code",
   "execution_count": null,
   "metadata": {},
   "outputs": [],
   "source": [
    "prefactor"
   ]
  },
  {
   "cell_type": "code",
   "execution_count": null,
   "metadata": {},
   "outputs": [],
   "source": []
  },
  {
   "cell_type": "code",
   "execution_count": null,
   "metadata": {},
   "outputs": [],
   "source": []
  },
  {
   "cell_type": "code",
   "execution_count": null,
   "metadata": {},
   "outputs": [],
   "source": [
    "#psi"
   ]
  },
  {
   "cell_type": "code",
   "execution_count": null,
   "metadata": {},
   "outputs": [],
   "source": []
  },
  {
   "cell_type": "code",
   "execution_count": null,
   "metadata": {},
   "outputs": [],
   "source": []
  },
  {
   "cell_type": "code",
   "execution_count": null,
   "metadata": {},
   "outputs": [],
   "source": []
  },
  {
   "cell_type": "code",
   "execution_count": null,
   "metadata": {},
   "outputs": [],
   "source": []
  },
  {
   "cell_type": "code",
   "execution_count": null,
   "metadata": {},
   "outputs": [],
   "source": []
  },
  {
   "cell_type": "code",
   "execution_count": null,
   "metadata": {},
   "outputs": [],
   "source": []
  },
  {
   "cell_type": "code",
   "execution_count": null,
   "metadata": {},
   "outputs": [],
   "source": []
  },
  {
   "cell_type": "code",
   "execution_count": null,
   "metadata": {},
   "outputs": [],
   "source": []
  },
  {
   "cell_type": "code",
   "execution_count": null,
   "metadata": {},
   "outputs": [],
   "source": []
  },
  {
   "cell_type": "code",
   "execution_count": null,
   "metadata": {},
   "outputs": [],
   "source": []
  },
  {
   "cell_type": "code",
   "execution_count": null,
   "metadata": {},
   "outputs": [],
   "source": []
  },
  {
   "cell_type": "code",
   "execution_count": null,
   "metadata": {},
   "outputs": [],
   "source": []
  },
  {
   "cell_type": "code",
   "execution_count": null,
   "metadata": {},
   "outputs": [],
   "source": []
  },
  {
   "cell_type": "code",
   "execution_count": null,
   "metadata": {},
   "outputs": [],
   "source": []
  },
  {
   "cell_type": "code",
   "execution_count": null,
   "metadata": {},
   "outputs": [],
   "source": []
  },
  {
   "cell_type": "code",
   "execution_count": null,
   "metadata": {},
   "outputs": [],
   "source": [
    "print(psi[t,x,:,:])\n",
    "print(manual_calculation[t,x,:,:])\n",
    "print(psi_new2[t,x,:,:])"
   ]
  },
  {
   "cell_type": "code",
   "execution_count": null,
   "metadata": {},
   "outputs": [],
   "source": [
    "np.cos(a*p[1])"
   ]
  },
  {
   "cell_type": "code",
   "execution_count": null,
   "metadata": {},
   "outputs": [],
   "source": [
    "np.cos(a*p[0])"
   ]
  },
  {
   "cell_type": "code",
   "execution_count": null,
   "metadata": {},
   "outputs": [],
   "source": [
    "Pauli[2]"
   ]
  },
  {
   "cell_type": "code",
   "execution_count": null,
   "metadata": {},
   "outputs": [],
   "source": [
    "1j*Pauli[2]*np.sin(a*p[0])"
   ]
  },
  {
   "cell_type": "code",
   "execution_count": null,
   "metadata": {},
   "outputs": [],
   "source": [
    "Pauli[0]"
   ]
  },
  {
   "cell_type": "code",
   "execution_count": null,
   "metadata": {},
   "outputs": [],
   "source": [
    "1j*Pauli[0]*np.sin(a*p[1])"
   ]
  },
  {
   "cell_type": "code",
   "execution_count": null,
   "metadata": {},
   "outputs": [],
   "source": [
    "p"
   ]
  },
  {
   "cell_type": "code",
   "execution_count": null,
   "metadata": {},
   "outputs": [],
   "source": [
    "p[1]*180/np.pi\n"
   ]
  },
  {
   "cell_type": "code",
   "execution_count": null,
   "metadata": {},
   "outputs": [],
   "source": [
    "psi.shape"
   ]
  },
  {
   "cell_type": "code",
   "execution_count": null,
   "metadata": {},
   "outputs": [],
   "source": [
    "prefactor.shape"
   ]
  },
  {
   "cell_type": "code",
   "execution_count": null,
   "metadata": {},
   "outputs": [],
   "source": []
  },
  {
   "cell_type": "code",
   "execution_count": null,
   "metadata": {},
   "outputs": [],
   "source": [
    "prefactor"
   ]
  },
  {
   "cell_type": "code",
   "execution_count": null,
   "metadata": {},
   "outputs": [],
   "source": []
  },
  {
   "cell_type": "code",
   "execution_count": null,
   "metadata": {},
   "outputs": [],
   "source": []
  },
  {
   "cell_type": "code",
   "execution_count": null,
   "metadata": {},
   "outputs": [],
   "source": []
  },
  {
   "cell_type": "code",
   "execution_count": null,
   "metadata": {},
   "outputs": [],
   "source": []
  },
  {
   "cell_type": "code",
   "execution_count": null,
   "metadata": {},
   "outputs": [],
   "source": []
  },
  {
   "cell_type": "code",
   "execution_count": null,
   "metadata": {},
   "outputs": [],
   "source": []
  },
  {
   "cell_type": "code",
   "execution_count": null,
   "metadata": {},
   "outputs": [],
   "source": []
  },
  {
   "cell_type": "code",
   "execution_count": null,
   "metadata": {},
   "outputs": [],
   "source": []
  },
  {
   "cell_type": "code",
   "execution_count": null,
   "metadata": {},
   "outputs": [],
   "source": []
  },
  {
   "cell_type": "code",
   "execution_count": null,
   "metadata": {},
   "outputs": [],
   "source": []
  },
  {
   "cell_type": "code",
   "execution_count": null,
   "metadata": {},
   "outputs": [],
   "source": []
  },
  {
   "cell_type": "code",
   "execution_count": null,
   "metadata": {},
   "outputs": [],
   "source": []
  },
  {
   "cell_type": "code",
   "execution_count": null,
   "metadata": {},
   "outputs": [],
   "source": []
  },
  {
   "cell_type": "code",
   "execution_count": null,
   "metadata": {},
   "outputs": [],
   "source": []
  },
  {
   "cell_type": "code",
   "execution_count": null,
   "metadata": {},
   "outputs": [],
   "source": []
  },
  {
   "cell_type": "code",
   "execution_count": null,
   "metadata": {},
   "outputs": [],
   "source": []
  },
  {
   "cell_type": "code",
   "execution_count": null,
   "metadata": {},
   "outputs": [],
   "source": []
  },
  {
   "cell_type": "code",
   "execution_count": null,
   "metadata": {},
   "outputs": [],
   "source": []
  },
  {
   "cell_type": "code",
   "execution_count": null,
   "metadata": {},
   "outputs": [],
   "source": []
  },
  {
   "cell_type": "code",
   "execution_count": null,
   "metadata": {},
   "outputs": [],
   "source": []
  },
  {
   "cell_type": "code",
   "execution_count": null,
   "metadata": {},
   "outputs": [],
   "source": []
  },
  {
   "cell_type": "code",
   "execution_count": null,
   "metadata": {},
   "outputs": [],
   "source": []
  },
  {
   "cell_type": "code",
   "execution_count": null,
   "metadata": {},
   "outputs": [],
   "source": []
  },
  {
   "cell_type": "code",
   "execution_count": null,
   "metadata": {},
   "outputs": [],
   "source": []
  },
  {
   "cell_type": "code",
   "execution_count": null,
   "metadata": {},
   "outputs": [],
   "source": []
  },
  {
   "cell_type": "markdown",
   "metadata": {},
   "source": [
    "# Schmierpapier"
   ]
  },
  {
   "cell_type": "markdown",
   "metadata": {},
   "source": [
    "Was wrong because the matrix multiplication was done in the wrong rows and cols, because after multiplying with U, it's already diagonal, and value of diagonal is multiplied twice if just implement the right matrix mult, because the diagonal term is considered twice, that's why take the square root"
   ]
  },
  {
   "cell_type": "code",
   "execution_count": null,
   "metadata": {},
   "outputs": [],
   "source": [
    "# def SparseMatrixVectorMultiplication2(rows, cols, vals, input_vec):\n",
    "#     out_vec = np.zeros(input_vec.shape,dtype = 'complex_')\n",
    "#     for i in range(input_vec[:,0,0].size):\n",
    "#         row_elem = rows[i]\n",
    "#         num_elements = rows[i+1] - rows[i]\n",
    "\n",
    "#         output = np.zeros((vals.shape[-2], input_vec.shape[-1]),dtype = 'complex_')\n",
    "#         for j in range(num_elements):\n",
    "#             output = output + np.matmul(vals[row_elem + j],  input_vec[cols[row_elem + j]])\n",
    "#         out_vec[i] = output\n",
    "    \n",
    "#     return out_vec"
   ]
  },
  {
   "cell_type": "code",
   "execution_count": null,
   "metadata": {},
   "outputs": [],
   "source": [
    "# def applyD2(lattice_volume,Nt, Nx ,gauge_links,m,Pauli,psi):\n",
    "#     #I find it easier to broadcast when working with a 2D system, probably not ideal for big calculations, can be corrected\n",
    "#     if len(gauge_links) ==lattice_volume:\n",
    "#         gauge_links = LinearToLattice(gauge_links, Nt,Nx)\n",
    "#     if len(psi) ==lattice_volume:\n",
    "#         psi = LinearToLattice(psi, Nt,Nx)\n",
    "\n",
    "#     diagonal = (m+2)\n",
    "#     #Symetric derivative, each dimension multiplied by a gamma matrix, in 2D, and in this choice, they are pauli matrices\n",
    "#     offdiagonal_spinor_x_plus = Id - Pauli[0]\n",
    "#     offdiagonal_spinor_x_minus = Id + Pauli[0]\n",
    "#     offdiagonal_spinor_t_plus = Id - Pauli[2]\n",
    "#     offdiagonal_spinor_t_minus = Id + Pauli[2]\n",
    "\n",
    "#     gauge_links_shifted_t = np.roll(gauge_links[:,:,0], 1, axis = 0)\n",
    "#     gauge_links_shifted_x = np.roll(gauge_links[:,:,1], 1, axis = 1)\n",
    "\n",
    "#     #define jx, and jt, for choosing the right values for the neighbours considering periodic boundary\n",
    "#     psi_shifted_m_t = np.roll(psi, 1, axis = 0)\n",
    "#     psi_shifted_p_t = np.roll(psi, -1, axis = 0)\n",
    "#     psi_shifted_m_x = np.roll(psi, 1, axis = 1)\n",
    "#     psi_shifted_p_x = np.roll(psi, -1, axis = 1)\n",
    "\n",
    "\n",
    "#     #Apply the gamma matrices to the sum of NN, (maybe this part is not right in sense of the spin indices, idk)\n",
    "#     time_contribution_m = np.matmul(np.transpose(gauge_links_shifted_t, axes = (0,1,3,2)), psi_shifted_m_t)\n",
    "#     time_contribution_p = np.matmul(gauge_links[:,:,0,:,:], psi_shifted_p_t)\n",
    "#     space_contribution_m = np.matmul(np.transpose(gauge_links_shifted_x, axes = (0,1,3,2)), psi_shifted_m_x)\n",
    "#     space_contribution_p = np.matmul(gauge_links[:,:,1,:,:], psi_shifted_p_x)\n",
    "\n",
    "#     # Estos matmuls son diferentes a los matmul\n",
    "# #     time_contribution_m = np.matmul(time_contribution_m, Transpose(offdiagonal_spinor_t_minus))\n",
    "# #     time_contribution_p = np.matmul(time_contribution_p, Transpose(offdiagonal_spinor_t_plus))\n",
    "# #     space_contribution_m = np.matmul(space_contribution_m, Transpose(offdiagonal_spinor_x_minus))\n",
    "# #     space_contribution_p = np.matmul(space_contribution_p, Transpose(offdiagonal_spinor_x_plus))\n",
    "\n",
    "\n",
    "#     #Apply psi on the diagonal\n",
    "#     self_contribution = diagonal*psi\n",
    "#     #Add all\n",
    "#     psi_new = self_contribution -0.5* (time_contribution_m + \n",
    "#                                        time_contribution_p + space_contribution_m + space_contribution_p)\n",
    "    \n",
    "#     return psi_new"
   ]
  },
  {
   "cell_type": "code",
   "execution_count": null,
   "metadata": {},
   "outputs": [],
   "source": [
    "# Ns = 2\n",
    "# Nc = 3\n",
    "# m = 1\n",
    "# psi = np.random.randn(lattice_volume,Nc,Ns)\n",
    "# gauge_links = np.random.randn(lattice_volume, nDim, Nc,Nc)\n",
    "# rows, cols, values_spinors, values_colors = CalculateD(Nx,Nt,Ns,Nc,lattice_volume,gauge_links,m,Pauli)\n",
    "# psi_new = SparseMatrixVectorMultiplication2(rows, cols,values_colors, psi)\n",
    "# psi_new = SparseMatrixVectorMultiplication(rows, cols, values_spinors, np.transpose(psi_new, axes = (0,2,1)))\n",
    "# psi_new = np.transpose(psi_new, axes = (0,2,1))"
   ]
  },
  {
   "cell_type": "code",
   "execution_count": null,
   "metadata": {},
   "outputs": [],
   "source": [
    "# psi_new2 = applyD2(lattice_volume,Nt, Nx ,gauge_links,m,Pauli,psi)"
   ]
  },
  {
   "cell_type": "code",
   "execution_count": null,
   "metadata": {},
   "outputs": [],
   "source": [
    "# psi_new"
   ]
  },
  {
   "cell_type": "code",
   "execution_count": null,
   "metadata": {},
   "outputs": [],
   "source": [
    "# psi_new2"
   ]
  },
  {
   "cell_type": "code",
   "execution_count": null,
   "metadata": {},
   "outputs": [],
   "source": []
  },
  {
   "cell_type": "code",
   "execution_count": null,
   "metadata": {},
   "outputs": [],
   "source": [
    "# if len(phi) ==lattice_volume:\n",
    "#     phi = np.reshape(phi, (Nx,Nt,phi.shape[-1]))\n",
    "# if len(psi) ==lattice_volume:\n",
    "#     psi = np.reshape(psi, (Nx,Nt,psi.shape[-1]))    \n",
    "# diagonal = -m*np.ones(phi.shape) -g*phi\n",
    "# offdiagonal1 = 1j*Pauli[0]\n",
    "# offdiagonal2 = 1j*Pauli[2]\n",
    "\n",
    "# a = np.array([-1,1])\n",
    "# x_index = np.arange(Nx)\n",
    "# t_index = np.arange(Nt)\n",
    "# jx = (x_index[:,None]+np.array([-1,1]))%Nx\n",
    "# jt = (t_index[:,None]+np.array([-1,1]))%Nt\n",
    "# time_neighbors = psi[jt.T,:,:]\n",
    "# space_neighbors = psi[:,jx.T,:]\n",
    "# matriix = np.array([[[0,0],[0,0]] , [[1,1],[1,1]]])\n",
    "\n",
    "# time_contribution = np.sum(time_neighbors, axis = 0)\n",
    "# space_contribution = np.sum(space_neighbors, axis = 1)\n",
    "# time_contribution = np.matmul(offdiagonal2,time_contribution[:,:,:,None]).squeeze()\n",
    "# space_contribution = np.matmul(offdiagonal1,space_contribution[:,:,:,None]).squeeze()\n",
    "# self_contribution = diagonal*psi\n",
    "# psi_new = self_contribution + time_contribution + space_contribution"
   ]
  },
  {
   "cell_type": "code",
   "execution_count": null,
   "metadata": {},
   "outputs": [],
   "source": [
    "# matriix = np.array([[[0,0],[0,0]] , [[1,1],[1,1]]])\n",
    "\n",
    "# time_contribution = np.sum(time_neighbors, axis = 0)\n",
    "# space_contribution = np.sum(space_neighbors, axis = 1)\n",
    "# time_contribution = time_contribution[:,:,matriix]*offdiagonal2\n",
    "# space_contribution = space_contribution[:,:,matriix]*offdiagonal1"
   ]
  },
  {
   "cell_type": "code",
   "execution_count": null,
   "metadata": {},
   "outputs": [],
   "source": [
    "# out_vec = np.zeros(input_vec.shape)\n",
    "# for i in range(input_vec[0].size):\n",
    "#     row_elem = rows[i]\n",
    "#     num_elements = rows[i+1] - rows[i]\n",
    "\n",
    "#     output = 0.0\n",
    "#     for j in range(num_elements):\n",
    "#         output += np.matmul(vals[row_elem + j],  input_vec[cols[row_elem + j]])\n",
    "#     out_vec[i] = output\n",
    "\n",
    "# return out_vec"
   ]
  },
  {
   "cell_type": "code",
   "execution_count": null,
   "metadata": {},
   "outputs": [],
   "source": [
    "# values = np.array([])\n",
    "# for i in range(lattice_volume):\n",
    "#     values = np.append(values, np.array([offdiagonal2, \n",
    "#                                          offdiagonal1, diagonal[i]*np.array([[1,0],[0,1]]), offdiagonal1, offdiagonal2]))"
   ]
  },
  {
   "cell_type": "code",
   "execution_count": null,
   "metadata": {},
   "outputs": [],
   "source": [
    "# diagonal = -m*np.ones((lattice_volume,1)) -g*phi\n",
    "# offdiagonal1 = 1j*Pauli[0]\n",
    "# offdiagonal2 = 1j*Pauli[2]"
   ]
  },
  {
   "cell_type": "code",
   "execution_count": null,
   "metadata": {},
   "outputs": [],
   "source": [
    "# values = np.array([])\n",
    "# for i in range(lattice_volume):\n",
    "#     values = np.append(values, np.array([offdiagonal2, \n",
    "#                                          offdiagonal1, diagonal[i]*np.array([[1,0],[0,1]]), offdiagonal1, offdiagonal2]))"
   ]
  },
  {
   "cell_type": "code",
   "execution_count": null,
   "metadata": {},
   "outputs": [],
   "source": [
    "# col_group = np.array([-Nx,-1,0,1,Nx])\n",
    "# col_index = np.array([])\n",
    "# for i in range(lattice_volume):\n",
    "#     col_index = np.append(col_index,\n",
    "#                              np.array([(i%Nx) +((np.floor((i/Nt))-1)%Nt)*Nt\n",
    "#                                        ,(np.floor(i/4)*4)+((i%Nx)-1)%Nx, i,\n",
    "#                                        (np.floor(i/4)*4)+((i%Nx)+1)%Nx, (i%Nx) +((np.floor((i/Nt))+1)%Nt)*Nt]))"
   ]
  },
  {
   "cell_type": "code",
   "execution_count": null,
   "metadata": {},
   "outputs": [],
   "source": []
  }
 ],
 "metadata": {
  "kernelspec": {
   "display_name": "Python 3",
   "language": "python",
   "name": "python3"
  },
  "language_info": {
   "codemirror_mode": {
    "name": "ipython",
    "version": 3
   },
   "file_extension": ".py",
   "mimetype": "text/x-python",
   "name": "python",
   "nbconvert_exporter": "python",
   "pygments_lexer": "ipython3",
   "version": "3.9.2"
  }
 },
 "nbformat": 4,
 "nbformat_minor": 4
}
